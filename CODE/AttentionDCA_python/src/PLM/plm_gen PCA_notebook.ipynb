{
 "cells": [
  {
   "cell_type": "code",
   "execution_count": 1,
   "id": "44eb2645",
   "metadata": {},
   "outputs": [],
   "source": [
    "import numpy as np\n",
    "import torch\n",
    "import os\n",
    "import sys\n",
    "current_dir = os.getcwd()\n",
    "parent_dir = os.path.abspath(os.path.join(current_dir, '..'))\n",
    "sys.path.insert(0, parent_dir)\n",
    "from model import AttentionModel\n",
    "from model_PCA_correlation import AttentionModel_PCA\n",
    "from dcascore import *\n",
    "from utils import read_fasta_alignment, remove_duplicate_sequences, add_PCA_coords\n",
    "\n",
    "# back to original path (in PLM)\n",
    "sys.path.pop(0)  # Removes the parent_dir from sys.path\n",
    "from model import AttentionModel\n",
    "\n",
    "from plm_gen_methods import generate_plm_n_save, generate_coords_n_save, generate_multiple_targets_n_save\n",
    "from seq_utils import read_tensor_from_txt, set_seed, letters_to_nums, modify_seq \n"
   ]
  },
  {
   "cell_type": "code",
   "execution_count": 2,
   "id": "9f9b89b5",
   "metadata": {},
   "outputs": [
    {
     "name": "stdout",
     "output_type": "stream",
     "text": [
      "/Users/marzioformica/Desktop/EPFL/Master/StageLBS/PCA_gen_AI/CODE/AttentionDCA_python/src/PLM\n",
      "/Users/marzioformica/Desktop/EPFL/Master/StageLBS/PCA_gen_AI/CODE/AttentionDCA_python/src\n"
     ]
    }
   ],
   "source": [
    "print(current_dir)\n",
    "print(parent_dir)"
   ]
  },
  {
   "cell_type": "code",
   "execution_count": 2,
   "id": "1e86555c",
   "metadata": {},
   "outputs": [],
   "source": [
    "\"\"\"\n",
    "    Load Q, K, V matrices from jdoms (after training)\n",
    "\"\"\"\n",
    "set_seed()\n",
    "H = 64\n",
    "d= 10\n",
    "N = 174\n",
    "n_epochs = 500\n",
    "nb_PCA_comp=2\n",
    "loss_type = 'without_J'\n",
    "family = 'jdoms' #'jdoms_bacteria_train2'\n",
    "cwd = parent_dir\n",
    "Q_1 = read_tensor_from_txt( cwd +\"/results/{H}_{d}_{family}_{losstype}_{n_epochs}_PCA_brute_force_35_bins/Q_tensor.txt\".format(H=H, d=d, family=family, losstype=loss_type, n_epochs=n_epochs))\n",
    "K_1 = read_tensor_from_txt( cwd +\"/results/{H}_{d}_{family}_{losstype}_{n_epochs}_PCA_brute_force_35_bins/K_tensor.txt\".format(H=H, d=d, family=family, losstype=loss_type, n_epochs=n_epochs))\n",
    "V_1 = read_tensor_from_txt( cwd +\"/results/{H}_{d}_{family}_{losstype}_{n_epochs}_PCA_brute_force_35_bins/V_tensor.txt\".format(H=H, d=d, family=family, losstype=loss_type, n_epochs=n_epochs))\n",
    "H,d,N=Q_1.shape\n",
    "q=V_1.shape[1]\n"
   ]
  },
  {
   "cell_type": "code",
   "execution_count": 3,
   "id": "37d8be3f",
   "metadata": {},
   "outputs": [
    {
     "name": "stdout",
     "output_type": "stream",
     "text": [
      "torch.Size([64, 65, 65])\n",
      "35\n",
      "65\n",
      "torch.Size([35, 35, 65, 65])\n"
     ]
    }
   ],
   "source": [
    "model=AttentionModel(H,d,N,q,Q=Q_1,V=V_1,K=K_1)\n",
    "torch.sum(model.Q-Q_1)\n",
    "device = Q_1.device\n",
    "L = Q_1.shape[-1]\n",
    "W=attention_heads_from_model(model,Q_1,K_1,V_1)\n",
    "print(W.shape)\n",
    "\n",
    "i_indices = torch.arange(L, device=device).unsqueeze(1)\n",
    "j_indices = torch.arange(L, device=device).unsqueeze(0)\n",
    "mask = (i_indices != j_indices).float().unsqueeze(0)  # shape (1, L, L)\n",
    "W = W * mask\n",
    "    \n",
    "# Compute Jtens\n",
    "Jtens = torch.einsum('hri,hab->abri', W, V_1)  # Shape: (q, q, L, L)\n",
    "q = Jtens.shape[0]\n",
    "N = Jtens.shape[2]\n",
    "print(q)\n",
    "print(N)\n",
    "print(Jtens.shape)"
   ]
  },
  {
   "cell_type": "code",
   "execution_count": null,
   "id": "465dd59a",
   "metadata": {},
   "outputs": [],
   "source": [
    "\"\"\"\n",
    "    Generate sequences with PLM random initialization\n",
    "\"\"\"\n",
    "\n",
    "##############################################################\n"
   ]
  },
  {
   "cell_type": "code",
   "execution_count": 5,
   "id": "48ea6a88",
   "metadata": {},
   "outputs": [
    {
     "name": "stderr",
     "output_type": "stream",
     "text": [
      "100%|██████████| 15000/15000 [07:40<00:00, 32.58it/s]\n"
     ]
    },
    {
     "name": "stdout",
     "output_type": "stream",
     "text": [
      "Generated sequences (letters): ['PTEARANCWRDKGDVSETWGWIVFQYSYRWAFH-PEWQYVCWPSIDIQTCTQGWTPFTYRKRV', 'PTEARANCWRDKGDVSETWGWIVFQYSYRWAFH-PEWQSVCWPSIDIQTCTQGWTPFTYRKRV', 'PTEARANCWRDKGDVSETWGWIQFQYSYRWAFH-PEWQSVCWPSIDIQTCTQGWTPFTYRKRV', 'PTEARANCWRDKGDESETWGWIQFQYSYRWAFH-PEWQSVCWPSIDIQTCTQGWTPFTYRKRV', 'PTEARANCWRDTGDESETWGWIQFQYSYRWAFH-PEWQSVCWPSIDIQTCTQGWTPFTYRKRV']\n",
      "Generated sequences saved to generated_sequences_brute_forcePCA_comp\n"
     ]
    },
    {
     "name": "stderr",
     "output_type": "stream",
     "text": [
      "100%|██████████| 15000/15000 [07:29<00:00, 33.34it/s]\n"
     ]
    },
    {
     "name": "stdout",
     "output_type": "stream",
     "text": [
      "Generated sequences (letters): ['VDMSFKLNTWLEFLIIVHCGFHQGTHRMVVWQHGKH-YQVLGAMKNGLMDNDFI-DCLSYR-A', 'VDMSFKLKTWLEFLIIVHCGFHQGTHRMVVWQHGKH-YQVLGAMKNGLMDNDFI-DCLSYR-A', 'VDMSFKLKTWLEFLIIVHCKFHQGTHRMVVWQHGKH-YQVLGAMKNGLMDNDFI-DCLSYR-A', 'VDMSFKLKTWLEFLIIVHCKFHQGTHRMVVWQHGKH-YQVLGAMKRGLMDNDFI-DCLSYR-A', 'VDMSFKLKTWLEFLIIVHCKFHQGTHRMVVWQHGKH-YQVLGAMKRGLFDNDFI-DCLSYR-A']\n",
      "Generated sequences saved to generated_sequences_brute_forcePCA_comp\n"
     ]
    },
    {
     "name": "stderr",
     "output_type": "stream",
     "text": [
      "100%|██████████| 15000/15000 [07:34<00:00, 32.98it/s]\n"
     ]
    },
    {
     "name": "stdout",
     "output_type": "stream",
     "text": [
      "Generated sequences (letters): ['HWERDQRFK-RGVGFGAHYQS-RHIILFRCRN-CLMHKRWYHFPMIKGMQIETLRIHRFKVHS', 'HWERDQRFK-RGMGFGAHYQS-RHIILFRCRN-CLMHKRWYHFPMIKGMQIETLRIHRFKVHS', 'HWERDQRFK-RGMGFGAHYQS-RHIILYRCRN-CLMHKRWYHFPMIKGMQIETLRIHRFKVHS', 'HWERDQRFK-RGMGFGAHYQS-RHIILYRCRN-CLGHKRWYHFPMIKGMQIETLRIHRFKVHS', 'HWERDQRFK-RGMGFGAHYQS-RHIIEYRCRN-CLGHKRWYHFPMIKGMQIETLRIHRFKVHS']\n",
      "Generated sequences saved to generated_sequences_brute_forcePCA_comp\n"
     ]
    },
    {
     "name": "stderr",
     "output_type": "stream",
     "text": [
      "100%|██████████| 15000/15000 [07:30<00:00, 33.27it/s]\n"
     ]
    },
    {
     "name": "stdout",
     "output_type": "stream",
     "text": [
      "Generated sequences (letters): ['PIHGRIAPIHHVKGSHQANMKGF-WKEGFNDGMHS-SFGVVWP-Y-WLRLTIWPCCKLW-VAN', 'PIHGRIAPIHHVKGSHQANMKGF-WKEGFNDGMHS-SFGVVWPLY-WLRLTIWPCCKLW-VAN', 'PVHGRIAPIHHVKGSHQANMKGF-WKEGFNDGMHS-SFGVVWPLY-WLRLTIWPCCKLW-VAN', 'PVHGRIAPIHHVKGSHQANMKGF-WKEGFNDGMHS-SFGVVWPLY-CLRLTIWPCCKLW-VAN', 'PVHGRIAPIHHVKGSHQANMKGF-WKEGFNDGMHS-SFGVVWPLY-CLRLTIWPCCKLW-VAK']\n",
      "Generated sequences saved to generated_sequences_brute_forcePCA_comp\n"
     ]
    },
    {
     "name": "stderr",
     "output_type": "stream",
     "text": [
      "100%|██████████| 15000/15000 [07:35<00:00, 32.93it/s]\n"
     ]
    },
    {
     "name": "stdout",
     "output_type": "stream",
     "text": [
      "Generated sequences (letters): ['FTCSQYVLRNFKW-REYLAQGITFLELIQVDYGH-D-DRIAV-KTCAVSR-LSPNASYYKAGK', 'FTCSQYVLRNFKW-REYLAQGITFLELIQVDYGH-D-DRIAV-KTCAVSR-LSPNASYYKVGK', 'FFCSQYVLRNFKW-REYLAQGITFLELIQVDYGH-D-DRIAV-KTCAVSR-LSPNASYYKVGK', 'FFCSQYVLRNFKW-REYLAQGITNLELIQVDYGH-D-DRIAV-KTCAVSR-LSPNASYYKVGK', 'FFCSEYVLRNFKW-REYLAQGITNLELIQVDYGH-D-DRIAV-KTCAVSR-LSPNASYYKVGK']\n",
      "Generated sequences saved to generated_sequences_brute_forcePCA_comp\n"
     ]
    },
    {
     "name": "stderr",
     "output_type": "stream",
     "text": [
      "100%|██████████| 15000/15000 [07:40<00:00, 32.56it/s]\n"
     ]
    },
    {
     "name": "stdout",
     "output_type": "stream",
     "text": [
      "Generated sequences (letters): ['PNRNQQFGW-WSLLKDWLRQ-NMGQYVEKMCNTRPKIRLVYWWLK--SADDFVVLASYQC-LW', 'PNRNQQFGW-WSLLKDWLRQ-NMGQYVEKMCNTRPKIMLVYWWLK--SADDFVVLASYQC-LW', 'PNRNQQFGW-WSLLKDWLRQ-NMGQYVEKMCNTRVKIMLVYWWLK--SADDFVVLASYQC-LW', 'PNRNQQFGW-WSLLKDWLRQ-NMGQYVEKMCNTRVKIMLVYWWLKA-SADDFVVLASYQC-LW', 'PNRNQEFGW-WSLLKDWLRQ-NMGQYVEKMCNTRVKIMLVYWWLKA-SADDFVVLASYQC-LW']\n",
      "Generated sequences saved to generated_sequences_brute_forcePCA_comp\n"
     ]
    },
    {
     "name": "stderr",
     "output_type": "stream",
     "text": [
      "100%|██████████| 15000/15000 [07:49<00:00, 31.94it/s]\n"
     ]
    },
    {
     "name": "stdout",
     "output_type": "stream",
     "text": [
      "Generated sequences (letters): ['FYSFAKACQGMSNAVHNCGDGNRLHWVNVYTTTGISVQLEYPMKSPQFIIHWHICDIQTY-HE', 'FYSFAKACQGMSNAVHNCGDGNRLHWVNVYTTTGRSVQLEYPMKSPQFIIHWHICDIQTY-HE', 'FYSFAKACQGMSNAVHNCGDGNRLHAVNVYTTTGRSVQLEYPMKSPQFIIHWHICDIQTY-HE', 'FNSFAKACQGMSNAVHNCGDGNRLHAVNVYTTTGRSVQLEYPMKSPQFIIHWHICDIQTY-HE', 'FNSFAKACQGMSNAVHNCGDGNRLHAVNVYTCTGRSVQLEYPMKSPQFIIHWHICDIQTY-HE']\n",
      "Generated sequences saved to generated_sequences_brute_forcePCA_comp\n"
     ]
    },
    {
     "name": "stderr",
     "output_type": "stream",
     "text": [
      "100%|██████████| 15000/15000 [07:59<00:00, 31.30it/s]\n"
     ]
    },
    {
     "name": "stdout",
     "output_type": "stream",
     "text": [
      "Generated sequences (letters): ['HDPPRQMQMWLTNGGRRREDWQKLV-EALAYNRGDHLHKHPVCAPI-KSM--YWGFQNELAFK', 'HDPPRQMQNWLTNGGRRREDWQKLV-EALAYNRGDHLHKHPVCAPI-KSM--YWGFQNELAFK', 'HDPPRQMQNWLTNGGRRRADWQKLV-EALAYNRGDHLHKHPVCAPI-KSM--YWGFQNELAFK', 'HDPPRQMQNWLTNGGRRRADWQKLV-EALAYNRGDHLHKH-VCAPI-KSM--YWGFQNELAFK', 'HDPPPQMQNWLTNGGRRRADWQKLV-EALAYNRGDHLHKH-VCAPI-KSM--YWGFQNELAFK']\n",
      "Generated sequences saved to generated_sequences_brute_forcePCA_comp\n"
     ]
    },
    {
     "name": "stderr",
     "output_type": "stream",
     "text": [
      "100%|██████████| 15000/15000 [07:59<00:00, 31.28it/s]\n"
     ]
    },
    {
     "name": "stdout",
     "output_type": "stream",
     "text": [
      "Generated sequences (letters): ['CLKKGTKHPVSRRVTIQACKKN-PGHHW---LCRKKFCFWLFFMDTEPQMQIKVYSKHRKEVC', 'CLKKGTKYPVSRRVTIQACKKN-PGHHW---LCRKKFCFWLFFMDTEPQMQIKVYSKHRKEVC', 'CLKKGTKYPVSRRVTIQACKKN-PGHHW---LCRKKFCFWLFFMLTEPQMQIKVYSKHRKEVC', 'CLKKDTKYPVSRRVTIQACKKN-PGHHW---LCRKKFCFWLFFMLTEPQMQIKVYSKHRKEVC', 'CLKKDTKYPVSRRVHIQACKKN-PGHHW---LCRKKFCFWLFFMLTEPQMQIKVYSKHRKEVC']\n",
      "Generated sequences saved to generated_sequences_brute_forcePCA_comp\n"
     ]
    },
    {
     "name": "stderr",
     "output_type": "stream",
     "text": [
      "100%|██████████| 15000/15000 [07:59<00:00, 31.25it/s]\n"
     ]
    },
    {
     "name": "stdout",
     "output_type": "stream",
     "text": [
      "Generated sequences (letters): ['AEPTMGSDM-LSNNYQ-MSQGRCKGSDKNSYIC-PIMH-EIQSEPCMCHPCLMTDSINHVYCN', 'AEPTMGSDM-LSNNYQ-MSQGRCKGSDKNSYIC-PIMH-EIQSEPCMCHPCLMTDAINHVYCN', 'AEPTMGSDM-LSNNYQ-MSQGRCKGSDKNSYIC-PIMH--IQSEPCMCHPCLMTDAINHVYCN', 'AEPTMGSDM-LSN-YQ-MSQGRCKGSDKNSYIC-PIMH--IQSEPCMCHPCLMTDAINHVYCN', 'AEPTMGSDM-LSN-YQ-MSQGRCKGSDKNSYIC-PIMH--IQSEPCMCHPQLMTDAINHVYCN']\n",
      "Generated sequences saved to generated_sequences_brute_forcePCA_comp\n"
     ]
    },
    {
     "name": "stderr",
     "output_type": "stream",
     "text": [
      "100%|██████████| 15000/15000 [07:56<00:00, 31.50it/s]\n"
     ]
    },
    {
     "name": "stdout",
     "output_type": "stream",
     "text": [
      "Generated sequences (letters): ['VGMMWDECQKDQMEWQWETRKPYTEHYEVYNDYQTFAVSDHMHHKWGHTEAVRSSVFNKYC-G', 'VGMMWDECQKDEMEWQWETRKPYTEHYEVYNDYQTFAVSDHMHHKWGHTEAVRSSVFNKYC-G', 'VGMMWDECQKDEMEWQWETRKPYTEHYEVYNDYQQFAVSDHMHHKWGHTEAVRSSVFNKYC-G', 'VGMMWDECQKDEMEWQWETRKPYTEHYEVYNDYQQFAVSDHQHHKWGHTEAVRSSVFNKYC-G', 'VGMMWDECQKDEMEWQWETRKPYTEHYEVYNDYQQFAVYDHQHHKWGHTEAVRSSVFNKYC-G']\n",
      "Generated sequences saved to generated_sequences_brute_forcePCA_comp\n"
     ]
    },
    {
     "name": "stderr",
     "output_type": "stream",
     "text": [
      "100%|██████████| 15000/15000 [07:40<00:00, 32.59it/s]\n"
     ]
    },
    {
     "name": "stdout",
     "output_type": "stream",
     "text": [
      "Generated sequences (letters): ['GHPPEVWTVF-YHAYQ-VMKYDWAQTTEIRIIGCCQKIVEPLSFFQECVSTQDDFWP-WPMWH', 'GHNPEVWTVF-YHAYQ-VMKYDWAQTTEIRIIGCCQKIVEPLSFFQECVSTQDDFWP-WPMWH', 'GHNPEVWTVF-YHAYQ-VMKYDWAQTTEIRIIGCCQKIVEPLSFFQECVSTQDD-WP-WPMWH', 'GHNPEVWTVF-YHAYQ-VMKYAWAQTTEIRIIGCCQKIVEPLSFFQECVSTQDD-WP-WPMWH', 'GHNPEVWTVF-YHAYQ-VMKYAWAQTTEIRIIGCLQKIVEPLSFFQECVSTQDD-WP-WPMWH']\n",
      "Generated sequences saved to generated_sequences_brute_forcePCA_comp\n"
     ]
    },
    {
     "name": "stderr",
     "output_type": "stream",
     "text": [
      "100%|██████████| 15000/15000 [07:36<00:00, 32.86it/s]\n"
     ]
    },
    {
     "name": "stdout",
     "output_type": "stream",
     "text": [
      "Generated sequences (letters): ['WQFGENSRRYMMWCRLIKMVQWMMVWCYVLKPKHRMPFVDACSMTMQIRSITMMSINLMDRDT', 'WQFGENSRRYMMWCRLIKMVQWMMVWCYVLGPKHRMPFVDACSMTMQIRSITMMSINLMDRDT', 'WQFGENSRRYMMWCRLIKMVQWMMVVCYVLGPKHRMPFVDACSMTMQIRSITMMSINLMDRDT', 'WQFGENSRRYMMWCRLIKMVQWMMSVCYVLGPKHRMPFVDACSMTMQIRSITMMSINLMDRDT', 'WQFGENSRRYMMWCRLIKMVQWMMSVCYVLGPKHRMPFVDWCSMTMQIRSITMMSINLMDRDT']\n",
      "Generated sequences saved to generated_sequences_brute_forcePCA_comp\n",
      "Total sequences read: 14502\n",
      "Sequences after filtering: 14502\n",
      "(63, 14502)\n",
      "Removing duplicate sequences...\n",
      "Done: 14502 -> 14502 sequences after removing duplicates.\n",
      "[17  5]\n"
     ]
    },
    {
     "name": "stderr",
     "output_type": "stream",
     "text": [
      "100%|██████████| 15000/15000 [07:40<00:00, 32.58it/s]\n"
     ]
    },
    {
     "name": "stdout",
     "output_type": "stream",
     "text": [
      "Generated sequences (letters): ['NWYEILAIKEGKSYRFIKGARRELAKTYHPYQYGLNPLAEYTKLEPNEAYDYLIKGS------', 'NWYEILAIKEGKSYRFIKGARRELAKTYHPYQYGLNPLPEYTKLEPNEAYDYLIKGS------', 'NWYEILAIKEGKSYRFIKGARRELAKTYHPYQYGLNPLPEYTKLEPNEAYDYLIIGS------', 'NWYEILWIKEGKSYRFIKGARRELAKTYHPYQYGLNPLPEYTKLEPNEAYDYLIIGS------', 'NWYEILWIKEGKSYRFIKGRRRELAKTYHPYQYGLNPLPEYTKLEPNEAYDYLIIGS------']\n",
      "Generated sequences saved to generated_sequences_brute_forcePCA_comp\n"
     ]
    },
    {
     "name": "stderr",
     "output_type": "stream",
     "text": [
      "100%|██████████| 15000/15000 [07:35<00:00, 32.91it/s]\n"
     ]
    },
    {
     "name": "stdout",
     "output_type": "stream",
     "text": [
      "Generated sequences (letters): ['QAICQPRVCNPNCQS-EDTSGKCRVLCMCWCQWWHETAAAHCGCFHKIYCLTPIG-RFKKSTF', 'QAICQPRVCNPNCQS-EDTSGKCRVLCMCWCQWWHETAAAHCGCFHKIYCLIPIG-RFKKSTF', 'QAICQPRVCNPNCQS-EDTSGKCRVLCMCWCQWWHETAAAHCGCFHKIYCLIPIG-RFKK-TF', 'QAICQPRVCNPNCQS-EDTSGKCRVLCMCWCQWWHETAAAHCGCFHKIYCLIPIF-RFKK-TF', 'QAICQPRVCNPNCQS-EDTSGKCRVLCMCWCQWWHETAAAHCGCFHKIYCLQPIF-RFKK-TF']\n",
      "Generated sequences saved to generated_sequences_brute_forcePCA_comp\n"
     ]
    },
    {
     "name": "stderr",
     "output_type": "stream",
     "text": [
      "100%|██████████| 15000/15000 [07:39<00:00, 32.62it/s]\n"
     ]
    },
    {
     "name": "stdout",
     "output_type": "stream",
     "text": [
      "Generated sequences (letters): ['-PYAVLELDPGASLEELKRAYKKEAVQYHPDRFPGDKAAGERFKAITEAYD-L----------', '-PYAVLELDPGASLEELLRAYKKEAVQYHPDRFPGDKAAGERFKAITEAYD-L----------', '-PYAVLELDPGASLEELLRAYKKEAVQYHPDRFPGDKAAGERFKAITEAYD-L----------', '-PYTVLELDPGASLEELLRAYKKEAVQYHPDRFPGDKAAGERFKAITEAYD-L----------', '-PYTVLEGDPGASLEELLRAYKKEAVQYHPDRFPGDKAAGERFKAITEAYD-L----------']\n",
      "Generated sequences saved to generated_sequences_brute_forcePCA_comp\n"
     ]
    },
    {
     "name": "stderr",
     "output_type": "stream",
     "text": [
      "100%|██████████| 15000/15000 [07:35<00:00, 32.96it/s]\n"
     ]
    },
    {
     "name": "stdout",
     "output_type": "stream",
     "text": [
      "Generated sequences (letters): ['HSYQIMHMVSAIWGNYSRYKTMTTHIMFSWYTTHWIYMCIQPAP--WLRGEVSMWQRMVMGRY', 'HSYQIMHMVSAIWGNYSRYKTMTTHIMFSCYTTHWIYMCIQPAP--WLRGEVSMWQRMVMGRY', 'VSYQIMHMVSAIWGNYSRYKTMTTHIMFSCYTTHWIYMCIQPAP--WLRGEVSMWQRMVMGRY', 'VSYQIMHMVSAIWGNYSRYKTMTTHIMFSCYTTHWIYMCIQVAP--WLRGEVSMWQRMVMGRY', 'VSYQIMHMVSAIWGNYSRYKTMTTHTMFSCYTTHWIYMCIQVAP--WLRGEVSMWQRMVMGRY']\n",
      "Generated sequences saved to generated_sequences_brute_forcePCA_comp\n"
     ]
    },
    {
     "name": "stderr",
     "output_type": "stream",
     "text": [
      "100%|██████████| 15000/15000 [07:39<00:00, 32.62it/s]\n"
     ]
    },
    {
     "name": "stdout",
     "output_type": "stream",
     "text": [
      "Generated sequences (letters): ['---ELLGLDRTATEASIKAAYRQQAKEHHPDRFE-EKAAEEQFEKLNHAYQMLKTP-------', '---ELLGLDRTATEASIKAAYRQQAKEHHPDRFE-EKAAEEMFEKLNHAYQMLKTP-------', '---ELLGLDRTATEASIKAAYRQQAKEHHPDRFE-EKMAEEMFEKLNHAYQMLKTP-------', '---ELLGLDRTATEASIKAAYRQQAKEHHPDRFE-EKAAEEMFEKLNHAYQMLKTP-------', '---ELLGLDRTATEASIKAAYRQQAKEHHPDRFE-EKAAEEMFEKLTHAYQMLKTP-------']\n",
      "Generated sequences saved to generated_sequences_brute_forcePCA_comp\n"
     ]
    },
    {
     "name": "stderr",
     "output_type": "stream",
     "text": [
      "100%|██████████| 15000/15000 [07:35<00:00, 32.96it/s]\n"
     ]
    },
    {
     "name": "stdout",
     "output_type": "stream",
     "text": [
      "Generated sequences (letters): ['YWYEAIKPVQVPKSREKLIFMCQVILFMNTKEYQFDQINLIN-LKAYEKGNWSDHASRAWANA', 'YWYEAIKPVQVPKSREKLIFMCQVILFMNTKEYQFDQINLIN-LKAYEKGNWFDHASRAWANA', 'YWYEAIKPVQVPKSREKLIFMCQVILFMNTKEYQFDQINLIN-LKAYEYGNWFDHASRAWANA', 'YWYEAIKPVQVPKSREKLIFMCQVILFMNTKEYQFDQINLIN-LKAYEYGNWFDHASRAWANA', 'YWYEAIKPVQVPKSREKTIFMCQVILFMNTKEYQFDQINLIN-LKAYEYGNWFDHASRAWANA']\n",
      "Generated sequences saved to generated_sequences_brute_forcePCA_comp\n"
     ]
    },
    {
     "name": "stderr",
     "output_type": "stream",
     "text": [
      "100%|██████████| 15000/15000 [07:36<00:00, 32.87it/s]\n"
     ]
    },
    {
     "name": "stdout",
     "output_type": "stream",
     "text": [
      "Generated sequences (letters): ['DPYNVLGLEPGDSDEEMKKAYRRKAKLTHPDRY-P-PWEESRFKEIQQAYEFL----------', 'DPYNVLGLERGDSDEEMKKAYRRKAKLTHPDRY-P-PWEESRFKEIQQAYEFL----------', 'DPYNVLGLERGDSDEEMKKAYRRKAKLTHPDRY-P-PWEESRFKEIQQAYEFL----------', 'DPYNVLGLERGASDEEMKKAYRRKAKLTHPDRY-P-PWEESRFKEIQQAYEFL----------', 'DPYNVLGLERGASDEEMKKAYRRKAKLTHPDRY-P-PWEESRFKEIQQAYELL----------']\n",
      "Generated sequences saved to generated_sequences_brute_forcePCA_comp\n"
     ]
    },
    {
     "name": "stderr",
     "output_type": "stream",
     "text": [
      "100%|██████████| 15000/15000 [07:35<00:00, 32.96it/s]\n"
     ]
    },
    {
     "name": "stdout",
     "output_type": "stream",
     "text": [
      "Generated sequences (letters): ['---EILGVKNNFTLTEIKRAYRKLAHKYHPDKNDSSTRH-KKFIEITKAFDILN---------', '---EILGVKNNFTLTEIKRAYRKLAHKYHPDKNDSSTRH-KKFIEITKAFDILN---------', '---EILGVKNNATLTEIKRAYRKLAHKYHPDKNDSSTRH-KKFIEITKAFDILN---------', '---EILGVKNNATLTEIKRAYRKLAHKYHPDKNDSSTRH-KKFIEITKAYDILN---------', '---EILGVKNNATLTEIKRAYRKLAHKYHPDKNDSSTRH-KKFIEITKAYDILN---------']\n",
      "Generated sequences saved to generated_sequences_brute_forcePCA_comp\n"
     ]
    },
    {
     "name": "stderr",
     "output_type": "stream",
     "text": [
      "100%|██████████| 15000/15000 [07:35<00:00, 32.95it/s]\n"
     ]
    },
    {
     "name": "stdout",
     "output_type": "stream",
     "text": [
      "Generated sequences (letters): ['NYYEILGVSKNASQSEIKKAYRRLAKKYHPDLNPKDKEAEEKFKEINEAYEVLSDEEKRRKYD', 'NYYEILGVSKNASQSEIKKAYRRLAKKYHPDLNPPDKEAEEKFKEINEAYEVLSDEEKRRKYD', 'NYYEILGVSKNASQSEIKKAYRRLAKKYHPDLNPPDKEAEEKFKEINEAYEVLSDEEKRRKYD', 'NYYEILGVSKNASQSEIKKAYRRLAKKYHPDLNPPDKEAEEKFKEINEAYEVLSDEEKRRKYD', 'NYYEILGVSKNASQSEIKKAYRRLAKKYHPDLNPPDKEAEEKFKEINEAYEVLSDEEKRRKYD']\n",
      "Generated sequences saved to generated_sequences_brute_forcePCA_comp\n"
     ]
    },
    {
     "name": "stderr",
     "output_type": "stream",
     "text": [
      "100%|██████████| 15000/15000 [07:34<00:00, 32.99it/s]\n"
     ]
    },
    {
     "name": "stdout",
     "output_type": "stream",
     "text": [
      "Generated sequences (letters): ['GLYSLLGISEQASQDEIKKKWKQLARKHHPDMNPNDMNATEQFEQINKAYDILSNGDKKEQYD', 'GLYSLLGISEQASQDEIKKKWKQLARKHHPDMNPNDMNATEQFEQINKAYDILSNGDKKEQYD', 'GLYSLLGISEQASQDEIKKKYKQLARKHHPDMNPNDMNATEQFEQINKAYDILSNGDKKEQYD', 'GLYSLLGISEQASQDEIKKKYRQLARKHHPDMNPNDMNATEQFEQINKAYDILSNGDKKEQYD', 'GLYSLLGISEQASQDEIKKKYRQLARKHHPDMNPNDMNATEQFEQINKAYDILSNGDKKEQYD']\n",
      "Generated sequences saved to generated_sequences_brute_forcePCA_comp\n"
     ]
    },
    {
     "name": "stderr",
     "output_type": "stream",
     "text": [
      "100%|██████████| 15000/15000 [07:35<00:00, 32.93it/s]\n"
     ]
    },
    {
     "name": "stdout",
     "output_type": "stream",
     "text": [
      "Generated sequences (letters): ['DYYEILGVSKNASKDEIKKAYRKLAKKYHPDVN-GDKEAEKKFKEINEAYEVLSDEEKRKKYD', 'DYYEILGVSKNASKDEIKKAYRKLAKKYHPDVN-GDKEAEKKFKEINEAYEVLSDEEKRKKYD', 'DYYEILGVSKNASKDEIKKAYRKLAKKYHPDVN-GDKEAEKKFKEINEAYEVLSDEEKRKKYD', 'DYYEILGVSKNASKDEIKKAYRKLAKKYHPDVN-GDKEAEKKFKEINEAYEVLSDEEKRKKYD', 'DYYEILKVSKNASKDEIKKAYRKLAKKYHPDVN-GDKEAEKKFKEINEAYEVLSDEEKRKKYD']\n",
      "Generated sequences saved to generated_sequences_brute_forcePCA_comp\n"
     ]
    },
    {
     "name": "stderr",
     "output_type": "stream",
     "text": [
      "100%|██████████| 15000/15000 [07:35<00:00, 32.91it/s]\n"
     ]
    },
    {
     "name": "stdout",
     "output_type": "stream",
     "text": [
      "Generated sequences (letters): ['DPYEVLGVPYEAKAEEVKEANRKLSFVCRPDNNPGDRFAKERMIRVTEAYEE-----------', 'DPYEVLGVPYEAKAEEVKEANRKLSFVCRPDNNPGDRFAKERMIRVTEAYEE-----------', 'DPYEVLGVPYEAKAEEIKEANRKLSFVCRPDNNPGDRFAKERMIRVTEAYEE-----------', 'DPYEVLGVPYEAKAEEIKEANRKLSFVCRPDNNPGDRFAKERMIRITEAYEE-----------', 'DPYEVLGVPYEAKAEEIKEANRKLSFVCRPDNNPGDRFAKERMIRITEAYEE-----------']\n",
      "Generated sequences saved to generated_sequences_brute_forcePCA_comp\n"
     ]
    },
    {
     "name": "stderr",
     "output_type": "stream",
     "text": [
      "100%|██████████| 15000/15000 [07:35<00:00, 32.94it/s]\n"
     ]
    },
    {
     "name": "stdout",
     "output_type": "stream",
     "text": [
      "Generated sequences (letters): ['DPYKILGVSKDASDEEIKKAYRKLAKKYHPDLNPGDKEAEEKFKEINAAYELIKK--------', 'DPYKILGVSKDASDEEIKKAYRKLAKKYHPDLNPGDKEAEEKFKEINAAYELIKK--------', 'DPYKILGVSKDASDEEIKKAYRKLAKKYHPDLNPGDKEAEEKFKEINAAYELIKK--------', 'DPYKILGVSKDASDEEIKKAYRKLAKKYHPDLNPGDKEAEEKFKEINAAYELIKK--------', 'DPYKILGVSKDASDEEIKKAYRKLAKKYHPDLNPGDKEAEEKFKEINAAYELIKK--------']\n",
      "Generated sequences saved to generated_sequences_brute_forcePCA_comp\n"
     ]
    }
   ],
   "source": [
    "\n",
    "save_dir = \"generated_sequences_brute_force\"\n",
    "N_seqs = 30000\n",
    "save_name = \"generated_sequences_randinit_30000\"\n",
    "#generate_plm_n_save(save_dir, save_name, Jtens, N_seqs=N_seqs, init_sequence=None,nb_PCA_comp=2,PCA_comp_list=np.array([20,20]))\n",
    "N_seqs=15000\n",
    "betas = [0.01, 0.1, 0.5, 1, 2, 4, 10]\n",
    "\n",
    "for b in betas:\n",
    "    save_name = f\"gen_seqs_randinit_Ns{N_seqs}_b{b}_b_PCA_1_PCA_comp_24_20\"\n",
    "    generate_plm_n_save(save_dir, save_name, Jtens, N_seqs, init_sequence=None,nb_PCA_comp=nb_PCA_comp, beta=b,PCA_comp_list=np.array([24,20]))\n",
    "    if b!=1:\n",
    "        save_name = f\"gen_seqs_randinit_Ns{N_seqs}_b_1_b_PCA{b}_PCA_comp_24_20\"\n",
    "        generate_plm_n_save(save_dir, save_name, Jtens, N_seqs, init_sequence=None, beta=1,nb_PCA_comp=nb_PCA_comp,beta_PCA=b,PCA_comp_list=np.array([24,20]))\n",
    "\n",
    "\"\"\"\n",
    "    Generate sequences with PLM initialization from a sequence\n",
    "\"\"\"\n",
    "file_test_data=r\"C:\\Users\\youss\\OneDrive\\Bureau\\master epfl\\MA2\\TP4 De los Rios\\git_test\\PLM-gen-DCA\\Attention-DCA-main\\CODE\\DataAttentionDCA\\jdoms\\jdoms_bacteria_train2.fasta\"\n",
    "seq_data_test=read_fasta_alignment(file_test_data,0.8)\n",
    "\n",
    "print(seq_data_test.shape)\n",
    "seq_data_test_filtered,_=remove_duplicate_sequences(seq_data_test)\n",
    "seq_data_test_filtered=seq_data_test_filtered.T\n",
    "seq_data_test_filtered_with_PCA= add_PCA_coords(seq_data_test_filtered,35) #####DONT FORGET TO CHANGE NUMBER OF BINS IF NECESSARY\n",
    "\n",
    "\n",
    "#init_sequence = 'DYYQVLGVPKDADAKSIKKAFRKLARKYHPDVNPGDKEAERKFKEANEANEVLSDPEKRKKYD'\n",
    "init_sequence_num = seq_data_test_filtered_with_PCA[0]\n",
    "print(init_sequence_num[-2:])\n",
    "ratio = 0.4\n",
    "init_sequence_num = modify_seq(init_sequence_num, ratio,nb_PCA_comp=2)\n",
    "N_seqs=30000\n",
    "save_name = f\"gen_seqs_w_init_seq_Ns{N_seqs}_r{ratio}\"\n",
    "\n",
    "#generate_plm_n_save(save_dir, save_name, Jtens, N_seqs, init_sequence=init_sequence_num,nb_PCA_comp=nb_PCA_comp)\n",
    "N_seqs=15000\n",
    "betas = [0.01, 0.1, 0.5, 1, 2, 4, 10]\n",
    "for b in betas:\n",
    "    save_name = f\"gen_seqs_w_init_seq_Ns{N_seqs}_r{ratio}_b{b}\"\n",
    "    generate_plm_n_save(save_dir, save_name, Jtens, N_seqs, init_sequence=init_sequence_num,nb_PCA_comp=nb_PCA_comp, beta=b)\n",
    "    if b!=1:\n",
    "        save_name = f\"gen_seqs_w_init_seq_Ns{N_seqs}_r{ratio}_b_1_b_PCA{b}\"\n",
    "        generate_plm_n_save(save_dir, save_name, Jtens, N_seqs, init_sequence=init_sequence_num, beta=1,nb_PCA_comp=nb_PCA_comp,beta_PCA=b)"
   ]
  },
  {
   "cell_type": "markdown",
   "id": "4bcd590c",
   "metadata": {},
   "source": [
    "Brute force specific generation"
   ]
  },
  {
   "cell_type": "code",
   "execution_count": 6,
   "id": "f858f52e",
   "metadata": {},
   "outputs": [
    {
     "name": "stderr",
     "output_type": "stream",
     "text": [
      "  0%|          | 0/15000 [00:00<?, ?it/s]"
     ]
    },
    {
     "name": "stderr",
     "output_type": "stream",
     "text": [
      "100%|██████████| 15000/15000 [07:59<00:00, 31.25it/s]\n"
     ]
    },
    {
     "name": "stdout",
     "output_type": "stream",
     "text": [
      "Generated sequences (letters): ['PWHFTQV-PLL-CFNGDVVDTTHFQWNHC-QWYFWMFRMAYRVITGVNIWRRMWHTSRYFAAG', 'PWHFTQV-PLL-CFNGDVVDTTHSQWNHC-QWYFWMFRMAYRVITGVNIWRRMWHTSRYFAAG', 'PWHFTQV-PLL-CFNGDVVDTTHSQWNHC-QWYFWMFRMARRVITGVNIWRRMWHTSRYFAAG', 'PWHFTQV-PLL-CFNGDVVDTTHSQWNHC-QWYFWMFRMARRVITGVNIWRRMWHPSRYFAAG', 'PWHFTQV-PLL-C-NGDVVDTTHSQWNHC-QWYFWMFRMARRVITGVNIWRRMWHPSRYFAAG']\n",
      "Generated sequences saved to generated_sequences_brute_force_specificPCA_comp\n"
     ]
    },
    {
     "name": "stderr",
     "output_type": "stream",
     "text": [
      "100%|██████████| 15000/15000 [07:59<00:00, 31.31it/s]\n"
     ]
    },
    {
     "name": "stdout",
     "output_type": "stream",
     "text": [
      "Generated sequences (letters): ['CPVDWIGENIYWNVWHPQWHAPSCYGKPLTCTFW-FKVT-M-GMDT-PYKKKRAFCMRSLKED', 'CPVDWIGENIYWNVWHPQWHAPSCYGKPLTCTTW-FKVT-M-GMDT-PYKKKRAFCMRSLKED', 'CPYDWIGENIYWNVWHPQWHAPSCYGKPLTCTTW-FKVT-M-GMDT-PYKKKRAFCMRSLKED', 'CPYDWIGENIYWNVWHPQWHAPSCYGKPLTCTTW-FKVT-M-GMDT-PYKKKRAFCMRSLKED', 'CPYDWIGENKYWNVWHPQWHAPSCYGKPLTCTTW-FKVT-M-GMDT-PYKKKRAFCMRSLKED']\n",
      "Generated sequences saved to generated_sequences_brute_force_specificPCA_comp\n"
     ]
    },
    {
     "name": "stderr",
     "output_type": "stream",
     "text": [
      "100%|██████████| 15000/15000 [07:57<00:00, 31.40it/s]\n"
     ]
    },
    {
     "name": "stdout",
     "output_type": "stream",
     "text": [
      "Generated sequences (letters): ['LFSDMK-WHGQEV-FTHQWYRRIGPSWTILIRAFSY-CVPLYKYHFLSACNWSLNLQGYKRFW', 'LFSDML-WHGQEV-FTHQWYRRIGPSWTILIRAFSY-CVPLYKYHFLSACNWSLNLQGYKRFW', 'LFSDML-WHGQEV-FTHQWYRRIGPSWEILIRAFSY-CVPLYKYHFLSACNWSLNLQGYKRFW', 'LFSDML-WHGQEV-FTHQWYRRIGPGWEILIRAFSY-CVPLYKYHFLSACNWSLNLQGYKRFW', '-FSDML-WHGQEV-FTHQWYRRIGPGWEILIRAFSY-CVPLYKYHFLSACNWSLNLQGYKRFW']\n",
      "Generated sequences saved to generated_sequences_brute_force_specificPCA_comp\n"
     ]
    },
    {
     "name": "stderr",
     "output_type": "stream",
     "text": [
      "100%|██████████| 15000/15000 [07:57<00:00, 31.39it/s]\n"
     ]
    },
    {
     "name": "stdout",
     "output_type": "stream",
     "text": [
      "Generated sequences (letters): ['CLHGIRLSKLHCFWSNDGCHYMAYYQVMIMGTWEKANCQFIWQKIYHICPYNPWCPIYTRLRA', 'CLHGIRLSKLHCFWSNDGCHYMAYYQVMIMGTWEKANCQFIWVKIYHICPYNPWCPIYTRLRA', 'CLHGIRLSKLHCFWSNDGCHYTAYYQVMIMGTWEKANCQFIWVKIYHICPYNPWCPIYTRLRA', 'CLHGIRLSKLHCFWSNDGCHYTAYYQVMIMGTWEKARCQFIWVKIYHICPYNPWCPIYTRLRA', 'CLHGIRLSKLHCFWSNDGCHYTAYYQVMIMGTWEKARCQFIWVKIYHICPYNPWCPIYTRLIA']\n",
      "Generated sequences saved to generated_sequences_brute_force_specificPCA_comp\n"
     ]
    },
    {
     "name": "stderr",
     "output_type": "stream",
     "text": [
      "100%|██████████| 15000/15000 [07:57<00:00, 31.39it/s]\n"
     ]
    },
    {
     "name": "stdout",
     "output_type": "stream",
     "text": [
      "Generated sequences (letters): ['-KHSELAPCNPKECNLKIELIAWFRFHLFYRCHRAKFM-WQPIAQKENERFQR-YCI-ASFGQ', '-KHSELAPLNPKECNLKIELIAWFRFHLFYRCHRAKFM-WQPIAQKENERFQR-YCI-ASFGQ', '-KHSELNPLNPKECNLKIELIAWFRFHLFYRCHRAKFM-WQPIAQKENERFQR-YCI-ASFGQ', '-KHSELNPLNPKECNLKIELIAWFRFHLFYRCHRAKFM-WQPIAQKENERFQR-YCI-ASF-Q', '-KHSELNPLNPKDCNLKIELIAWFRFHLFYRCHRAKFM-WQPIAQKENERFQR-YCI-ASF-Q']\n",
      "Generated sequences saved to generated_sequences_brute_force_specificPCA_comp\n"
     ]
    },
    {
     "name": "stderr",
     "output_type": "stream",
     "text": [
      "100%|██████████| 15000/15000 [08:00<00:00, 31.25it/s]\n"
     ]
    },
    {
     "name": "stdout",
     "output_type": "stream",
     "text": [
      "Generated sequences (letters): ['CTCRIMMAWEGIDKQVQRQSSKLHWVSLYSKPHIAMLWHTDSEEDQWYAHHR-HGCLS-HIWT', 'CTCRIMMAWEGIDKQVQRQSSKLHWVSLYSKPHIAMLWHTDSEEDQKYAHHR-HGCLS-HIWT', 'CTCRIMMAWEGIDKQVQRQSSKLHWVSLYSKPHIAMLWHTDSEEDQKYAHHR-HGCLS-HI-T', 'KTCRIMMAWEGIDKQVQRQSSKLHWVSLYSKPHIAMLWHTDSEEDQKYAHHR-HGCLS-HI-T', 'KTCRIMMAWEGIDKQVQRQSSKLHWVSLYLKPHIAMLWHTDSEEDQKYAHHR-HGCLS-HI-T']\n",
      "Generated sequences saved to generated_sequences_brute_force_specificPCA_comp\n"
     ]
    },
    {
     "name": "stderr",
     "output_type": "stream",
     "text": [
      "100%|██████████| 15000/15000 [07:58<00:00, 31.37it/s]\n"
     ]
    },
    {
     "name": "stdout",
     "output_type": "stream",
     "text": [
      "Generated sequences (letters): ['IYIFWYLLVILNDEKGFQKTIGLRDTSYNPSVSLVMAKMT-NNPYQFKCCILIQTSPVESPLH', 'IYIFWYLLVILVDEKGFQKTIGLRDTSYNPSVSLVMAKMT-NNPYQFKCCILIQTSPVESPLH', 'IYIFWLLLVILVDEKGFQKTIGLRDTSYNPSVSLVMAKMT-NNPYQFKCCILIQTSPVESPLH', 'IYIFWLLLVILVDEKGFQKTIGLRDTSYNPSVSLVMAKMT-NNPYQFKCCILIQTSPVESPLH', 'IYIFWLLLVILVDEKGFQKTIGLRDTSYNPSVSLVMAKMT-NNPYQFKACILIQTSPVESPLH']\n",
      "Generated sequences saved to generated_sequences_brute_force_specificPCA_comp\n"
     ]
    },
    {
     "name": "stderr",
     "output_type": "stream",
     "text": [
      "100%|██████████| 15000/15000 [07:57<00:00, 31.41it/s]\n"
     ]
    },
    {
     "name": "stdout",
     "output_type": "stream",
     "text": [
      "Generated sequences (letters): ['VKYPDRSNER-CWENY-NAFFWRYP-AVIPSNQLTDGGGAHNRTFFTLDRFATDPNYFMNYNV', 'VKYPDRSNER-CWENY-NAFFWRYP-AVIPSNQLTDGGGAHNRTFFTLDRFPTDPNYFMNYNV', 'VKYPDRSNER-CWENY-NAFFWRYP-AVIPSNQLTDGGGAHNRTFFTLDRFPTDPNYFMNYNV', 'VKYPDRSNER-CWENY-NAFFWRYP-AVIPSNQLTDGFGAHNRTFFTLDRFPTDPNYFMNYNV', 'VKYPDRSNER-CWENY-NAFFWRYP-AVIPSNQLTDGFGAHNRTFFTLSRFPTDPNYFMNYNV']\n",
      "Generated sequences saved to generated_sequences_brute_force_specificPCA_comp\n"
     ]
    },
    {
     "name": "stderr",
     "output_type": "stream",
     "text": [
      "100%|██████████| 15000/15000 [07:56<00:00, 31.46it/s]\n"
     ]
    },
    {
     "name": "stdout",
     "output_type": "stream",
     "text": [
      "Generated sequences (letters): ['-FQ-ETKLMSD-DNHWCLSMYSFFGHRWDWVTV-YDGTSMRINIGAKSQMHEEFYEHTIM-WW', '-FQ-ETKLMSD-DNHWCLSMYSFFGHRWEWVTV-YDGTSMRINIGAKSQMHEEFYEHTIM-WW', '-FQ-ETKLMSD-DNHWCLSMYRFFGHRWEWVTV-YDGTSMRINIGAKSQMHEEFYEHTIM-WW', '-FQ-ETKLMSE-DNHWCLSMYRFFGHRWEWVTV-YDGTSMRINIGAKSQMHEEFYEHTIM-WW', '-FQ-ETKLMSE-TNHWCLSMYRFFGHRWEWVTV-YDGTSMRINIGAKSQMHEEFYEHTIM-WW']\n",
      "Generated sequences saved to generated_sequences_brute_force_specificPCA_comp\n"
     ]
    }
   ],
   "source": [
    "save_dir = \"generated_sequences_brute_force_specific\"\n",
    "N_seqs = 30000\n",
    "save_name = \"generated_sequences_randinit_30000\"\n",
    "#generate_plm_n_save(save_dir, save_name, Jtens, N_seqs=N_seqs, init_sequence=None,nb_PCA_comp=2,PCA_comp_list=np.array([20,20]))\n",
    "N_seqs=15000\n",
    "betas = [10,20,50]\n",
    "targey_list=[[24,20], [27,5],[8,8]]\n",
    "for target in targey_list:\n",
    "    for b in betas:\n",
    "        save_name = f\"gen_seqs_randinit_Ns{N_seqs}_b{b}_b_PCA_1_PCA_comp_{target[0]}_{target[1]}\"\n",
    "        #generate_plm_n_save(save_dir, save_name, Jtens, N_seqs, init_sequence=None,nb_PCA_comp=nb_PCA_comp, beta=b,PCA_comp_list=np.array([24,20]))\n",
    "        if b!=1:\n",
    "            save_name = f\"gen_seqs_randinit_Ns{N_seqs}_b_2_b_PCA{b}_PCA_comp_{target[0]}_{target[1]}\"\n",
    "            generate_plm_n_save(save_dir, save_name, Jtens, N_seqs, init_sequence=None, beta=2,nb_PCA_comp=nb_PCA_comp,beta_PCA=b,PCA_comp_list=np.array(target))\n"
   ]
  },
  {
   "cell_type": "markdown",
   "id": "b255d1b0",
   "metadata": {},
   "source": [
    "## MODEL 2"
   ]
  },
  {
   "cell_type": "code",
   "execution_count": 6,
   "id": "73df22b1",
   "metadata": {},
   "outputs": [],
   "source": [
    "H = 64\n",
    "d= 10\n",
    "N = 174\n",
    "n_epochs = 500\n",
    "nb_PCA_comp=2\n",
    "loss_type = 'without_J'\n",
    "family = 'jdoms' #'jdoms_bacteria_train2'\n",
    "cwd = parent_dir\n",
    "Q_1 = read_tensor_from_txt( cwd +\"/results/{H}_{d}_{family}_{losstype}_{n_epochs}_youss/Q_tensor.txt\".format(H=H, d=d, family=family, losstype=loss_type, n_epochs=n_epochs))\n",
    "K_1 = read_tensor_from_txt( cwd +\"/results/{H}_{d}_{family}_{losstype}_{n_epochs}_youss/K_tensor.txt\".format(H=H, d=d, family=family, losstype=loss_type, n_epochs=n_epochs))\n",
    "V_1 = read_tensor_from_txt( cwd +\"/results/{H}_{d}_{family}_{losstype}_{n_epochs}_youss/V_tensor.txt\".format(H=H, d=d, family=family, losstype=loss_type, n_epochs=n_epochs))\n",
    "H,d,N=Q_1.shape\n",
    "q=V_1.shape[1]"
   ]
  },
  {
   "cell_type": "code",
   "execution_count": 7,
   "id": "91e8accf",
   "metadata": {},
   "outputs": [
    {
     "name": "stdout",
     "output_type": "stream",
     "text": [
      "torch.Size([64, 63, 63])\n",
      "21\n",
      "63\n",
      "torch.Size([21, 21, 63, 63])\n",
      "63\n"
     ]
    }
   ],
   "source": [
    "model=AttentionModel(H,d,N,q,Q=Q_1,V=V_1,K=K_1)\n",
    "torch.sum(model.Q-Q_1)\n",
    "device = Q_1.device\n",
    "L = Q_1.shape[-1]\n",
    "W=attention_heads_from_model(model,Q_1,K_1,V_1)\n",
    "print(W.shape)\n",
    "\n",
    "i_indices = torch.arange(L, device=device).unsqueeze(1)\n",
    "j_indices = torch.arange(L, device=device).unsqueeze(0)\n",
    "mask = (i_indices != j_indices).float().unsqueeze(0)  # shape (1, L, L)\n",
    "W = W * mask\n",
    "    \n",
    "# Compute Jtens\n",
    "Jtens = torch.einsum('hri,hab->abri', W, V_1)  # Shape: (q, q, L, L)\n",
    "q = Jtens.shape[0]\n",
    "N = Jtens.shape[2]\n",
    "print(q)\n",
    "print(N)\n",
    "print(Jtens.shape)\n",
    "print(Jtens.shape[-1])"
   ]
  },
  {
   "cell_type": "code",
   "execution_count": 8,
   "id": "873b38de",
   "metadata": {},
   "outputs": [
    {
     "name": "stdout",
     "output_type": "stream",
     "text": [
      "torch.Size([64, 63, 2])\n",
      "21\n",
      "63\n",
      "torch.Size([21, 35, 63, 2])\n"
     ]
    }
   ],
   "source": [
    "Q_1 = read_tensor_from_txt( cwd +\"/results/{H}_{d}_{family}_{losstype}_{n_epochs}_PCA_2models_35_bins/Q_tensor.txt\".format(H=H, d=d, family=family, losstype=loss_type, n_epochs=n_epochs))\n",
    "K_1 = read_tensor_from_txt( cwd +\"/results/{H}_{d}_{family}_{losstype}_{n_epochs}_PCA_2models_35_bins/K_tensor.txt\".format(H=H, d=d, family=family, losstype=loss_type, n_epochs=n_epochs))\n",
    "V_1 = read_tensor_from_txt( cwd +\"/results/{H}_{d}_{family}_{losstype}_{n_epochs}_PCA_2models_35_bins/V_tensor.txt\".format(H=H, d=d, family=family, losstype=loss_type, n_epochs=n_epochs))\n",
    "H,d,N1=Q_1.shape\n",
    "_,_,N2=K_1.shape\n",
    "_,q1,q2=V_1.shape\n",
    "model=AttentionModel_PCA(H,d,N1,N2,q1,q2,Q=Q_1,V=V_1,K=K_1)\n",
    "torch.sum(model.Q-Q_1)\n",
    "device = Q_1.device\n",
    "L = Q_1.shape[-1]\n",
    "W=attention_heads_from_model(model,Q_1,K_1,V_1)\n",
    "print(W.shape)\n",
    "\n",
    "# i_indices = torch.arange(L, device=device).unsqueeze(1)\n",
    "# j_indices = torch.arange(L, device=device).unsqueeze(0)\n",
    "# mask = (i_indices != j_indices).float().unsqueeze(0)  # shape (1, L, L)\n",
    "# W = W * mask\n",
    "    \n",
    "# Compute Jtens\n",
    "Jtens_PCA = torch.einsum('hri,hab->abri', W, V_1)  # Shape: (q, q, L, L)\n",
    "q = Jtens.shape[0]\n",
    "N = Jtens.shape[2]\n",
    "print(q)\n",
    "print(N)\n",
    "print(Jtens_PCA.shape)"
   ]
  },
  {
   "cell_type": "code",
   "execution_count": 9,
   "id": "8641005b",
   "metadata": {},
   "outputs": [
    {
     "name": "stderr",
     "output_type": "stream",
     "text": [
      "100%|██████████| 15000/15000 [07:29<00:00, 33.40it/s]\n"
     ]
    },
    {
     "name": "stdout",
     "output_type": "stream",
     "text": [
      "Generated sequences (letters): ['PSAEEILYWFHPCHIRVGQKL-YTYGSSAWEVYYYRIACLAM-ENWDAAFGHK-VSFPMCCIL', 'PSAEEILYWFHPCHIRVGQKL-YTYGSSAWEVYYYRIACLAM-ENWDAAFGHK-VEFPMCCIL', 'PSAEEILYWFHPCHIRVGAKL-YTYGSSAWEVYYYRIACLAM-ENWDAAFGHK-VEFPMCCIL', 'PSAEEILYWFHPCHPRVGAKL-YTYGSSAWEVYYYRIACLAM-ENWDAAFGHK-VEFPMCCIL', 'PSAEEILYWFHPLHPRVGAKL-YTYGSSAWEVYYYRIACLAM-ENWDAAFGHK-VEFPMCCIL']\n",
      "Generated sequences saved to generated_sequences_2Model_PCAPCA_comp\n"
     ]
    },
    {
     "name": "stderr",
     "output_type": "stream",
     "text": [
      "100%|██████████| 15000/15000 [07:39<00:00, 32.62it/s]\n"
     ]
    },
    {
     "name": "stdout",
     "output_type": "stream",
     "text": [
      "Generated sequences (letters): ['HSIPWGWKSYEWETFEWTFELDWSGPM-VNSEDYTYFRHWNFWMPAFWGSETPG-RCGIKWLM', 'HSIPWGWKSYEWETFEWKFELDWSGPM-VNSEDYTYFRHWNFWMPAFWGSETPG-RCGIKWLM', 'HSIPWGWDSYEWETFEWKFELDWSGPM-VNSEDYTYFRHWNFWMPAFWGSETPG-RCGIKWLM', 'HSIPWGWDSYEWETFEWKFELDWSGPM-VNSEDYTYFRHWNFWMPAFWGPETPG-RCGIKWLM', 'HSIPWGWDSYEWETFEWKFELDWSGPM-VNSEYYTYFRHWNFWMPAFWGPETPG-RCGIKWLM']\n",
      "Generated sequences saved to generated_sequences_2Model_PCAPCA_comp\n"
     ]
    },
    {
     "name": "stderr",
     "output_type": "stream",
     "text": [
      "100%|██████████| 15000/15000 [07:35<00:00, 32.90it/s]\n"
     ]
    },
    {
     "name": "stdout",
     "output_type": "stream",
     "text": [
      "Generated sequences (letters): ['KAVD--Q-TML-NKSGMILWQKHAV-SFRANFEPCWMVPAIGKVRTDQEEDR-EQAMYEMTFG', 'KAVD--Q-TML-NKSGMILWQKHAV-SFRAAFEPCWMVPAIGKVRTDQEEDR-EQAMYEMTFG', 'KAVD--Q-TML-NKSGMILWQKHAV-SRRAAFEPCWMVPAIGKVRTDQEEDR-EQAMYEMTFG', 'KACD--Q-TML-NKSGMILWQKHAV-SRRAAFEPCWMVPAIGKVRTDQEEDR-EQAMYEMTFG', 'KACD--Q-TML-NKSGMILWQKHAV-SRRAAYEPCWMVPAIGKVRTDQEEDR-EQAMYEMTFG']\n",
      "Generated sequences saved to generated_sequences_2Model_PCAPCA_comp\n"
     ]
    },
    {
     "name": "stderr",
     "output_type": "stream",
     "text": [
      "100%|██████████| 15000/15000 [07:40<00:00, 32.60it/s]\n"
     ]
    },
    {
     "name": "stdout",
     "output_type": "stream",
     "text": [
      "Generated sequences (letters): ['WKCSKFWISNAQKFRWWMHTKQETEHMHITAQKNI-TRFPIVLGSCAEEPSTHIIGDKEIVFF', 'WKCSKFWISNAQKFRWWMHTKQETEHMHILAQKNI-TRFPIVLGSCAEEPSTHIIGDKEIVFF', 'WKCSKFWISNAQKFRWWMHTKQETEHMHILAQKNI-TRFPIVLGSCA-EPSTHIIGDKEIVFF', 'WKCSKFWISNAQKFRWWMHTKQETEHMHILAQKNI-TRFPIVLGSCA-EPSTHIKGDKEIVFF', 'WKCSKFWISNAQKFRWWM-TKQETEHMHILAQKNI-TRFPIVLGSCA-EPSTHIKGDKEIVFF']\n",
      "Generated sequences saved to generated_sequences_2Model_PCAPCA_comp\n"
     ]
    },
    {
     "name": "stderr",
     "output_type": "stream",
     "text": [
      "100%|██████████| 15000/15000 [07:40<00:00, 32.59it/s]\n"
     ]
    },
    {
     "name": "stdout",
     "output_type": "stream",
     "text": [
      "Generated sequences (letters): ['VLNAKPPTYAKTFGQCIDVYNWTFYGLKWIR-SLCWTDDKDE-EIHDT-VMPQVITR-YDWHF', 'VLNAKPPTYAKTFGQCIDVYNWTFYGLKWIR-SLCWTDDKDE-EIHAT-VMPQVITR-YDWHF', 'VLNAKPPTYAKTFGQCIDVYNWTFYGLKWIR-SLCWTDDKDE-EIHAT-VMPQVITR-YDWHF', 'VLNAKPPTYAKTFGQCIDVYNWTFYGL-WIR-SLCWTDDKDE-EIHAT-VMPQVITR-YDWHF', 'VLNAKPPTYAKTFGQCIDVYNWTFYGL-WIR-SLCWTDDKDE-EIH-T-VMPQVITR-YDWHF']\n",
      "Generated sequences saved to generated_sequences_2Model_PCAPCA_comp\n"
     ]
    },
    {
     "name": "stderr",
     "output_type": "stream",
     "text": [
      "100%|██████████| 15000/15000 [07:46<00:00, 32.13it/s]\n"
     ]
    },
    {
     "name": "stdout",
     "output_type": "stream",
     "text": [
      "Generated sequences (letters): ['DISIFKGRQSF-VYQPIWG-WQRQGDIAQELWAHADCSRLLIFAPGLSAWPIKGYER-WTQRW', 'DISIFKGRQSF-VYQPIWG-WQRQGDIAQELWAHADCSRLLIFAPGLSAWPIKGYER-W-QRW', 'DISIFKGRQSF-VYQP-WG-WQRQGDIAQELWAHADCSRLLIFAPGLSAWPIKGYER-W-QRW', 'D-SIFKGRQSF-VYQP-WG-WQRQGDIAQELWAHADCSRLLIFAPGLSAWPIKGYER-W-QRW', 'D-SIFKGRQSF-VYQP-WG-WQRQGDIAQELWAHADCSRLLIFAPGLSAWPIKGYER-W-QRW']\n",
      "Generated sequences saved to generated_sequences_2Model_PCAPCA_comp\n",
      "Total sequences read: 14502\n",
      "Sequences after filtering: 14502\n",
      "(63, 14502)\n",
      "Removing duplicate sequences...\n",
      "Done: 14502 -> 14502 sequences after removing duplicates.\n",
      "[17  5]\n"
     ]
    },
    {
     "name": "stderr",
     "output_type": "stream",
     "text": [
      "100%|██████████| 15000/15000 [07:52<00:00, 31.71it/s]\n"
     ]
    },
    {
     "name": "stdout",
     "output_type": "stream",
     "text": [
      "Generated sequences (letters): ['IEYRVLNCKEGACQWEIKKAYRTPAKKYHPDWRGLNPLACEKARELPDACDYLSKAS------', 'IEYRVLNCKEGACQWEIKKAYRTPAKKYHPDWRGLNPLACERARELPDACDYLSKAS------', 'IEYRVLNCKEGACQWEIKKAYRQPAKKYHPDWRGLNPLACERARELPDACDYLSKAS------', 'IEYRVLNCKEGACQWEIKKAYRQPAKKYHPDWRGLNPLACERARELPDACDYLSKA-------', 'IEYRVLNCKEGACQWEIKKAYRQPAKKYHPDWRGLNPLACERARELPDACDYLSKA-------']\n",
      "Generated sequences saved to generated_sequences_2Model_PCAPCA_comp\n"
     ]
    },
    {
     "name": "stderr",
     "output_type": "stream",
     "text": [
      "100%|██████████| 15000/15000 [07:44<00:00, 32.30it/s]\n"
     ]
    },
    {
     "name": "stdout",
     "output_type": "stream",
     "text": [
      "Generated sequences (letters): ['-DWEFLGVSQDTDAQQVKYAYKELAKLHHPDIP-----F-AHFQRVHAAMDS-----------', '-DWEFLGVSQDTDAQQVKYAYKQLAKLHHPDIP-----F-AHFQRVHAAMDS-----------', '-DWEFLGVSQDTDAQQVKYAYKQLAKLHHPDIP-----F-AHFQRVHAAMDS-----------', '-DWEVLGVSQDTDAQQVKYAYKQLAKLHHPDIP-----F-AHFQRVHAAMDS-----------', '-DWEVLGVSQDTDAQQVKYAYKQLAKLHHPDIP-----F-AHFQRVHAAMDS-----------']\n",
      "Generated sequences saved to generated_sequences_2Model_PCAPCA_comp\n"
     ]
    },
    {
     "name": "stderr",
     "output_type": "stream",
     "text": [
      "100%|██████████| 15000/15000 [07:40<00:00, 32.57it/s]\n"
     ]
    },
    {
     "name": "stdout",
     "output_type": "stream",
     "text": [
      "Generated sequences (letters): ['DPYAIVEISEPATHEEVRKAFFQKAVRYKPDRG----GDEEVMKALNAAYELLQDA-------', 'DPYAIVEISEPATHEEVRKAFFQKAVRYKPDKG----GDEEVMKALNAAYELLQDA-------', 'DPYAIVEISEPATHEEVRKAFFQKAVRYKPDKG----GDEEVMRALNAAYELLQDA-------', 'DPYAIVEISEPATHEEVRKAFFQKAVRYKPDKG----GDEEVMRALNAAYELLQDA-------', 'DPYAIVEISEPATHEEVRKAFFQKAVRYKPDKG----GDEEVMRALNAAYELLQDA-------']\n",
      "Generated sequences saved to generated_sequences_2Model_PCAPCA_comp\n"
     ]
    },
    {
     "name": "stderr",
     "output_type": "stream",
     "text": [
      "100%|██████████| 15000/15000 [07:36<00:00, 32.85it/s]\n"
     ]
    },
    {
     "name": "stdout",
     "output_type": "stream",
     "text": [
      "Generated sequences (letters): ['----ILGLDARADAKDIRKAYRLLAKEYHPDTG-------ERFAAITEAYELL----------', '----ILGLDARADAKDIRKAYRLLAKEYHPDTG-------ERFAAITEAYELL----------', '----ILGLDARADAKDIRKAYRLLAKEYHPDTG-------ERFAAITEAYELL----------', '----ILGLDARADAKDIRKAYRLLAKEYHPDTG-------ERFAAITEAYELL----------', '----ILGLDARADAKDIRKAYRLLAKEYHPDTG-------ERFAAITEAYELL----------']\n",
      "Generated sequences saved to generated_sequences_2Model_PCAPCA_comp\n"
     ]
    },
    {
     "name": "stderr",
     "output_type": "stream",
     "text": [
      "100%|██████████| 15000/15000 [07:13<00:00, 34.58it/s]\n"
     ]
    },
    {
     "name": "stdout",
     "output_type": "stream",
     "text": [
      "Generated sequences (letters): ['------------------------------D--------------------------------', '------------------------------D--------------------------------', '------------------------------D--------------------------------', '------------------------------D--------------------------------', '------------------------------D--------------------------------']\n",
      "Generated sequences saved to generated_sequences_2Model_PCAPCA_comp\n"
     ]
    },
    {
     "name": "stderr",
     "output_type": "stream",
     "text": [
      "100%|██████████| 15000/15000 [07:13<00:00, 34.63it/s]\n"
     ]
    },
    {
     "name": "stdout",
     "output_type": "stream",
     "text": [
      "Generated sequences (letters): ['------------------------------D--------------------------------', '------------------------------D--------------------------------', '------------------------------D--------------------------------', '------------------------------D--------------------------------', '------------------------------D--------------------------------']\n",
      "Generated sequences saved to generated_sequences_2Model_PCAPCA_comp\n"
     ]
    }
   ],
   "source": [
    "\"\"\"\n",
    "    Generate sequences with PLM random initialization\n",
    "\"\"\"\n",
    "save_dir = \"generated_sequences_2Model_PCA\"\n",
    "N_seqs = 30000\n",
    "save_name = \"generated_sequences_randinit_30000\"\n",
    "#generate_plm_n_save(save_dir, save_name, Jtens, N_seqs=N_seqs, init_sequence=None,nb_PCA_comp=2,PCA_comp_list=np.array([20,20]),J_PCA=Jtens_PCA)\n",
    "N_seqs=15000\n",
    "betas = [0.01, 0.1, 0.5, 1, 2, 4, 10]\n",
    "\n",
    "for b in betas:\n",
    "    save_name = f\"gen_seqs_randinit_Ns{N_seqs}_b{b}_b_PCA_1\"\n",
    "    #generate_plm_n_save(save_dir, save_name, Jtens, N_seqs, init_sequence=None,nb_PCA_comp=nb_PCA_comp, beta=b,J_PCA=Jtens_PCA,PCA_comp_list=np.array([23,23]))\n",
    "    if b!=1:\n",
    "        save_name = f\"gen_seqs_randinit_Ns{N_seqs}_b_1_b_PCA{b}\"\n",
    "        generate_plm_n_save(save_dir, save_name, Jtens, N_seqs, init_sequence=None, beta=1,nb_PCA_comp=nb_PCA_comp,J_PCA=Jtens_PCA,beta_PCA=b,PCA_comp_list=np.array([23,23]))\n",
    "\n",
    "##############################################################\n",
    "\n",
    "\"\"\"\n",
    "    Generate sequences with PLM initialization from a sequence\n",
    "\"\"\"\n",
    "file_test_data=r\"C:\\Users\\youss\\OneDrive\\Bureau\\master epfl\\MA2\\TP4 De los Rios\\git_test\\PLM-gen-DCA\\Attention-DCA-main\\CODE\\DataAttentionDCA\\jdoms\\jdoms_bacteria_train2.fasta\"\n",
    "seq_data_test=read_fasta_alignment(file_test_data,0.8)\n",
    "\n",
    "print(seq_data_test.shape)\n",
    "seq_data_test_filtered,_=remove_duplicate_sequences(seq_data_test)\n",
    "seq_data_test_filtered=seq_data_test_filtered.T\n",
    "seq_data_test_filtered_with_PCA= add_PCA_coords(seq_data_test_filtered,35) #####DONT FORGET TO CHANGE NUMBER OF BINS IF NECESSARY\n",
    "\n",
    "\n",
    "#init_sequence = 'DYYQVLGVPKDADAKSIKKAFRKLARKYHPDVNPGDKEAERKFKEANEANEVLSDPEKRKKYD'\n",
    "init_sequence_num = seq_data_test_filtered_with_PCA[0]\n",
    "print(init_sequence_num[-2:])\n",
    "ratio = 0.4\n",
    "init_sequence_num = modify_seq(init_sequence_num, ratio,nb_PCA_comp=2)\n",
    "N_seqs=30000\n",
    "save_name = f\"gen_seqs_w_init_seq_Ns{N_seqs}_r{ratio}\"\n",
    "\n",
    "#generate_plm_n_save(save_dir, save_name, Jtens, N_seqs, init_sequence=init_sequence_num,nb_PCA_comp=nb_PCA_comp,J_PCA=Jtens_PCA)\n",
    "\n",
    "\"\"\"\n",
    "    Generate sequences with PLM initialization from a sequence different betas\n",
    "\"\"\"\n",
    "# init_sequence = 'DYYQVLGVPKDADAKSIKKAFRKLARKYHPDVNPGDKEAERKFKEANEANEVLSDPEKRKKYD'\n",
    "# init_sequence_num = letters_to_nums(init_sequence)\n",
    "# ratio = 0.1\n",
    "# init_sequence_num = modify_seq(init_sequence_num, ratio)\n",
    "\n",
    "N_seqs=15000\n",
    "betas = [0.01, 0.1, 0.5, 1, 2, 4,10]\n",
    "\n",
    "for b in betas:\n",
    "    save_name = f\"gen_seqs_w_init_seq_Ns{N_seqs}_r{ratio}_b{b}\"\n",
    "    #generate_plm_n_save(save_dir, save_name, Jtens, N_seqs, init_sequence=init_sequence_num,nb_PCA_comp=nb_PCA_comp, beta=b,J_PCA=Jtens_PCA)\n",
    "    if b!=1:\n",
    "        save_name = f\"gen_seqs_w_init_seq_Ns{N_seqs}_r{ratio}_b_1_b_PCA{b}\"\n",
    "        generate_plm_n_save(save_dir, save_name, Jtens, N_seqs, init_sequence=init_sequence_num, beta=1,nb_PCA_comp=nb_PCA_comp,J_PCA=Jtens_PCA,beta_PCA=b)"
   ]
  },
  {
   "cell_type": "code",
   "execution_count": 12,
   "id": "78497818",
   "metadata": {},
   "outputs": [
    {
     "name": "stdout",
     "output_type": "stream",
     "text": [
      "[17  5]\n",
      "[13 20 12  5 17  9 20  7  8  3 13  0 15 13  2  3  7  8  8  0 19 14  3 11\n",
      "  7  6  7 11  6 12  2 13 19  5  2 11 12  9  0  3  3  8 14 14  3  9 11  1\n",
      " 12  1  2 19  9 15  8 16 15 20 20 11 20 20 20 17  5]\n"
     ]
    }
   ],
   "source": [
    "init_sequence_num = seq_data_test_filtered_with_PCA[0]\n",
    "print(init_sequence_num[-2:])\n",
    "ratio = 0.4\n",
    "init_sequence_num = modify_seq(init_sequence_num, ratio,nb_PCA_comp=2)\n",
    "print(init_sequence_num)"
   ]
  },
  {
   "cell_type": "markdown",
   "id": "e51e37eb",
   "metadata": {},
   "source": [
    "## ADDED - NEW MODEL"
   ]
  },
  {
   "cell_type": "code",
   "execution_count": 10,
   "id": "1be1b89b",
   "metadata": {},
   "outputs": [
    {
     "name": "stderr",
     "output_type": "stream",
     "text": [
      "100%|██████████| 15000/15000 [03:19<00:00, 75.22it/s]\n"
     ]
    },
    {
     "name": "stdout",
     "output_type": "stream",
     "text": [
      "Generated sequences (letters): ['N-K-MSKIYDWSKRATYRAVTMLMQFCSGPHTECDIHWDFNNKNESADQLC-NHKT-VCHQLF', '--K-MSKIYDWSKRATYRAVTMLMQFCSGPHTECDIHWDFNNKNESADQLC-NHKT-VCHQLF', '--K-MSKIYDWSKRATYRAVTMLMQFCSGPHTECDI-WDFNNKNESADQLC-NHKT-VCHQLF', '--K-MSKIYDWSKRATYRAVTALMQFCSGPHTECDI-WDFNNKNESADQLC-NHKT-VCHQLF', '--K-MSKIYDWS-RATYRAVTALMQFCSGPHTECDI-WDFNNKNESADQLC-NHKT-VCHQLF']\n",
      "Generated sequences saved to generated_sequences_2Model_PCAPCA_comp\n",
      "done generating sequences with PLM initialization from a random sequence\n"
     ]
    }
   ],
   "source": [
    "\"\"\"\n",
    "    Generate sequences with PLM random initialization\n",
    "\"\"\"\n",
    "save_dir = \"generated_sequences_2Model_PCA\"\n",
    "N_seqs = 15000\n",
    "save_name = \"generated_sequences_randinit_30000_25_6\"\n",
    "PCA_comp_list=np.array([25,6])\n",
    "generate_plm_n_save(save_dir, save_name, Jtens, N_seqs=N_seqs, init_sequence=None,nb_PCA_comp=2,PCA_comp_list=PCA_comp_list,J_PCA=Jtens_PCA)\n",
    "\n",
    "print(\"done generating sequences with PLM initialization from a random sequence\")\n"
   ]
  },
  {
   "cell_type": "code",
   "execution_count": null,
   "id": "91d7760d",
   "metadata": {},
   "outputs": [
    {
     "name": "stdout",
     "output_type": "stream",
     "text": [
      "Total sequences read: 14502\n",
      "Sequences after filtering: 14502\n",
      "(63, 14502)\n",
      "Removing duplicate sequences...\n",
      "Done: 14502 -> 14502 sequences after removing duplicates.\n",
      "[17  5]\n",
      "initial sequence number: [11 12 19  3 17  9  5  7  8  3  5  0 15 13  2  3  7  8  8  0 19 14  3  9\n",
      "  0  8  8 19  6 12  2 13 19  5  2 11 12  9  0  3  3  8 10 14  3  9 11  3\n",
      "  0 19  2 19  9 15  8 11 15 20 20 20 20 20 20 17  5]\n"
     ]
    },
    {
     "name": "stderr",
     "output_type": "stream",
     "text": [
      "100%|██████████| 15000/15000 [03:31<00:00, 70.87it/s]\n"
     ]
    },
    {
     "name": "stdout",
     "output_type": "stream",
     "text": [
      "Generated sequences (letters): ['NWYEVVGIWETASSYEIKKAY-ELAKKYGWDQYVDNPLCEEKIIDLRHFYDYRSKAS--HG--', 'NWYEVVGIWETASSYEIKKAY-ELAKKYGWDQYVDNPLCEEKIIDLRHFYDYRSKAS--HG--', 'NWYEVVGIWETASSYEIKKAY-ELAKKYGWDQYVDNPLCEEKIIDIRHFYDYRSKAS--HG--', 'NWYEVVGIWETASSYEIKKAY-ELAKKYGWDQYVDNPLCEEKIIDIRHFYDYRSKAS--HG--', '-WYEVVGIWETASSYEIKKAY-ELAKKYGWDQYVDNPLCEEKIIDIRHFYDYRSKAS--HG--']\n",
      "Generated sequences saved to generated_sequences_2Model_PCAPCA_comp\n",
      "done generating sequences with PLM initialization from an initial sequence sequence\n"
     ]
    }
   ],
   "source": [
    "##############################################################\n",
    "\n",
    "\"\"\"\n",
    "    Generate sequences with PLM initialization from a sequence\n",
    "\"\"\"\n",
    "import platform\n",
    "\n",
    "if platform.system() == \"Darwin\":  # macOS\n",
    "    base_path = '/Users/marzioformica/Desktop/EPFL/Master/StageLBS/PCA_gen_AI/CODE/DataAttentionDCA/jdoms'\n",
    "else:  # assume Windows for Youss\n",
    "    base_path = r\"C:\\Users\\youss\\OneDrive\\Bureau\\master epfl\\MA2\\TP4 De los Rios\\git_test\\PLM-gen-DCA\\Attention-DCA-main\\CODE\\DataAttentionDCA\\jdoms\"\n",
    "\n",
    "file_test_data = f\"{base_path}/jdoms_bacteria_train2.fasta\"\n",
    "seq_data_test=read_fasta_alignment(file_test_data,0.8)\n",
    "\n",
    "print(seq_data_test.shape)\n",
    "seq_data_test_filtered,_=remove_duplicate_sequences(seq_data_test)\n",
    "seq_data_test_filtered=seq_data_test_filtered.T\n",
    "seq_data_test_filtered_with_PCA= add_PCA_coords(seq_data_test_filtered,35) #####DONT FORGET TO CHANGE NUMBER OF BINS IF NECESSARY\n",
    "\n",
    "\n",
    "#init_sequence = 'DYYQVLGVPKDADAKSIKKAFRKLARKYHPDVNPGDKEAERKFKEANEANEVLSDPEKRKKYD'\n",
    "init_sequence_num = seq_data_test_filtered_with_PCA[0]\n",
    "print(init_sequence_num[-2:])\n",
    "print(\"initial sequence number:\", init_sequence_num)\n",
    "ratio = 0.4\n",
    "init_sequence_num = modify_seq(init_sequence_num, ratio,nb_PCA_comp=2)\n",
    "N_seqs=15000\n",
    "save_name = f\"gen_seqs_w_init_seq_Ns{N_seqs}_r{ratio}_20_20\"\n",
    "\n",
    "generate_plm_n_save(save_dir, save_name, Jtens, N_seqs, init_sequence=init_sequence_num,nb_PCA_comp=nb_PCA_comp,PCA_comp_list=PCA_comp_list, J_PCA=Jtens_PCA)\n",
    "print(\"done generating sequences with PLM initialization from an initial sequence sequence\")\n"
   ]
  },
  {
   "cell_type": "markdown",
   "id": "5eae4096",
   "metadata": {},
   "source": [
    "## Generate from multiple coords"
   ]
  },
  {
   "cell_type": "code",
   "execution_count": 7,
   "id": "5f3a5c9c",
   "metadata": {},
   "outputs": [
    {
     "name": "stdout",
     "output_type": "stream",
     "text": [
      "Mismatch of PCA tensor and nb PCA components indicated\n",
      "number of PCA components doesn't match size of PCA list\n"
     ]
    },
    {
     "name": "stderr",
     "output_type": "stream",
     "text": [
      "100%|██████████| 10000/10000 [03:38<00:00, 45.82it/s]\n"
     ]
    },
    {
     "name": "stdout",
     "output_type": "stream",
     "text": [
      "[0] Generated sequences for target (17, 15) (first 5): ['NSNMCQTRGYQVGNQLVGTVMGGALQIWPADGCERWQEM-SYTG-IIT--M-NPVVCSTGTDM', 'NSNMCQTRGYQVGNALVGTVMGGALQIWPADGCERWQEM-SYTG-IIT--M-NPVVCSTGTDM', 'NSNMCQTRGYQVGNALVGTVMGGALQIWPADGCERWQEM-SYTG-IIT-YM-NPVVCSTGTDM', 'NSN-CQTRGYQVGNALVGTVMGGALQIWPADGCERWQEM-SYTG-IIT-YM-NPVVCSTGTDM', 'NSN-CQTRGYQVGNVLVGTVMGGALQIWPADGCERWQEM-SYTG-IIT-YM-NPVVCSTGTDM']\n",
      "Mismatch of PCA tensor and nb PCA components indicated\n",
      "number of PCA components doesn't match size of PCA list\n"
     ]
    },
    {
     "name": "stderr",
     "output_type": "stream",
     "text": [
      "100%|██████████| 10000/10000 [03:41<00:00, 45.09it/s]\n"
     ]
    },
    {
     "name": "stdout",
     "output_type": "stream",
     "text": [
      "[1] Generated sequences for target (20, 34) (first 5): ['MILWMSLGEMHKPFIHV-TA-SRYCAPDIMIRHDWRMDPALGPEPMGFDHCQVDC-IAGIYNA', 'MILWMSLGEMHKPFIHV-TA-SRYCAPDIMIRHDWRMDPALGPEPMGFDHCQVDCLIAGIYNA', 'MILWMSLGEMHKPFIHVDTA-SRYCAPDIMIRHDWRMDPALGPEPMGFDHCQVDCLIAGIYNA', 'MILWMSLGEMHKPFIHVDTA-SRYCAPDIMIRHDWRMDPALGPEPMGFDHCRVDCLIAGIYNA', 'MILWMSLGEMHKPFIHVDTA-SRYCAPDIMIRHDWRMDPALGPERMGFDHCRVDCLIAGIYNA']\n",
      "Mismatch of PCA tensor and nb PCA components indicated\n",
      "number of PCA components doesn't match size of PCA list\n"
     ]
    },
    {
     "name": "stderr",
     "output_type": "stream",
     "text": [
      "100%|██████████| 10000/10000 [03:34<00:00, 46.72it/s]\n"
     ]
    },
    {
     "name": "stdout",
     "output_type": "stream",
     "text": [
      "[2] Generated sequences for target (28, 10) (first 5): ['YHHIRC-PIATDA-TFKTLWGQKNE-ADHN-LPHM-GMSFT-I-LDHCIC-YYKTGVDEMNLN', 'YHHIRC-PIATDA-TFKTLWGQKNE-ADHN-LPHM-GMSFT-I-GDHCIC-YYKTGVDEMNLN', 'YHHIRC-PIATDA-TFKTLWGQWNE-ADHN-LPHM-GMSFT-I-GDHCIC-YYKTGVDEMNLN', 'YHHIRC-PIATDA-TFKTLWGQWNE-ADHN-LPHM-GMSFT-I-GDHCICGYYKTGVDEMNLN', 'YHHIRC-PIATDA-TFKTLWGQWNE-ADHN-LPHM-GMSFT-I-GDHCICGYYKTGV-EMNLN']\n",
      "Mismatch of PCA tensor and nb PCA components indicated\n",
      "number of PCA components doesn't match size of PCA list\n"
     ]
    },
    {
     "name": "stderr",
     "output_type": "stream",
     "text": [
      "100%|██████████| 10000/10000 [04:22<00:00, 38.11it/s]\n"
     ]
    },
    {
     "name": "stdout",
     "output_type": "stream",
     "text": [
      "[3] Generated sequences for target (7, 13) (first 5): ['HDTYHMTQSKRGYTADWMPLKQNL-WEVNEDYCSPDEEPACDV-LFPIPTTSVLCWPTVCYAF', 'HDTYHMTQSKRGYTADWMPLKQNL-WEVNEDYCSPDEEPACDV-LFPIPTTSVLCWPTVCYAF', 'HDTYHMTQSKRGYTADWMPLKQNL-WEVNEDYCSPDEEPACDVNLFPIPTTSVLCWPTVCYAF', 'HDTYHMTQSKRGYTADWMPLKQNL-WEVNEDYCSPDEEPACDVNLFPRPTTSVLCWPTVCYAF', 'HDTYHMTQSKRGYTADWMPKKQNL-WEVNEDYCSPDEEPACDVNLFPRPTTSVLCWPTVCYAF']\n",
      "Mismatch of PCA tensor and nb PCA components indicated\n",
      "number of PCA components doesn't match size of PCA list\n"
     ]
    },
    {
     "name": "stderr",
     "output_type": "stream",
     "text": [
      "100%|██████████| 10000/10000 [04:46<00:00, 34.95it/s]\n"
     ]
    },
    {
     "name": "stdout",
     "output_type": "stream",
     "text": [
      "[4] Generated sequences for target (2, 7) (first 5): ['PVQRENWVYIPTLQFAGGIQMKYY-WIFMLIDLMPGTTCFENENVSQQKGSVYRLHPAL-QAC', 'PVQRENWVYIPTLQFAGGIQMKYY-WIFMLIDLMPGTTCFENNNVSQQKGSVYRLHPAL-QAC', 'PVQRENWVYIPTLQFAGGIQMKYY-WIFMLIDLMPGTTCFENNNVSQVKGSVYRLHPAL-QAC', 'PVQRENWVYIPTLQFAGGIQMKYY-WIFMLIDLMPGLTCFENNNVSQVKGSVYRLHPAL-QAC', 'PDQRENWVYIPTLQFAGGIQMKYY-WIFMLIDLMPGLTCFENNNVSQVKGSVYRLHPAL-QAC']\n",
      "Mismatch of PCA tensor and nb PCA components indicated\n",
      "number of PCA components doesn't match size of PCA list\n"
     ]
    },
    {
     "name": "stderr",
     "output_type": "stream",
     "text": [
      "100%|██████████| 10000/10000 [04:30<00:00, 37.01it/s]\n"
     ]
    },
    {
     "name": "stdout",
     "output_type": "stream",
     "text": [
      "[5] Generated sequences for target (23, 25) (first 5): ['KACSWKIRFHVERIC-RSGWFATTCVNLQYFNTPATAWGGEPGQYDIL-CIDPSYLTMQLPEC', 'KACSWKIRFHVERIC-RSGWFATTCVNLQYFNTPATAWGGEPGQYDIL-CIDPSYLTMQLPEC', 'KACSWKIRFHVERIC-RSGWFATTCVNLQYFNTPATAWGGEPGQYDIL-CIDPSVLTMQLPEC', 'KACSWKERFHVERIC-RSGWFATTCVNLQYFNTPATAWGGEPGQYDIL-CIDPSVLTMQLPEC', 'KACSWKERFHVERIC-RSGWFATTCVNLQYFNTPATAWGGEPRQYDIL-CIDPSVLTMQLPEC']\n",
      "Mismatch of PCA tensor and nb PCA components indicated\n",
      "number of PCA components doesn't match size of PCA list\n"
     ]
    },
    {
     "name": "stderr",
     "output_type": "stream",
     "text": [
      "100%|██████████| 10000/10000 [04:38<00:00, 35.95it/s]\n"
     ]
    },
    {
     "name": "stdout",
     "output_type": "stream",
     "text": [
      "[6] Generated sequences for target (29, 30) (first 5): ['QKLRAYHSY-FAWGSYGYFHHRTEVDGWTVHVGLQQTMNQGCTTEKY-NWGDMPYNW-NNKKN', 'QKLRAYHSL-FAWGSYGYFHHRTEVDGWTVHVGLQQTMNQGCTTEKY-NWGDMPYNW-NNKKN', 'QKLRAYHSL-FAWGSYGYFHHRTEVDGSTVHVGLQQTMNQGCTTEKY-NWGDMPYNW-NNKKN', 'QKLRAYHSL-FAWGSYGYFHHRTEVDGSTVHVGLQQTMNQGCTTEKY-NWGDMPYNW-HNKKN', 'QKLRAYHSL-FAWGSYAYFHHRTEVDGSTVHVGLQQTMNQGCTTEKY-NWGDMPYNW-HNKKN']\n",
      "Mismatch of PCA tensor and nb PCA components indicated\n",
      "number of PCA components doesn't match size of PCA list\n"
     ]
    },
    {
     "name": "stderr",
     "output_type": "stream",
     "text": [
      "100%|██████████| 10000/10000 [04:17<00:00, 38.77it/s]\n"
     ]
    },
    {
     "name": "stdout",
     "output_type": "stream",
     "text": [
      "[7] Generated sequences for target (31, 27) (first 5): ['FHKYVAQQRAHTRASWRCLDRTGMLEAA-GSLPEFSHISVPIFEQWYIYPVMYPNFG-SGVKY', 'FHKYVAQQRAHTRASWRCLDRTGMLEAA-GSLPEFSHISVPIFEQWYIYPVMHPNFG-SGVKY', 'FHKYVAQQRAHTRASWRCLDRSGMLEAA-GSLPEFSHISVPIFEQWYIYPVMHPNFG-SGVKY', 'FHKYVAQQRAHTRASWRCLDRKGMLEAA-GSLPEFSHISVPIFEQWYIYPVMHPNFG-SGVKY', 'FHKYVAQQRAHTRASWRCLDRKGMLEAA-GSLPEFRHISVPIFEQWYIYPVMHPNFG-SGVKY']\n",
      "Mismatch of PCA tensor and nb PCA components indicated\n",
      "number of PCA components doesn't match size of PCA list\n"
     ]
    },
    {
     "name": "stderr",
     "output_type": "stream",
     "text": [
      "100%|██████████| 10000/10000 [04:14<00:00, 39.25it/s]\n"
     ]
    },
    {
     "name": "stdout",
     "output_type": "stream",
     "text": [
      "[8] Generated sequences for target (33, 21) (first 5): ['YPMNFILFQDSWDMKTYGVNKQMLRREQRAHSTQIWAWMVPKMIAQLY--TEPHEQGEC-SNS', 'YPMNFILKQDSWDMKTYGVNKQMLRREQRAHSTQIWAWMVPKMIAQLY--TEPHEQGEC-SNS', 'YPMNFILKQDSWDMKTYGVNKQMLRREQRAHSTQIWAWMVPKMIAQLY--TEPHEQYEC-SNS', 'YPMNFILKQDSWDMKTYGVNKQMLRREQRAHSTQIWAWMVPKMIAQLY--TEPHEQYEA-SNS', 'YPMNFILKQDSWDMKTYGVNKQMLRREQRAHSTQIWAWMVPKMIAQLY-VTEPHEQYEA-SNS']\n",
      "Mismatch of PCA tensor and nb PCA components indicated\n",
      "number of PCA components doesn't match size of PCA list\n"
     ]
    },
    {
     "name": "stderr",
     "output_type": "stream",
     "text": [
      "100%|██████████| 10000/10000 [04:08<00:00, 40.27it/s]\n"
     ]
    },
    {
     "name": "stdout",
     "output_type": "stream",
     "text": [
      "[9] Generated sequences for target (1, 1) (first 5): ['MIAHF-YFDIPTTTFRYGKPAWIEETILFGNDMPARWLI-PDHWC-WEYRYVQSIHAWYQRFI', 'MIAHF-YFDYPTTTFRYGKPAWIEETILFGNDMPARWLI-PDHWC-WEYRYVQSIHAWYQRFI', 'MIAHF-YFDYPTTTFRYGKPAWIEETILFGNDMPARWLI-PDHWC-WEYRYVQSIHAWYQRFI', 'MIAHF-YFDYPTTTFRYGKPAWGEETILFGNDMPARWLI-PDHWC-WEYRYVQSIHAWYQRFI', 'MIAHF-YFDYPTTTFRYGKPAWGEETILFGNDMPARWRI-PDHWC-WEYRYVQSIHAWYQRFI']\n"
     ]
    }
   ],
   "source": [
    "save_dir = \"generated_sequences_2Model_PCA_multiple\"\n",
    "N_seqs = 10000\n",
    "save_name_prefix = f'generated_sequences_randinit_{N_seqs}_mult'\n",
    "# take 10 random coordinates from the PCA space (0-34)\n",
    "target_coords_list = [(np.random.randint(0, 35), np.random.randint(0, 35)) for _ in range(10)]\n",
    "generate_multiple_targets_n_save(save_dir, save_name_prefix, J=Jtens, target_coords_list=target_coords_list, N_seqs=N_seqs, init_sequence=None, beta=1, nb_PCA_comp=0, J_PCA=Jtens_PCA, beta_PCA=1)"
   ]
  },
  {
   "cell_type": "code",
   "execution_count": null,
   "id": "24e95705",
   "metadata": {},
   "outputs": [],
   "source": []
  }
 ],
 "metadata": {
  "kernelspec": {
   "display_name": "Python 3",
   "language": "python",
   "name": "python3"
  },
  "language_info": {
   "codemirror_mode": {
    "name": "ipython",
    "version": 3
   },
   "file_extension": ".py",
   "mimetype": "text/x-python",
   "name": "python",
   "nbconvert_exporter": "python",
   "pygments_lexer": "ipython3",
   "version": "3.12.4"
  }
 },
 "nbformat": 4,
 "nbformat_minor": 5
}
