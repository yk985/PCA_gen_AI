{
 "cells": [
  {
   "cell_type": "code",
   "execution_count": 1,
   "id": "44eb2645",
   "metadata": {},
   "outputs": [],
   "source": [
    "import numpy as np\n",
    "import torch\n",
    "import os\n",
    "import sys\n",
    "current_dir = os.getcwd()\n",
    "parent_dir = os.path.abspath(os.path.join(current_dir, '..'))\n",
    "sys.path.insert(0, parent_dir)\n",
    "from model import AttentionModel\n",
    "from model_PCA_correlation import AttentionModel_PCA\n",
    "from dcascore import *\n",
    "from utils import read_fasta_alignment, remove_duplicate_sequences, add_PCA_coords\n",
    "\n",
    "# back to original path (in PLM)\n",
    "sys.path.pop(0)  # Removes the parent_dir from sys.path\n",
    "from model import AttentionModel\n",
    "\n",
    "from plm_gen_methods import generate_plm_n_save, generate_coords_n_save, generate_multiple_targets_n_save\n",
    "from seq_utils import read_tensor_from_txt, set_seed, letters_to_nums, modify_seq \n"
   ]
  },
  {
   "cell_type": "code",
   "execution_count": 2,
   "id": "9f9b89b5",
   "metadata": {},
   "outputs": [
    {
     "name": "stdout",
     "output_type": "stream",
     "text": [
      "/Users/marzioformica/Desktop/EPFL/Master/StageLBS/PCA_gen_AI/CODE/AttentionDCA_python/src/PLM\n",
      "/Users/marzioformica/Desktop/EPFL/Master/StageLBS/PCA_gen_AI/CODE/AttentionDCA_python/src\n"
     ]
    }
   ],
   "source": [
    "print(current_dir)\n",
    "print(parent_dir)"
   ]
  },
  {
   "cell_type": "code",
   "execution_count": 3,
   "id": "1e86555c",
   "metadata": {},
   "outputs": [],
   "source": [
    "\"\"\"\n",
    "    Load Q, K, V matrices from jdoms (after training)\n",
    "\"\"\"\n",
    "set_seed()\n",
    "H = 64\n",
    "d= 10\n",
    "N = 174\n",
    "n_epochs = 500\n",
    "nb_PCA_comp=2\n",
    "loss_type = 'without_J'\n",
    "family = 'jdoms' #'jdoms_bacteria_train2'\n",
    "cwd = parent_dir\n",
    "Q_1 = read_tensor_from_txt( cwd +\"/results/{H}_{d}_{family}_{losstype}_{n_epochs}_PCA_brute_force_35_bins/Q_tensor.txt\".format(H=H, d=d, family=family, losstype=loss_type, n_epochs=n_epochs))\n",
    "K_1 = read_tensor_from_txt( cwd +\"/results/{H}_{d}_{family}_{losstype}_{n_epochs}_PCA_brute_force_35_bins/K_tensor.txt\".format(H=H, d=d, family=family, losstype=loss_type, n_epochs=n_epochs))\n",
    "V_1 = read_tensor_from_txt( cwd +\"/results/{H}_{d}_{family}_{losstype}_{n_epochs}_PCA_brute_force_35_bins/V_tensor.txt\".format(H=H, d=d, family=family, losstype=loss_type, n_epochs=n_epochs))\n",
    "H,d,N=Q_1.shape\n",
    "q=V_1.shape[1]\n"
   ]
  },
  {
   "cell_type": "code",
   "execution_count": 4,
   "id": "37d8be3f",
   "metadata": {},
   "outputs": [
    {
     "name": "stdout",
     "output_type": "stream",
     "text": [
      "torch.Size([64, 65, 65])\n",
      "34\n",
      "65\n"
     ]
    }
   ],
   "source": [
    "model=AttentionModel(H,d,N,q,Q=Q_1,V=V_1,K=K_1)\n",
    "torch.sum(model.Q-Q_1)\n",
    "device = Q_1.device\n",
    "L = Q_1.shape[-1]\n",
    "W=attention_heads_from_model(model,Q_1,K_1,V_1)\n",
    "print(W.shape)\n",
    "\n",
    "i_indices = torch.arange(L, device=device).unsqueeze(1)\n",
    "j_indices = torch.arange(L, device=device).unsqueeze(0)\n",
    "mask = (i_indices != j_indices).float().unsqueeze(0)  # shape (1, L, L)\n",
    "W = W * mask\n",
    "    \n",
    "# Compute Jtens\n",
    "Jtens = torch.einsum('hri,hab->abri', W, V_1)  # Shape: (q, q, L, L)\n",
    "q = Jtens.shape[0]\n",
    "N = Jtens.shape[2]\n",
    "print(q)\n",
    "print(N)"
   ]
  },
  {
   "cell_type": "code",
   "execution_count": 5,
   "id": "465dd59a",
   "metadata": {},
   "outputs": [],
   "source": [
    "\"\"\"\n",
    "    Generate sequences with PLM random initialization\n",
    "\"\"\"\n",
    "save_dir = \"generated_sequences\"\n",
    "N_seqs = 30000\n",
    "save_name = \"generated_sequences_randinit_30000\"\n",
    "#generate_plm_n_save(save_dir, save_name, Jtens, N_seqs=N_seqs, init_sequence=None,nb_PCA_comp=2,PCA_comp_list=np.array([20,20]))\n",
    "\n",
    "##############################################################\n"
   ]
  },
  {
   "cell_type": "code",
   "execution_count": 3,
   "id": "48ea6a88",
   "metadata": {},
   "outputs": [
    {
     "name": "stdout",
     "output_type": "stream",
     "text": [
      "Total sequences read: 14502\n",
      "Sequences after filtering: 14502\n",
      "(63, 14502)\n",
      "Removing duplicate sequences...\n",
      "Done: 14502 -> 14502 sequences after removing duplicates.\n",
      "[17  5]\n"
     ]
    }
   ],
   "source": [
    "\"\"\"\n",
    "    Generate sequences with PLM initialization from a sequence\n",
    "\"\"\"\n",
    "file_test_data=r\"C:\\Users\\youss\\OneDrive\\Bureau\\master epfl\\MA2\\TP4 De los Rios\\git_test\\PLM-gen-DCA\\Attention-DCA-main\\CODE\\DataAttentionDCA\\jdoms\\jdoms_bacteria_train2.fasta\"\n",
    "seq_data_test=read_fasta_alignment(file_test_data,0.8)\n",
    "\n",
    "print(seq_data_test.shape)\n",
    "seq_data_test_filtered,_=remove_duplicate_sequences(seq_data_test)\n",
    "seq_data_test_filtered=seq_data_test_filtered.T\n",
    "seq_data_test_filtered_with_PCA= add_PCA_coords(seq_data_test_filtered,35) #####DONT FORGET TO CHANGE NUMBER OF BINS IF NECESSARY\n",
    "\n",
    "\n",
    "#init_sequence = 'DYYQVLGVPKDADAKSIKKAFRKLARKYHPDVNPGDKEAERKFKEANEANEVLSDPEKRKKYD'\n",
    "init_sequence_num = seq_data_test_filtered_with_PCA[0]\n",
    "print(init_sequence_num[-2:])\n",
    "ratio = 0.4\n",
    "init_sequence_num = modify_seq(init_sequence_num, ratio,nb_PCA_comp=2)\n",
    "N_seqs=30000\n",
    "save_name = f\"gen_seqs_w_init_seq_Ns{N_seqs}_r{ratio}\"\n",
    "\n",
    "#generate_plm_n_save(save_dir, save_name, Jtens, N_seqs, init_sequence=init_sequence_num,nb_PCA_comp=nb_PCA_comp)\n"
   ]
  },
  {
   "cell_type": "code",
   "execution_count": 7,
   "id": "f858f52e",
   "metadata": {},
   "outputs": [
    {
     "name": "stderr",
     "output_type": "stream",
     "text": [
      "100%|██████████| 15000/15000 [04:39<00:00, 53.71it/s]\n"
     ]
    },
    {
     "name": "stdout",
     "output_type": "stream",
     "text": [
      "Generated sequences (letters): ['W--KYLGLTGPV-LAELKLSWRRLISVWHPDRFGGQRVTEDFLQRINVANSTLKQ--------', 'W--KYLGLTGPV-LAELKLSWRRLISVWHPDRFGGQRVTEDFLQRINVANSTLKQ---T----', 'W--PYLGLTGPV-LAELKLSWRRLISVWHPDRFGGQRVTEDFLQRINVANSTLKQ---T----', 'W--PYLGLTGPV-LAELKLSWRRLLSVWHPDRFGGQRVTEDFLQRINVANSTLKQ---T----', 'W--PYLGLTGPV-LAELKLSWRRLLSVWHPDRFGGQRVTEDFLQRINVAPSTLKQ---T----']\n",
      "Generated sequences saved to generated_sequencesPCA_comp\n"
     ]
    },
    {
     "name": "stderr",
     "output_type": "stream",
     "text": [
      "100%|██████████| 15000/15000 [04:37<00:00, 53.97it/s]\n"
     ]
    },
    {
     "name": "stdout",
     "output_type": "stream",
     "text": [
      "Generated sequences (letters): ['PEAYFSAYGNRSMTARQVSVNSLYRCMWAWQWVDDTTCMEWHSGAIEWVDMVQ-AAHIHFHER', 'PEAYFSAYGNRSMTARQVSVNSLYRCMWAWQIVDDTTCMEWHSGAIEWVDMVQ-AAHIHFHER', 'PPAYFSAYGNRSMTARQVSVNSLYRCMWAWQIVDDTTCMEWHSGAIEWVDMVQ-AAHIHFHER', 'PPAYFSAYGNRSMTARQVSVNSLYRCMWAWQIVDDTTCMEWHSGAIEWVDMVQ-AAHIKFHER', 'PPAYFSAYGNRSMTARQVSVNSLYRCMWAWQIVDDTTCMIWHSGAIEWVDMVQ-AAHIKFHER']\n",
      "Generated sequences saved to generated_sequencesPCA_comp\n"
     ]
    },
    {
     "name": "stderr",
     "output_type": "stream",
     "text": [
      "100%|██████████| 15000/15000 [04:37<00:00, 54.04it/s]\n"
     ]
    },
    {
     "name": "stdout",
     "output_type": "stream",
     "text": [
      "Generated sequences (letters): ['GYDPFVRWTTNAKEQLVVAPHAHEAKNI-LYTYAGGTVAPKNPTQLFYSMNAKAQSTK-APFT', 'GYFPFVRWTTNAKEQLVVAPHAHEAKNI-LYTYAGGTVAPKNPTQLFYSMNAKAQSTK-APFT', 'GYFPFVRWTTNAKEQLFVAPHAHEAKNI-LYTYAGGTVAPKNPTQLFYSMNAKAQSTK-APFT', 'GYFPFVRWTTNAKEQLFVAPHAHEAKNI-LYTYAGGTVAPKNFTQLFYSMNAKAQSTK-APFT', 'GYFPFVRWTTNAKEQLFVAPHAHEAKNI-LYTYAGGTVAPKNFTQLNYSMNAKAQSTK-APFT']\n",
      "Generated sequences saved to generated_sequencesPCA_comp\n"
     ]
    },
    {
     "name": "stderr",
     "output_type": "stream",
     "text": [
      "100%|██████████| 15000/15000 [04:37<00:00, 54.11it/s]\n"
     ]
    },
    {
     "name": "stdout",
     "output_type": "stream",
     "text": [
      "Generated sequences (letters): ['FVGY-WNPLHMNVSCFQTSAKVWTKYLMYSWAWIVMRDSNVEYHKDSCWRMVFIYNRSTRYEI', 'FVGY-WNPLHMNVSCFQTSAKVWTKYLMYSWAWIVMRHSNVEYHKDSCWRMVFIYNRSTRYEI', 'FVGY-WNPLHMNVSCFQTSAKVWTKYLMYSWAWIVMRHSAVEYHKDSCWRMVFIYNRSTRYEI', 'FVGY-WNPLHMNRSCFQTSAKVWTKYLMYSWAWIVMRHSAVEYHKDSCWRMVFIYNRSTRYEI', 'FVGY-WNPLHMNRSCFQTSAKVWTKYLMYSWAWIVMRHSAVEYHKDSCWRMVFIYNRSTTYEI']\n",
      "Generated sequences saved to generated_sequencesPCA_comp\n"
     ]
    },
    {
     "name": "stderr",
     "output_type": "stream",
     "text": [
      "100%|██████████| 15000/15000 [04:37<00:00, 54.10it/s]\n"
     ]
    },
    {
     "name": "stdout",
     "output_type": "stream",
     "text": [
      "Generated sequences (letters): ['DPFKVLQLPPTATPNEITSAYRALVRSFHPDAQERHDRADAQLQEINIAYERLSDQNRRT---', 'DPFKVLQLPPTATPNEITSAYRALVRSFHPDAQERHDRADAQLQEINIAYERLSDQNRRT---', 'DPFKVLQLPPTATPNEITSAYRALVRSFHPDAQERHDRADAQLQEINIAYERLSDQNRRT---', 'DPFKVLQLPPTATPNEITSAYRALVRSFHPDAQERHDRADAQLQEINIAYERLRDQNRRT---', 'DPFKVLQLPPTATPNEITSAYRALVRSFHPDAQERHDRADAQLQEINIAYERLRDQNRRT---']\n",
      "Generated sequences saved to generated_sequencesPCA_comp\n"
     ]
    },
    {
     "name": "stderr",
     "output_type": "stream",
     "text": [
      "100%|██████████| 15000/15000 [04:38<00:00, 53.94it/s]\n"
     ]
    },
    {
     "name": "stdout",
     "output_type": "stream",
     "text": [
      "Generated sequences (letters): ['DYYEILGVSKDASEEEIKKAYRKLARKYHPDLNPDDPKAEEKFKEISEAYEVLSDEEKRKQYD', 'DYYEILGVSKDASEEEIKKAYRKLARKYHPDLNPDDPKAEEKFKEINEAYEVLSDEEKRKQYD', 'DYYEILGVSKDASEEEIKKAYRKLARKYHPDLNPDDPKAEEKFKEINEAYEVLSDEEKRKQYD', 'DYYEILGVSKDASEEEIKKAYRKLARKYHPDLNPDDPKAEEKFKEINEAYEVLSDEEKRKQYD', 'DYYEILGVSKDASEEEIKKAYRKLARKYHPDLNPDDPKAEEKFKEINEAYEVLSDEEKRKQYD']\n",
      "Generated sequences saved to generated_sequencesPCA_comp\n"
     ]
    },
    {
     "name": "stderr",
     "output_type": "stream",
     "text": [
      "  0%|          | 12/15000 [00:00<04:41, 53.16it/s]c:\\Users\\youss\\OneDrive\\Bureau\\master epfl\\MA2\\TP4 De los Rios\\PCA_gen_ai\\PCA_gen_AI\\CODE\\AttentionDCA_python\\src\\PLM\\plm_model.py:52: RuntimeWarning: overflow encountered in exp\n",
      "  prob = np.exp(self.beta * sum_energy)  # unnormalized\n",
      "c:\\Users\\youss\\OneDrive\\Bureau\\master epfl\\MA2\\TP4 De los Rios\\PCA_gen_ai\\PCA_gen_AI\\CODE\\AttentionDCA_python\\src\\PLM\\plm_model.py:63: RuntimeWarning: invalid value encountered in divide\n",
      "  probs /= probs.sum()\n",
      "  0%|          | 16/15000 [00:00<05:00, 49.90it/s]\n"
     ]
    },
    {
     "ename": "ValueError",
     "evalue": "probabilities contain NaN",
     "output_type": "error",
     "traceback": [
      "\u001b[1;31m---------------------------------------------------------------------------\u001b[0m",
      "\u001b[1;31mValueError\u001b[0m                                Traceback (most recent call last)",
      "Cell \u001b[1;32mIn[7], line 14\u001b[0m\n\u001b[0;32m     11\u001b[0m \u001b[38;5;28;01mfor\u001b[39;00m b \u001b[38;5;129;01min\u001b[39;00m betas:\n\u001b[0;32m     12\u001b[0m     save_name \u001b[38;5;241m=\u001b[39m \u001b[38;5;124mf\u001b[39m\u001b[38;5;124m\"\u001b[39m\u001b[38;5;124mgen_seqs_w_init_seq_Ns\u001b[39m\u001b[38;5;132;01m{\u001b[39;00mN_seqs\u001b[38;5;132;01m}\u001b[39;00m\u001b[38;5;124m_r\u001b[39m\u001b[38;5;132;01m{\u001b[39;00mratio\u001b[38;5;132;01m}\u001b[39;00m\u001b[38;5;124m_b\u001b[39m\u001b[38;5;132;01m{\u001b[39;00mb\u001b[38;5;132;01m}\u001b[39;00m\u001b[38;5;124m\"\u001b[39m\n\u001b[1;32m---> 14\u001b[0m     \u001b[43mgenerate_plm_n_save\u001b[49m\u001b[43m(\u001b[49m\u001b[43msave_dir\u001b[49m\u001b[43m,\u001b[49m\u001b[43m \u001b[49m\u001b[43msave_name\u001b[49m\u001b[43m,\u001b[49m\u001b[43m \u001b[49m\u001b[43mJtens\u001b[49m\u001b[43m,\u001b[49m\u001b[43m \u001b[49m\u001b[43mN_seqs\u001b[49m\u001b[43m,\u001b[49m\u001b[43m \u001b[49m\u001b[43minit_sequence\u001b[49m\u001b[38;5;241;43m=\u001b[39;49m\u001b[43minit_sequence_num\u001b[49m\u001b[43m,\u001b[49m\u001b[43mnb_PCA_comp\u001b[49m\u001b[38;5;241;43m=\u001b[39;49m\u001b[43mnb_PCA_comp\u001b[49m\u001b[43m,\u001b[49m\u001b[43m \u001b[49m\u001b[43mbeta\u001b[49m\u001b[38;5;241;43m=\u001b[39;49m\u001b[43mb\u001b[49m\u001b[43m)\u001b[49m\n\u001b[0;32m     15\u001b[0m     \u001b[38;5;66;03m#generate_plm_n_save(save_dir, save_name, Jtens, N_seqs, init_sequence=init_sequence_num, beta=b)\u001b[39;00m\n",
      "File \u001b[1;32mc:\\Users\\youss\\OneDrive\\Bureau\\master epfl\\MA2\\TP4 De los Rios\\PCA_gen_ai\\PCA_gen_AI\\CODE\\AttentionDCA_python\\src\\PLM\\plm_gen_methods.py:43\u001b[0m, in \u001b[0;36mgenerate_plm_n_save\u001b[1;34m(save_dir, save_name, J, N_seqs, init_sequence, beta, nb_PCA_comp, PCA_comp_list)\u001b[0m\n\u001b[0;32m     36\u001b[0m \u001b[38;5;28;01mdef\u001b[39;00m \u001b[38;5;21mgenerate_plm_n_save\u001b[39m(save_dir, save_name, J, N_seqs\u001b[38;5;241m=\u001b[39m\u001b[38;5;241m10000\u001b[39m, init_sequence\u001b[38;5;241m=\u001b[39m\u001b[38;5;28;01mNone\u001b[39;00m,beta\u001b[38;5;241m=\u001b[39m\u001b[38;5;241m1\u001b[39m,nb_PCA_comp\u001b[38;5;241m=\u001b[39m\u001b[38;5;241m0\u001b[39m,PCA_comp_list\u001b[38;5;241m=\u001b[39mnp\u001b[38;5;241m.\u001b[39marray([])):\n\u001b[0;32m     37\u001b[0m \u001b[38;5;250m    \u001b[39m\u001b[38;5;124;03m\"\"\"\u001b[39;00m\n\u001b[0;32m     38\u001b[0m \u001b[38;5;124;03m    Generates a set of sequences using the PLM and saves them both as a numpy file and a text file containing the corresponding letter sequences.\u001b[39;00m\n\u001b[0;32m     39\u001b[0m \u001b[38;5;124;03m    Saves:\u001b[39;00m\n\u001b[0;32m     40\u001b[0m \u001b[38;5;124;03m    - A `.npy` file containing the generated sequences in numerical format.\u001b[39;00m\n\u001b[0;32m     41\u001b[0m \u001b[38;5;124;03m    - A `.txt` file containing the generated sequences in letter format.\u001b[39;00m\n\u001b[0;32m     42\u001b[0m \u001b[38;5;124;03m    \"\"\"\u001b[39;00m\n\u001b[1;32m---> 43\u001b[0m     gen_sequences \u001b[38;5;241m=\u001b[39m \u001b[43mgenerate_plm\u001b[49m\u001b[43m(\u001b[49m\u001b[43mJ\u001b[49m\u001b[43m,\u001b[49m\u001b[43m \u001b[49m\u001b[43mN_seqs\u001b[49m\u001b[43m,\u001b[49m\u001b[43m \u001b[49m\u001b[43minit_sequence\u001b[49m\u001b[43m,\u001b[49m\u001b[43mbeta\u001b[49m\u001b[38;5;241;43m=\u001b[39;49m\u001b[43mbeta\u001b[49m\u001b[43m,\u001b[49m\u001b[43mnb_PCA_comp\u001b[49m\u001b[38;5;241;43m=\u001b[39;49m\u001b[43mnb_PCA_comp\u001b[49m\u001b[43m,\u001b[49m\u001b[43mPCA_comp_list\u001b[49m\u001b[38;5;241;43m=\u001b[39;49m\u001b[43mPCA_comp_list\u001b[49m\u001b[43m)\u001b[49m\n\u001b[0;32m     44\u001b[0m     gen_sequences_letters \u001b[38;5;241m=\u001b[39m [nums_to_letters(sequence,nb_PCA_comp) \u001b[38;5;28;01mfor\u001b[39;00m sequence \u001b[38;5;129;01min\u001b[39;00m gen_sequences]\n\u001b[0;32m     46\u001b[0m     \u001b[38;5;28mprint\u001b[39m(\u001b[38;5;124mf\u001b[39m\u001b[38;5;124m\"\u001b[39m\u001b[38;5;124mGenerated sequences (letters): \u001b[39m\u001b[38;5;132;01m{\u001b[39;00mgen_sequences_letters[:\u001b[38;5;241m5\u001b[39m]\u001b[38;5;132;01m}\u001b[39;00m\u001b[38;5;124m\"\u001b[39m)  \u001b[38;5;66;03m# Show first 5 sequences\u001b[39;00m\n",
      "File \u001b[1;32mc:\\Users\\youss\\OneDrive\\Bureau\\master epfl\\MA2\\TP4 De los Rios\\PCA_gen_ai\\PCA_gen_AI\\CODE\\AttentionDCA_python\\src\\PLM\\plm_gen_methods.py:16\u001b[0m, in \u001b[0;36mgenerate_plm\u001b[1;34m(J, N_seqs, init_sequence, beta, nb_PCA_comp, PCA_comp_list)\u001b[0m\n\u001b[0;32m     14\u001b[0m \u001b[38;5;28;01mfor\u001b[39;00m _ \u001b[38;5;129;01min\u001b[39;00m tqdm(\u001b[38;5;28mrange\u001b[39m(N_seqs)):\n\u001b[0;32m     15\u001b[0m     site \u001b[38;5;241m=\u001b[39m np\u001b[38;5;241m.\u001b[39mrandom\u001b[38;5;241m.\u001b[39mrandint(seq\u001b[38;5;241m.\u001b[39mL\u001b[38;5;241m-\u001b[39mnb_PCA_comp)  \u001b[38;5;66;03m# Random site from 0 to L-1\u001b[39;00m\n\u001b[1;32m---> 16\u001b[0m     \u001b[43mseq\u001b[49m\u001b[38;5;241;43m.\u001b[39;49m\u001b[43mdraw_aa\u001b[49m\u001b[43m(\u001b[49m\u001b[43msite\u001b[49m\u001b[43m)\u001b[49m\n\u001b[0;32m     17\u001b[0m     gen_sequences\u001b[38;5;241m.\u001b[39mappend(seq\u001b[38;5;241m.\u001b[39msequence\u001b[38;5;241m.\u001b[39mcopy())\n\u001b[0;32m     18\u001b[0m gen_sequences \u001b[38;5;241m=\u001b[39m np\u001b[38;5;241m.\u001b[39marray(gen_sequences)\n",
      "File \u001b[1;32mc:\\Users\\youss\\OneDrive\\Bureau\\master epfl\\MA2\\TP4 De los Rios\\PCA_gen_ai\\PCA_gen_AI\\CODE\\AttentionDCA_python\\src\\PLM\\plm_model.py:71\u001b[0m, in \u001b[0;36mSequencePLM.draw_aa\u001b[1;34m(self, site)\u001b[0m\n\u001b[0;32m     67\u001b[0m \u001b[38;5;250m\u001b[39m\u001b[38;5;124;03m\"\"\"\u001b[39;00m\n\u001b[0;32m     68\u001b[0m \u001b[38;5;124;03mSample a new AA at the given site from PLM distribution\u001b[39;00m\n\u001b[0;32m     69\u001b[0m \u001b[38;5;124;03m\"\"\"\u001b[39;00m\n\u001b[0;32m     70\u001b[0m probs \u001b[38;5;241m=\u001b[39m \u001b[38;5;28mself\u001b[39m\u001b[38;5;241m.\u001b[39mplm_site_distribution(site)\n\u001b[1;32m---> 71\u001b[0m new_aa \u001b[38;5;241m=\u001b[39m \u001b[43mnp\u001b[49m\u001b[38;5;241;43m.\u001b[39;49m\u001b[43mrandom\u001b[49m\u001b[38;5;241;43m.\u001b[39;49m\u001b[43mchoice\u001b[49m\u001b[43m(\u001b[49m\u001b[38;5;241;43m21\u001b[39;49m\u001b[43m,\u001b[49m\u001b[43m \u001b[49m\u001b[43mp\u001b[49m\u001b[38;5;241;43m=\u001b[39;49m\u001b[43mprobs\u001b[49m\u001b[43m)\u001b[49m \u001b[38;5;66;03m# aa from 0 to 20\u001b[39;00m\n\u001b[0;32m     72\u001b[0m \u001b[38;5;28mself\u001b[39m\u001b[38;5;241m.\u001b[39msequence[site] \u001b[38;5;241m=\u001b[39m new_aa\n",
      "File \u001b[1;32mnumpy\\\\random\\\\mtrand.pyx:994\u001b[0m, in \u001b[0;36mnumpy.random.mtrand.RandomState.choice\u001b[1;34m()\u001b[0m\n",
      "\u001b[1;31mValueError\u001b[0m: probabilities contain NaN"
     ]
    }
   ],
   "source": [
    "\"\"\"\n",
    "    Generate sequences with PLM initialization from a sequence different betas\n",
    "\"\"\"\n",
    "# init_sequence = 'DYYQVLGVPKDADAKSIKKAFRKLARKYHPDVNPGDKEAERKFKEANEANEVLSDPEKRKKYD'\n",
    "# init_sequence_num = letters_to_nums(init_sequence)\n",
    "# ratio = 0.1\n",
    "# init_sequence_num = modify_seq(init_sequence_num, ratio)\n",
    "\n",
    "N_seqs=15000\n",
    "betas = [0.01, 0.1, 0.5, 1, 2, 4, 10]\n",
    "for b in betas:\n",
    "    save_name = f\"gen_seqs_w_init_seq_Ns{N_seqs}_r{ratio}_b{b}\"\n",
    "\n",
    "    generate_plm_n_save(save_dir, save_name, Jtens, N_seqs, init_sequence=init_sequence_num,nb_PCA_comp=nb_PCA_comp, beta=b)\n",
    "    #generate_plm_n_save(save_dir, save_name, Jtens, N_seqs, init_sequence=init_sequence_num, beta=b)"
   ]
  },
  {
   "cell_type": "markdown",
   "id": "b255d1b0",
   "metadata": {},
   "source": [
    "## MODEL 2"
   ]
  },
  {
   "cell_type": "code",
   "execution_count": 2,
   "id": "73df22b1",
   "metadata": {},
   "outputs": [],
   "source": [
    "H = 64\n",
    "d= 10\n",
    "N = 174\n",
    "n_epochs = 500\n",
    "nb_PCA_comp=2\n",
    "loss_type = 'without_J'\n",
    "family = 'jdoms' #'jdoms_bacteria_train2'\n",
    "cwd = parent_dir\n",
    "Q_1 = read_tensor_from_txt( cwd +\"/results/{H}_{d}_{family}_{losstype}_{n_epochs}_youss/Q_tensor.txt\".format(H=H, d=d, family=family, losstype=loss_type, n_epochs=n_epochs))\n",
    "K_1 = read_tensor_from_txt( cwd +\"/results/{H}_{d}_{family}_{losstype}_{n_epochs}_youss/K_tensor.txt\".format(H=H, d=d, family=family, losstype=loss_type, n_epochs=n_epochs))\n",
    "V_1 = read_tensor_from_txt( cwd +\"/results/{H}_{d}_{family}_{losstype}_{n_epochs}_youss/V_tensor.txt\".format(H=H, d=d, family=family, losstype=loss_type, n_epochs=n_epochs))\n",
    "H,d,N=Q_1.shape\n",
    "q=V_1.shape[1]"
   ]
  },
  {
   "cell_type": "code",
   "execution_count": 3,
   "id": "91e8accf",
   "metadata": {},
   "outputs": [
    {
     "name": "stdout",
     "output_type": "stream",
     "text": [
      "torch.Size([64, 63, 63])\n",
      "21\n",
      "63\n",
      "torch.Size([21, 21, 63, 63])\n",
      "63\n"
     ]
    }
   ],
   "source": [
    "model=AttentionModel(H,d,N,q,Q=Q_1,V=V_1,K=K_1)\n",
    "torch.sum(model.Q-Q_1)\n",
    "device = Q_1.device\n",
    "L = Q_1.shape[-1]\n",
    "W=attention_heads_from_model(model,Q_1,K_1,V_1)\n",
    "print(W.shape)\n",
    "\n",
    "i_indices = torch.arange(L, device=device).unsqueeze(1)\n",
    "j_indices = torch.arange(L, device=device).unsqueeze(0)\n",
    "mask = (i_indices != j_indices).float().unsqueeze(0)  # shape (1, L, L)\n",
    "W = W * mask\n",
    "    \n",
    "# Compute Jtens\n",
    "Jtens = torch.einsum('hri,hab->abri', W, V_1)  # Shape: (q, q, L, L)\n",
    "q = Jtens.shape[0]\n",
    "N = Jtens.shape[2]\n",
    "print(q)\n",
    "print(N)\n",
    "print(Jtens.shape)\n",
    "print(Jtens.shape[-1])"
   ]
  },
  {
   "cell_type": "code",
   "execution_count": 4,
   "id": "873b38de",
   "metadata": {},
   "outputs": [
    {
     "name": "stdout",
     "output_type": "stream",
     "text": [
      "torch.Size([64, 63, 2])\n",
      "21\n",
      "63\n",
      "torch.Size([21, 35, 63, 2])\n"
     ]
    }
   ],
   "source": [
    "Q_1 = read_tensor_from_txt( cwd +\"/results/{H}_{d}_{family}_{losstype}_{n_epochs}_PCA_2models_35_bins/Q_tensor.txt\".format(H=H, d=d, family=family, losstype=loss_type, n_epochs=n_epochs))\n",
    "K_1 = read_tensor_from_txt( cwd +\"/results/{H}_{d}_{family}_{losstype}_{n_epochs}_PCA_2models_35_bins/K_tensor.txt\".format(H=H, d=d, family=family, losstype=loss_type, n_epochs=n_epochs))\n",
    "V_1 = read_tensor_from_txt( cwd +\"/results/{H}_{d}_{family}_{losstype}_{n_epochs}_PCA_2models_35_bins/V_tensor.txt\".format(H=H, d=d, family=family, losstype=loss_type, n_epochs=n_epochs))\n",
    "H,d,N1=Q_1.shape\n",
    "_,_,N2=K_1.shape\n",
    "_,q1,q2=V_1.shape\n",
    "model=AttentionModel_PCA(H,d,N1,N2,q1,q2,Q=Q_1,V=V_1,K=K_1)\n",
    "torch.sum(model.Q-Q_1)\n",
    "device = Q_1.device\n",
    "L = Q_1.shape[-1]\n",
    "W=attention_heads_from_model(model,Q_1,K_1,V_1)\n",
    "print(W.shape)\n",
    "\n",
    "# i_indices = torch.arange(L, device=device).unsqueeze(1)\n",
    "# j_indices = torch.arange(L, device=device).unsqueeze(0)\n",
    "# mask = (i_indices != j_indices).float().unsqueeze(0)  # shape (1, L, L)\n",
    "# W = W * mask\n",
    "    \n",
    "# Compute Jtens\n",
    "Jtens_PCA = torch.einsum('hri,hab->abri', W, V_1)  # Shape: (q, q, L, L)\n",
    "q = Jtens.shape[0]\n",
    "N = Jtens.shape[2]\n",
    "print(q)\n",
    "print(N)\n",
    "print(Jtens_PCA.shape)"
   ]
  },
  {
   "cell_type": "code",
   "execution_count": 5,
   "id": "8641005b",
   "metadata": {},
   "outputs": [
    {
     "name": "stderr",
     "output_type": "stream",
     "text": [
      "100%|██████████| 15000/15000 [07:53<00:00, 31.70it/s]\n"
     ]
    },
    {
     "name": "stdout",
     "output_type": "stream",
     "text": [
      "Generated sequences (letters): ['PSAEEILYWFHPCHIRVGQKL-YTYGSSAWEVYYYRIACLAM-ENWDAAFGHK-VSFVMCCIL', 'PSAEEILYWFHPCHIRVGQKL-YTYGSSAWEVYYYRIACLAM-ENWDAAFGHK-VEFVMCCIL', 'PSAEEILYWFHPCHIRVGDKL-YTYGSSAWEVYYYRIACLAM-ENWDAAFGHK-VEFVMCCIL', 'PSAEEILYWFHPCHRRVGDKL-YTYGSSAWEVYYYRIACLAM-ENWDAAFGHK-VEFVMCCIL', 'PSAEEILYWFHPRHRRVGDKL-YTYGSSAWEVYYYRIACLAM-ENWDAAFGHK-VEFVMCCIL']\n",
      "Generated sequences saved to generated_sequences_2Model_PCAPCA_comp\n"
     ]
    },
    {
     "name": "stderr",
     "output_type": "stream",
     "text": [
      "100%|██████████| 15000/15000 [07:48<00:00, 32.02it/s]\n"
     ]
    },
    {
     "name": "stdout",
     "output_type": "stream",
     "text": [
      "Generated sequences (letters): ['HSIPWGWKSYEWETFEWTFELDWSGPM-VNSEDYTYFRHWNFWMPAFWGSETPG-RCGIKWLM', 'HSIPWGWKSYEWETFEWKFELDWSGPM-VNSEDYTYFRHWNFWMPAFWGSETPG-RCGIKWLM', 'HSIPWGWCSYEWETFEWKFELDWSGPM-VNSEDYTYFRHWNFWMPAFWGSETPG-RCGIKWLM', 'HSIPWGWCSYEWETFEWKFELDWSGPM-VNSEDYTYFRHWNFWMPAFWGQETPG-RCGIKWLM', 'HSIPWGWCSYEWETFEWKFELDWSGPM-VNSEWYTYFRHWNFWMPAFWGQETPG-RCGIKWLM']\n",
      "Generated sequences saved to generated_sequences_2Model_PCAPCA_comp\n"
     ]
    },
    {
     "name": "stderr",
     "output_type": "stream",
     "text": [
      "100%|██████████| 15000/15000 [07:47<00:00, 32.08it/s]\n"
     ]
    },
    {
     "name": "stdout",
     "output_type": "stream",
     "text": [
      "Generated sequences (letters): ['KAVD--Q-TML-NKSGMILWQKHAV-SFRANFEPCWMVPAIGKVRTDQEEDR-EQAMYEMTFG', 'KAVD--Q-TML-NKSGMILWQKHAV-SFRAAFEPCWMVPAIGKVRTDQEEDR-EQAMYEMTFG', 'KAVD--Q-TML-NKSGMILWQKHAV-SRRAAFEPCWMVPAIGKVRTDQEEDR-EQAMYEMTFG', 'KAAD--Q-TML-NKSGMILWQKHAV-SRRAAFEPCWMVPAIGKVRTDQEEDR-EQAMYEMTFG', 'KAAD--Q-TML-NKSGMILWQKHAV-SRRAA-EPCWMVPAIGKVRTDQEEDR-EQAMYEMTFG']\n",
      "Generated sequences saved to generated_sequences_2Model_PCAPCA_comp\n"
     ]
    },
    {
     "name": "stderr",
     "output_type": "stream",
     "text": [
      "100%|██████████| 15000/15000 [07:48<00:00, 32.05it/s]\n"
     ]
    },
    {
     "name": "stdout",
     "output_type": "stream",
     "text": [
      "Generated sequences (letters): ['WKCSKFWISNEQKFRWWMHTKQETEHMHITAQKNI-TRFPIVLGSCAEEPSTHIIGDKEIVFF', 'WKCSKFWISNEQKFRWWMHTKQETEHMHIKAQKNI-TRFPIVLGSCAEEPSTHIIGDKEIVFF', 'WKCSKFWISNEQKFRWWMHTKQETEHMHIKAQKNI-TRFPIVLGSCAVEPSTHIIGDKEIVFF', 'WKCSKFWISNEQKFRWWMHTKQETEHMHIKAQKNI-TRFPIVLGSCAVEPSTHIHGDKEIVFF', 'WKCSKFWISNEQKFRWWMNTKQETEHMHIKAQKNI-TRFPIVLGSCAVEPSTHIHGDKEIVFF']\n",
      "Generated sequences saved to generated_sequences_2Model_PCAPCA_comp\n"
     ]
    },
    {
     "name": "stderr",
     "output_type": "stream",
     "text": [
      "100%|██████████| 15000/15000 [07:52<00:00, 31.72it/s]\n"
     ]
    },
    {
     "name": "stdout",
     "output_type": "stream",
     "text": [
      "Generated sequences (letters): ['VLNAKPPTYAKTFGQCIDVYNWTFYGLKWIR-SLCWTDDKDE-EIHDT-VMPQVITR-YDWHF', 'VLNAKPPTYAKTFGQCIDVYNWTFYGLKWIR-SLCWTDDKDE-EIHAT-VMPQVITR-YDWHF', 'VLNAKPPTYAKTFGQCIDVYNWTFYGLKWIR-SLCWTDDKDE-EIHATKVMPQVITR-YDWHF', 'VLNAKPPTYAKTFGQCIDVYNWTFYGL-WIR-SLCWTDDKDE-EIHATKVMPQVITR-YDWHF', 'VLNAKPPTYAKTFGQCIDVYNWTFYGL-WIR-SLCWTDDKDE-EIH-TKVMPQVITR-YDWHF']\n",
      "Generated sequences saved to generated_sequences_2Model_PCAPCA_comp\n"
     ]
    },
    {
     "name": "stderr",
     "output_type": "stream",
     "text": [
      "100%|██████████| 15000/15000 [08:04<00:00, 30.94it/s]\n"
     ]
    },
    {
     "name": "stdout",
     "output_type": "stream",
     "text": [
      "Generated sequences (letters): ['DISIFKGRQSFYVYQPIWG-WQRQGDIAQELWAHADCSRLLIFAPGLSAWPIKGYER-WTQRW', 'DISIFKGRQSFYVYQPIWG-WQRQGDIAQELWAHADCSRLLIFAPGLSAWPIKGYER-WRQRW', 'DISIFKGRQSFYVYQPMWG-WQRQGDIAQELWAHADCSRLLIFAPGLSAWPIKGYER-WRQRW', 'DMSIFKGRQSFYVYQPMWG-WQRQGDIAQELWAHADCSRLLIFAPGLSAWPIKGYER-WRQRW', 'DMSIFKGRQSFDVYQPMWG-WQRQGDIAQELWAHADCSRLLIFAPGLSAWPIKGYER-WRQRW']\n",
      "Generated sequences saved to generated_sequences_2Model_PCAPCA_comp\n"
     ]
    },
    {
     "name": "stderr",
     "output_type": "stream",
     "text": [
      "100%|██████████| 15000/15000 [08:01<00:00, 31.13it/s]\n"
     ]
    },
    {
     "name": "stdout",
     "output_type": "stream",
     "text": [
      "Generated sequences (letters): ['FYTKEQIFNPIQCFEMMNYKAGTWMS-YFPPRPHAHDEHLDS-RINPDSNMSQLLRAYLRDNQ', 'FYTKEQDFNPIQCFEMMNYKAGTWMS-YFPPRPHAHDEHLDS-RINPDSNMSQLLRAYLRDNQ', 'FYTKEQDFNPIQCFEMMNYKAGTWMS-YFPPRPHAHDEHLDS-RIHPDSNMSQLLRAYLRDNQ', 'FYTKEQDFNPIACFEMMNYKAGTWMS-YFPPRPHAHDEHLDS-RIHPDSNMSQLLRAYLRDNQ', 'FYTKEQDFNPIACFEMMNYKAGTWMS-YFPPRPHAHDEHLDS-RIHPDSNMSQLLRAYLRDNQ']\n",
      "Generated sequences saved to generated_sequences_2Model_PCAPCA_comp\n"
     ]
    },
    {
     "name": "stderr",
     "output_type": "stream",
     "text": [
      "100%|██████████| 15000/15000 [07:36<00:00, 32.85it/s]\n"
     ]
    },
    {
     "name": "stdout",
     "output_type": "stream",
     "text": [
      "Generated sequences (letters): ['QMNCDMCKLASTCEQTTCWMAMM-NADCGKYRFARNMVMCPMF-LELMNRHIIEHAEFTYDAT', 'QMNCDMCKEASTCEQTTCWMAMM-NADCGKYRFARNMVMCPMF-LELMNRHIIEHAEFTYDAT', 'DMNCDMCKEASTCEQTTCWMAMM-NADCGKYRFARNMVMCPMF-LELMNRHIIEHAEFTYDAT', 'DMNCDMCKEASTCEQTTCWMAMM-NADCGKYRFARNMVMCPMF-LELMLRHIIEHAEFTYDAT', 'DMNCDMCKEASTCEQTTCWMAMM-NADCGKYRFARNMVMCPMF-LELMLRHIIEHAEFTYDA-']\n",
      "Generated sequences saved to generated_sequences_2Model_PCAPCA_comp\n"
     ]
    },
    {
     "name": "stderr",
     "output_type": "stream",
     "text": [
      "100%|██████████| 15000/15000 [07:30<00:00, 33.31it/s]\n"
     ]
    },
    {
     "name": "stdout",
     "output_type": "stream",
     "text": [
      "Generated sequences (letters): ['--QHTK-WRGLHPTCSYPDCKKYYRLGTHCVCPNLPPDASLKE-SVQA-HDNVSAQNRHFFTY', '---HTK-WRGLHPTCSYPDCKKYYRLGTHCVCPNLPPDASLKE-SVQA-HDNVSAQNRHFFTY', '---HTK-WRGL-PTCSYPDCKKYYRLGTHCVCPNLPPDASLKE-SVQA-HDNVSAQNRHFFTY', '---HTK-WRGL-PTCSYPDCKKYYRLGTHCVCPALPPDASLKE-SVQA-HDNVSAQNRHFFTY', '---HTK-WRGL-PTCSYPDCKKYYRLGTHCVCPALPPDASLKE-SVQA-HDNVSAQNRHFFTY']\n",
      "Generated sequences saved to generated_sequences_2Model_PCAPCA_comp\n"
     ]
    },
    {
     "name": "stderr",
     "output_type": "stream",
     "text": [
      "100%|██████████| 15000/15000 [07:49<00:00, 31.92it/s]\n"
     ]
    },
    {
     "name": "stdout",
     "output_type": "stream",
     "text": [
      "Generated sequences (letters): ['FVFLVWDP-DGCLHDVYC-LAVYIL-CMVSG-YPGFDARSYCDWGWENYENHDI-YGDEQNDC', 'FVFLVWDP-DGCLHKVYC-LAVYIL-CMVSG-YPGFDARSYCDWGWENYENHDI-YGDEQNDC', 'FVFLVWDP-DGCLLKVYC-LAVYIL-CMVSG-YPGFDARSYCDWGWENYENHDI-YGDEQNDC', 'FVFLVADP-DGCLLKVYC-LAVYIL-CMVSG-YPGFDARSYCDWGWENYENHDI-YGDEQNDC', 'FVFLVADP-DGCLLKVYC-LAVYIK-CMVSG-YPGFDARSYCDWGWENYENHDI-YGDEQNDC']\n",
      "Generated sequences saved to generated_sequences_2Model_PCAPCA_comp\n"
     ]
    },
    {
     "name": "stderr",
     "output_type": "stream",
     "text": [
      "100%|██████████| 15000/15000 [07:27<00:00, 33.55it/s]\n"
     ]
    },
    {
     "name": "stdout",
     "output_type": "stream",
     "text": [
      "Generated sequences (letters): ['SWFRMTAAEIKAIVYMPCPGTEFNNIPKYVPAEVPNLPLHIHN-NEIWVKDTQDGSYTCELHS', 'SWFRMTAAEIKAIVYMPCPLTEFNNIPKYVPAEVPNLPLHIHN-NEIWVKDTQDGSYTCELHS', 'SWFRMTAAEIKAIVYMPCPLTEFNNIPKYVPAEVPNLPLHLHN-NEIWVKDTQDGSYTCELHS', 'SWFRMTAAEIKAIVYMPCPLTEFNNIPKYVPAEVPNLPLHLHN-NEIWVKDTQDGSYTC-LHS', 'SWFRMTAAEAKAIVYMPCPLTEFNNIPKYVPAEVPNLPLHLHN-NEIWVKDTQDGSYTC-LHS']\n",
      "Generated sequences saved to generated_sequences_2Model_PCAPCA_comp\n"
     ]
    },
    {
     "name": "stderr",
     "output_type": "stream",
     "text": [
      "100%|██████████| 15000/15000 [07:22<00:00, 33.86it/s]\n"
     ]
    },
    {
     "name": "stdout",
     "output_type": "stream",
     "text": [
      "Generated sequences (letters): ['RV-HQLECPNAGKYATIHDRLKGPMPMSFKA-VVYISWGPDWIASWKFMIINYRWAW-PKFNT', 'RV-HQLECPNAGKYATIHDRLKGPMPMSFKA-VVYIKWGPDWIASWKFMIINYRWAW-PKFNT', 'RV-HQLECPNAGKYATIHDRLKGPMPMSFKA-VVYIKWGPDWIASWKFMIINYRAAW-PKFNT', 'RV-HLLECPNAGKYATIHDRLKGPMPMSFKA-VVYIKWGPDWIASWKFMIINYRAAW-PKFNT', 'RV-HLLECPNAGKYATIHDRLKGPMPMSFKA-VVYIKWGPDWAASWKFMIINYRAAW-PKFNT']\n",
      "Generated sequences saved to generated_sequences_2Model_PCAPCA_comp\n"
     ]
    },
    {
     "name": "stderr",
     "output_type": "stream",
     "text": [
      "100%|██████████| 15000/15000 [07:19<00:00, 34.14it/s]\n"
     ]
    },
    {
     "name": "stdout",
     "output_type": "stream",
     "text": [
      "Generated sequences (letters): ['NHEAAVVSLVNRDGSVR-MFAWLVCIFTADLVD-NGWPFHSTTQNRYFFQAMGHTLRRV-LMW', 'NHEAAVVSL-NRDGSVR-MFAWLVCIFTADLVD-NGWPFHSTTQNRYFFQAMGHTLRRV-LMW', 'NHEAAVVSL-NRDGSVR-MFAWLVCIFTAALVD-NGWPFHSTTQNRYFFQAMGHTLRRV-LMW', 'NHEAAVVSL-NRDGSVR-MFAWLVCIFAAALVD-NGWPFHSTTQNRYFFQAMGHTLRRV-LMW', 'NHEAAVVSL-NRDGSVR-MFAWAVCIFAAALVD-NGWPFHSTTQNRYFFQAMGHTLRRV-LMW']\n",
      "Generated sequences saved to generated_sequences_2Model_PCAPCA_comp\n",
      "Total sequences read: 14502\n",
      "Sequences after filtering: 14502\n",
      "(63, 14502)\n",
      "Removing duplicate sequences...\n",
      "Done: 14502 -> 14502 sequences after removing duplicates.\n",
      "[17  5]\n"
     ]
    },
    {
     "name": "stderr",
     "output_type": "stream",
     "text": [
      "100%|██████████| 15000/15000 [07:39<00:00, 32.67it/s]\n"
     ]
    },
    {
     "name": "stdout",
     "output_type": "stream",
     "text": [
      "Generated sequences (letters): ['ATYEVLGCKEGDSFDENE-AYSQLGW-MHPDQALKNPLAEEKMRMLGTPYYYLSGNS----S-', 'ATYEVL-CKEGDSFDENE-AYSQLGW-MHPDQALKNPLAEEKMRMLGTPYYYLSGNS----S-', 'ATYEVL-CKEGDSFDENE-AYSQLGW-MHPDQALKNPLAEEKMRALGTPYYYLSGNS----S-', 'ATYEVL-CKEGDSFDENE-AYSQLGW-MHPDQALKNPLAEEKMRALGTPYYYLSGNS----S-', 'ATYEV--CKEGDSFDENE-AYSQLGW-MHPDQALKNPLAEEKMRALGTPYYYLSGNS----S-']\n",
      "Generated sequences saved to generated_sequences_2Model_PCAPCA_comp\n"
     ]
    },
    {
     "name": "stderr",
     "output_type": "stream",
     "text": [
      "100%|██████████| 15000/15000 [07:46<00:00, 32.18it/s]\n"
     ]
    },
    {
     "name": "stdout",
     "output_type": "stream",
     "text": [
      "Generated sequences (letters): ['----H--IE--ALVAQ------R-A-Q--PKIA-A--E-V-R----L-G-A-L----------', '----H--IE--ALVAQK-----R-A-Q--PKIA-A--E-V-R----L-G-A-L----------', '----H--IE--ALVAQK-----R-A-Q--PKIA-A-VE-V-R----L-G-A-L----------', '----H--IE--ALVAQK-----R-A-Q--PKIA-A-VE-V-R----L-G-A-LA---------', '----H--IE--ALVAQD-----R-A-Q--PKIA-A-VE-V-R----L-G-A-LA---------']\n",
      "Generated sequences saved to generated_sequences_2Model_PCAPCA_comp\n"
     ]
    },
    {
     "name": "stderr",
     "output_type": "stream",
     "text": [
      "100%|██████████| 15000/15000 [07:50<00:00, 31.87it/s]\n"
     ]
    },
    {
     "name": "stdout",
     "output_type": "stream",
     "text": [
      "Generated sequences (letters): ['FCHSMQHTTNVLYFEGQAPYMMNHWPTK-KLKEWAFDLWCFWFICQLEDDR-EKVFS-VTWTI', 'FCHSMQHTTNVLYFEGQAPYMMNHWPTK-KLKEWAFDLWAFWFICQLEDDR-EKVFS-VTWTI', 'FCHSMQHTTNVLYFEGQAPYMMNH-PTK-KLKEWAFDLWAFWFICQLEDDR-EKVFS-VTWTI', 'FCHSMQHTTNVLYFEGQAPYMMNH-PTK-KLKEWAFDLWAAWFICQLEDDR-EKVFS-VTWTI', 'FCHSMQHTTNVLYFEGQAPYMMNH-PTK-KLKEWAFDLWAAWFICTLEDDR-EKVFS-VTWTI']\n",
      "Generated sequences saved to generated_sequences_2Model_PCAPCA_comp\n"
     ]
    },
    {
     "name": "stderr",
     "output_type": "stream",
     "text": [
      "100%|██████████| 15000/15000 [07:45<00:00, 32.21it/s]\n"
     ]
    },
    {
     "name": "stdout",
     "output_type": "stream",
     "text": [
      "Generated sequences (letters): ['----T--L-CDA-EAE---A-QA-A-EL-PE-P-----DAATY----AAYT------S-----', '----T--L-CDA-EAE---A-QA-A-EL-PE-P-----DYATY----AAYT------S-----', '----T--L-CDA-EAE---A-QA-A-EG-PE-P-----DYATY----AAYT------S-----', '----T--L-CDA-EAE---A-QA-A-EG-PE-P-----DYATY----WAYT------S-----', '----T--L-CDA-EAE---A-QA-A-EG-PE-P-----DYATY----WAYT-I----S-----']\n",
      "Generated sequences saved to generated_sequences_2Model_PCAPCA_comp\n"
     ]
    },
    {
     "name": "stderr",
     "output_type": "stream",
     "text": [
      "100%|██████████| 15000/15000 [07:34<00:00, 32.99it/s]\n"
     ]
    },
    {
     "name": "stdout",
     "output_type": "stream",
     "text": [
      "Generated sequences (letters): ['TRIVWMDANFKS-MA-AQETNSARQIILQIRYPGM-QKNADLWVK-VTTD-MC--FAPHTQRT', 'TRIVW-DANFKS-MA-AQETNSARQIILQIRYPGM-QKNADLWVK-VTTD-MC--FAPHTQRT', 'TRIVW-DANFKS-MA-AQETNSARQIILQIRYPGM-QKNRDLWVK-VTTD-MC--FAPHTQRT', 'TRIVW-DANFKS-MA-AQETQSARQIILQIRYPGM-QKNRDLWVK-VTTD-MC--FAPHTQRT', 'TRIVW-DANFKS-MA-AQETQSARQIILQIRYPGM-QKNRDLWVK-VTT--MC--FAPHTQRT']\n",
      "Generated sequences saved to generated_sequences_2Model_PCAPCA_comp\n"
     ]
    },
    {
     "name": "stderr",
     "output_type": "stream",
     "text": [
      "100%|██████████| 15000/15000 [07:34<00:00, 32.98it/s]\n"
     ]
    },
    {
     "name": "stdout",
     "output_type": "stream",
     "text": [
      "Generated sequences (letters): ['----R-------EA-A---RY-------H-E---------R---A---A--------------', '----R-------TA-A---RY-------H-E---------R---A---A--------------', '----R-------TA-A---RY-------H-E---------R---A---A--------------', '----R-------TA-A---RY-------H-E---------R--QA---A--------------', '----R-------TA-A---RY-------H-E---------R--QA---A--------------']\n",
      "Generated sequences saved to generated_sequences_2Model_PCAPCA_comp\n"
     ]
    },
    {
     "name": "stderr",
     "output_type": "stream",
     "text": [
      "100%|██████████| 15000/15000 [07:29<00:00, 33.33it/s]\n"
     ]
    },
    {
     "name": "stdout",
     "output_type": "stream",
     "text": [
      "Generated sequences (letters): ['----RQ-LEAEAD-AAVVTAYRFMG-AK-PD-R--T----AD-AIISAAYQ------------', '----RQ-LEAEAD-AAVVTAYRAMG-AK-PD-R--T----AD-AIISAAYQ------------', '----RQ-LEAEAD-AAVVTAYRAMG-AK-PD-R--T----AD-AIISAAYQ------------', '----RQ-LEAEAD-AAVVTAYRALG-AK-PD-R--T----AD-AIISAAYQ------------', '----RQ-LEAEAD-AAVVAAYRALG-AK-PD-R--T----AD-AIISAAYQ------------']\n",
      "Generated sequences saved to generated_sequences_2Model_PCAPCA_comp\n"
     ]
    },
    {
     "name": "stderr",
     "output_type": "stream",
     "text": [
      "100%|██████████| 15000/15000 [07:38<00:00, 32.75it/s]\n"
     ]
    },
    {
     "name": "stdout",
     "output_type": "stream",
     "text": [
      "Generated sequences (letters): ['---------------------------------------------------------------', '---------------------------------------------------------------', '---------------------------------------------------------------', '---------------------------------------------------------------', '---------------------------------------------------------------']\n",
      "Generated sequences saved to generated_sequences_2Model_PCAPCA_comp\n"
     ]
    },
    {
     "name": "stderr",
     "output_type": "stream",
     "text": [
      "100%|██████████| 15000/15000 [07:42<00:00, 32.41it/s]\n"
     ]
    },
    {
     "name": "stdout",
     "output_type": "stream",
     "text": [
      "Generated sequences (letters): ['---------------------------------------------------------------', '---------------------------------------------------------------', '---------------------------------------------------------------', '---------------------------------------------------------------', '---------------------------------------------------------------']\n",
      "Generated sequences saved to generated_sequences_2Model_PCAPCA_comp\n"
     ]
    },
    {
     "name": "stderr",
     "output_type": "stream",
     "text": [
      "100%|██████████| 15000/15000 [07:41<00:00, 32.52it/s]\n"
     ]
    },
    {
     "name": "stdout",
     "output_type": "stream",
     "text": [
      "Generated sequences (letters): ['---------------------------------------------------------------', '---------------------------------------------------------------', '---------------------------------------------------------------', '---------------------------------------------------------------', '---------------------------------------------------------------']\n",
      "Generated sequences saved to generated_sequences_2Model_PCAPCA_comp\n"
     ]
    },
    {
     "name": "stderr",
     "output_type": "stream",
     "text": [
      "100%|██████████| 15000/15000 [07:50<00:00, 31.87it/s]\n"
     ]
    },
    {
     "name": "stdout",
     "output_type": "stream",
     "text": [
      "Generated sequences (letters): ['---------------------------------------------------------------', '---------------------------------------------------------------', '---------------------------------------------------------------', '---------------------------------------------------------------', '---------------------------------------------------------------']\n",
      "Generated sequences saved to generated_sequences_2Model_PCAPCA_comp\n"
     ]
    },
    {
     "name": "stderr",
     "output_type": "stream",
     "text": [
      "100%|██████████| 15000/15000 [08:05<00:00, 30.87it/s]\n"
     ]
    },
    {
     "name": "stdout",
     "output_type": "stream",
     "text": [
      "Generated sequences (letters): ['---------------------------------------------------------------', '---------------------------------------------------------------', '---------------------------------------------------------------', '---------------------------------------------------------------', '---------------------------------------------------------------']\n",
      "Generated sequences saved to generated_sequences_2Model_PCAPCA_comp\n"
     ]
    },
    {
     "name": "stderr",
     "output_type": "stream",
     "text": [
      "100%|██████████| 15000/15000 [08:08<00:00, 30.72it/s]\n"
     ]
    },
    {
     "name": "stdout",
     "output_type": "stream",
     "text": [
      "Generated sequences (letters): ['---------------------------------------------------------------', '---------------------------------------------------------------', '---------------------------------------------------------------', '---------------------------------------------------------------', '---------------------------------------------------------------']\n",
      "Generated sequences saved to generated_sequences_2Model_PCAPCA_comp\n"
     ]
    }
   ],
   "source": [
    "\"\"\"\n",
    "    Generate sequences with PLM random initialization\n",
    "\"\"\"\n",
    "save_dir = \"generated_sequences_2Model_PCA\"\n",
    "N_seqs = 30000\n",
    "save_name = \"generated_sequences_randinit_30000\"\n",
    "#generate_plm_n_save(save_dir, save_name, Jtens, N_seqs=N_seqs, init_sequence=None,nb_PCA_comp=2,PCA_comp_list=np.array([20,20]),J_PCA=Jtens_PCA)\n",
    "N_seqs=15000\n",
    "betas = [0.01, 0.1, 0.5, 1, 2, 4, 10]\n",
    "\n",
    "for b in betas:\n",
    "    save_name = f\"gen_seqs_randinit_Ns{N_seqs}_b{b}_b_PCA_1\"\n",
    "    generate_plm_n_save(save_dir, save_name, Jtens, N_seqs, init_sequence=None,nb_PCA_comp=nb_PCA_comp, beta=b,J_PCA=Jtens_PCA,PCA_comp_list=np.array([23,23]))\n",
    "    if b!=1:\n",
    "        save_name = f\"gen_seqs_randinit_Ns{N_seqs}_b_1_b_PCA{b}\"\n",
    "        generate_plm_n_save(save_dir, save_name, Jtens, N_seqs, init_sequence=None, beta=b,nb_PCA_comp=nb_PCA_comp,J_PCA=Jtens_PCA,beta_PCA=b,PCA_comp_list=np.array([23,23]))\n",
    "\n",
    "##############################################################\n",
    "\n",
    "\"\"\"\n",
    "    Generate sequences with PLM initialization from a sequence\n",
    "\"\"\"\n",
    "file_test_data=r\"C:\\Users\\youss\\OneDrive\\Bureau\\master epfl\\MA2\\TP4 De los Rios\\git_test\\PLM-gen-DCA\\Attention-DCA-main\\CODE\\DataAttentionDCA\\jdoms\\jdoms_bacteria_train2.fasta\"\n",
    "seq_data_test=read_fasta_alignment(file_test_data,0.8)\n",
    "\n",
    "print(seq_data_test.shape)\n",
    "seq_data_test_filtered,_=remove_duplicate_sequences(seq_data_test)\n",
    "seq_data_test_filtered=seq_data_test_filtered.T\n",
    "seq_data_test_filtered_with_PCA= add_PCA_coords(seq_data_test_filtered,35) #####DONT FORGET TO CHANGE NUMBER OF BINS IF NECESSARY\n",
    "\n",
    "\n",
    "#init_sequence = 'DYYQVLGVPKDADAKSIKKAFRKLARKYHPDVNPGDKEAERKFKEANEANEVLSDPEKRKKYD'\n",
    "init_sequence_num = seq_data_test_filtered_with_PCA[0]\n",
    "print(init_sequence_num[-2:])\n",
    "ratio = 0.4\n",
    "init_sequence_num = modify_seq(init_sequence_num, ratio,nb_PCA_comp=2)\n",
    "N_seqs=30000\n",
    "save_name = f\"gen_seqs_w_init_seq_Ns{N_seqs}_r{ratio}\"\n",
    "\n",
    "#generate_plm_n_save(save_dir, save_name, Jtens, N_seqs, init_sequence=init_sequence_num,nb_PCA_comp=nb_PCA_comp,J_PCA=Jtens_PCA)\n",
    "\n",
    "\"\"\"\n",
    "    Generate sequences with PLM initialization from a sequence different betas\n",
    "\"\"\"\n",
    "# init_sequence = 'DYYQVLGVPKDADAKSIKKAFRKLARKYHPDVNPGDKEAERKFKEANEANEVLSDPEKRKKYD'\n",
    "# init_sequence_num = letters_to_nums(init_sequence)\n",
    "# ratio = 0.1\n",
    "# init_sequence_num = modify_seq(init_sequence_num, ratio)\n",
    "\n",
    "N_seqs=15000\n",
    "betas = [0.01, 0.1, 0.5, 1, 2, 4,10]\n",
    "\n",
    "for b in betas:\n",
    "    save_name = f\"gen_seqs_w_init_seq_Ns{N_seqs}_r{ratio}_b{b}\"\n",
    "    generate_plm_n_save(save_dir, save_name, Jtens, N_seqs, init_sequence=init_sequence_num,nb_PCA_comp=nb_PCA_comp, beta=b,J_PCA=Jtens_PCA)\n",
    "    if b!=1:\n",
    "        save_name = f\"gen_seqs_w_init_seq_Ns{N_seqs}_r{ratio}_b_1_b_PCA{b}\"\n",
    "        generate_plm_n_save(save_dir, save_name, Jtens, N_seqs, init_sequence=init_sequence_num, beta=b,nb_PCA_comp=nb_PCA_comp,J_PCA=Jtens_PCA,beta_PCA=b)"
   ]
  },
  {
   "cell_type": "markdown",
   "id": "e51e37eb",
   "metadata": {},
   "source": [
    "## ADDED - NEW MODEL"
   ]
  },
  {
   "cell_type": "code",
   "execution_count": 10,
   "id": "1be1b89b",
   "metadata": {},
   "outputs": [
    {
     "name": "stderr",
     "output_type": "stream",
     "text": [
      "100%|██████████| 15000/15000 [03:19<00:00, 75.22it/s]\n"
     ]
    },
    {
     "name": "stdout",
     "output_type": "stream",
     "text": [
      "Generated sequences (letters): ['N-K-MSKIYDWSKRATYRAVTMLMQFCSGPHTECDIHWDFNNKNESADQLC-NHKT-VCHQLF', '--K-MSKIYDWSKRATYRAVTMLMQFCSGPHTECDIHWDFNNKNESADQLC-NHKT-VCHQLF', '--K-MSKIYDWSKRATYRAVTMLMQFCSGPHTECDI-WDFNNKNESADQLC-NHKT-VCHQLF', '--K-MSKIYDWSKRATYRAVTALMQFCSGPHTECDI-WDFNNKNESADQLC-NHKT-VCHQLF', '--K-MSKIYDWS-RATYRAVTALMQFCSGPHTECDI-WDFNNKNESADQLC-NHKT-VCHQLF']\n",
      "Generated sequences saved to generated_sequences_2Model_PCAPCA_comp\n",
      "done generating sequences with PLM initialization from a random sequence\n"
     ]
    }
   ],
   "source": [
    "\"\"\"\n",
    "    Generate sequences with PLM random initialization\n",
    "\"\"\"\n",
    "save_dir = \"generated_sequences_2Model_PCA\"\n",
    "N_seqs = 15000\n",
    "save_name = \"generated_sequences_randinit_30000_25_6\"\n",
    "PCA_comp_list=np.array([25,6])\n",
    "generate_plm_n_save(save_dir, save_name, Jtens, N_seqs=N_seqs, init_sequence=None,nb_PCA_comp=2,PCA_comp_list=PCA_comp_list,J_PCA=Jtens_PCA)\n",
    "\n",
    "print(\"done generating sequences with PLM initialization from a random sequence\")\n"
   ]
  },
  {
   "cell_type": "code",
   "execution_count": null,
   "id": "91d7760d",
   "metadata": {},
   "outputs": [
    {
     "name": "stdout",
     "output_type": "stream",
     "text": [
      "Total sequences read: 14502\n",
      "Sequences after filtering: 14502\n",
      "(63, 14502)\n",
      "Removing duplicate sequences...\n",
      "Done: 14502 -> 14502 sequences after removing duplicates.\n",
      "[17  5]\n",
      "initial sequence number: [11 12 19  3 17  9  5  7  8  3  5  0 15 13  2  3  7  8  8  0 19 14  3  9\n",
      "  0  8  8 19  6 12  2 13 19  5  2 11 12  9  0  3  3  8 10 14  3  9 11  3\n",
      "  0 19  2 19  9 15  8 11 15 20 20 20 20 20 20 17  5]\n"
     ]
    },
    {
     "name": "stderr",
     "output_type": "stream",
     "text": [
      "100%|██████████| 15000/15000 [03:31<00:00, 70.87it/s]\n"
     ]
    },
    {
     "name": "stdout",
     "output_type": "stream",
     "text": [
      "Generated sequences (letters): ['NWYEVVGIWETASSYEIKKAY-ELAKKYGWDQYVDNPLCEEKIIDLRHFYDYRSKAS--HG--', 'NWYEVVGIWETASSYEIKKAY-ELAKKYGWDQYVDNPLCEEKIIDLRHFYDYRSKAS--HG--', 'NWYEVVGIWETASSYEIKKAY-ELAKKYGWDQYVDNPLCEEKIIDIRHFYDYRSKAS--HG--', 'NWYEVVGIWETASSYEIKKAY-ELAKKYGWDQYVDNPLCEEKIIDIRHFYDYRSKAS--HG--', '-WYEVVGIWETASSYEIKKAY-ELAKKYGWDQYVDNPLCEEKIIDIRHFYDYRSKAS--HG--']\n",
      "Generated sequences saved to generated_sequences_2Model_PCAPCA_comp\n",
      "done generating sequences with PLM initialization from an initial sequence sequence\n"
     ]
    }
   ],
   "source": [
    "##############################################################\n",
    "\n",
    "\"\"\"\n",
    "    Generate sequences with PLM initialization from a sequence\n",
    "\"\"\"\n",
    "import platform\n",
    "\n",
    "if platform.system() == \"Darwin\":  # macOS\n",
    "    base_path = '/Users/marzioformica/Desktop/EPFL/Master/StageLBS/PCA_gen_AI/CODE/DataAttentionDCA/jdoms'\n",
    "else:  # assume Windows for Youss\n",
    "    base_path = r\"C:\\Users\\youss\\OneDrive\\Bureau\\master epfl\\MA2\\TP4 De los Rios\\git_test\\PLM-gen-DCA\\Attention-DCA-main\\CODE\\DataAttentionDCA\\jdoms\"\n",
    "\n",
    "file_test_data = f\"{base_path}/jdoms_bacteria_train2.fasta\"\n",
    "seq_data_test=read_fasta_alignment(file_test_data,0.8)\n",
    "\n",
    "print(seq_data_test.shape)\n",
    "seq_data_test_filtered,_=remove_duplicate_sequences(seq_data_test)\n",
    "seq_data_test_filtered=seq_data_test_filtered.T\n",
    "seq_data_test_filtered_with_PCA= add_PCA_coords(seq_data_test_filtered,35) #####DONT FORGET TO CHANGE NUMBER OF BINS IF NECESSARY\n",
    "\n",
    "\n",
    "#init_sequence = 'DYYQVLGVPKDADAKSIKKAFRKLARKYHPDVNPGDKEAERKFKEANEANEVLSDPEKRKKYD'\n",
    "init_sequence_num = seq_data_test_filtered_with_PCA[0]\n",
    "print(init_sequence_num[-2:])\n",
    "print(\"initial sequence number:\", init_sequence_num)\n",
    "ratio = 0.4\n",
    "init_sequence_num = modify_seq(init_sequence_num, ratio,nb_PCA_comp=2)\n",
    "N_seqs=15000\n",
    "save_name = f\"gen_seqs_w_init_seq_Ns{N_seqs}_r{ratio}_20_20\"\n",
    "\n",
    "generate_plm_n_save(save_dir, save_name, Jtens, N_seqs, init_sequence=init_sequence_num,nb_PCA_comp=nb_PCA_comp,PCA_comp_list=PCA_comp_list, J_PCA=Jtens_PCA)\n",
    "print(\"done generating sequences with PLM initialization from an initial sequence sequence\")\n"
   ]
  },
  {
   "cell_type": "markdown",
   "id": "5eae4096",
   "metadata": {},
   "source": [
    "## Generate from multiple coords"
   ]
  },
  {
   "cell_type": "code",
   "execution_count": 7,
   "id": "5f3a5c9c",
   "metadata": {},
   "outputs": [
    {
     "name": "stdout",
     "output_type": "stream",
     "text": [
      "Mismatch of PCA tensor and nb PCA components indicated\n",
      "number of PCA components doesn't match size of PCA list\n"
     ]
    },
    {
     "name": "stderr",
     "output_type": "stream",
     "text": [
      "100%|██████████| 10000/10000 [03:38<00:00, 45.82it/s]\n"
     ]
    },
    {
     "name": "stdout",
     "output_type": "stream",
     "text": [
      "[0] Generated sequences for target (17, 15) (first 5): ['NSNMCQTRGYQVGNQLVGTVMGGALQIWPADGCERWQEM-SYTG-IIT--M-NPVVCSTGTDM', 'NSNMCQTRGYQVGNALVGTVMGGALQIWPADGCERWQEM-SYTG-IIT--M-NPVVCSTGTDM', 'NSNMCQTRGYQVGNALVGTVMGGALQIWPADGCERWQEM-SYTG-IIT-YM-NPVVCSTGTDM', 'NSN-CQTRGYQVGNALVGTVMGGALQIWPADGCERWQEM-SYTG-IIT-YM-NPVVCSTGTDM', 'NSN-CQTRGYQVGNVLVGTVMGGALQIWPADGCERWQEM-SYTG-IIT-YM-NPVVCSTGTDM']\n",
      "Mismatch of PCA tensor and nb PCA components indicated\n",
      "number of PCA components doesn't match size of PCA list\n"
     ]
    },
    {
     "name": "stderr",
     "output_type": "stream",
     "text": [
      "100%|██████████| 10000/10000 [03:41<00:00, 45.09it/s]\n"
     ]
    },
    {
     "name": "stdout",
     "output_type": "stream",
     "text": [
      "[1] Generated sequences for target (20, 34) (first 5): ['MILWMSLGEMHKPFIHV-TA-SRYCAPDIMIRHDWRMDPALGPEPMGFDHCQVDC-IAGIYNA', 'MILWMSLGEMHKPFIHV-TA-SRYCAPDIMIRHDWRMDPALGPEPMGFDHCQVDCLIAGIYNA', 'MILWMSLGEMHKPFIHVDTA-SRYCAPDIMIRHDWRMDPALGPEPMGFDHCQVDCLIAGIYNA', 'MILWMSLGEMHKPFIHVDTA-SRYCAPDIMIRHDWRMDPALGPEPMGFDHCRVDCLIAGIYNA', 'MILWMSLGEMHKPFIHVDTA-SRYCAPDIMIRHDWRMDPALGPERMGFDHCRVDCLIAGIYNA']\n",
      "Mismatch of PCA tensor and nb PCA components indicated\n",
      "number of PCA components doesn't match size of PCA list\n"
     ]
    },
    {
     "name": "stderr",
     "output_type": "stream",
     "text": [
      "100%|██████████| 10000/10000 [03:34<00:00, 46.72it/s]\n"
     ]
    },
    {
     "name": "stdout",
     "output_type": "stream",
     "text": [
      "[2] Generated sequences for target (28, 10) (first 5): ['YHHIRC-PIATDA-TFKTLWGQKNE-ADHN-LPHM-GMSFT-I-LDHCIC-YYKTGVDEMNLN', 'YHHIRC-PIATDA-TFKTLWGQKNE-ADHN-LPHM-GMSFT-I-GDHCIC-YYKTGVDEMNLN', 'YHHIRC-PIATDA-TFKTLWGQWNE-ADHN-LPHM-GMSFT-I-GDHCIC-YYKTGVDEMNLN', 'YHHIRC-PIATDA-TFKTLWGQWNE-ADHN-LPHM-GMSFT-I-GDHCICGYYKTGVDEMNLN', 'YHHIRC-PIATDA-TFKTLWGQWNE-ADHN-LPHM-GMSFT-I-GDHCICGYYKTGV-EMNLN']\n",
      "Mismatch of PCA tensor and nb PCA components indicated\n",
      "number of PCA components doesn't match size of PCA list\n"
     ]
    },
    {
     "name": "stderr",
     "output_type": "stream",
     "text": [
      "100%|██████████| 10000/10000 [04:22<00:00, 38.11it/s]\n"
     ]
    },
    {
     "name": "stdout",
     "output_type": "stream",
     "text": [
      "[3] Generated sequences for target (7, 13) (first 5): ['HDTYHMTQSKRGYTADWMPLKQNL-WEVNEDYCSPDEEPACDV-LFPIPTTSVLCWPTVCYAF', 'HDTYHMTQSKRGYTADWMPLKQNL-WEVNEDYCSPDEEPACDV-LFPIPTTSVLCWPTVCYAF', 'HDTYHMTQSKRGYTADWMPLKQNL-WEVNEDYCSPDEEPACDVNLFPIPTTSVLCWPTVCYAF', 'HDTYHMTQSKRGYTADWMPLKQNL-WEVNEDYCSPDEEPACDVNLFPRPTTSVLCWPTVCYAF', 'HDTYHMTQSKRGYTADWMPKKQNL-WEVNEDYCSPDEEPACDVNLFPRPTTSVLCWPTVCYAF']\n",
      "Mismatch of PCA tensor and nb PCA components indicated\n",
      "number of PCA components doesn't match size of PCA list\n"
     ]
    },
    {
     "name": "stderr",
     "output_type": "stream",
     "text": [
      "100%|██████████| 10000/10000 [04:46<00:00, 34.95it/s]\n"
     ]
    },
    {
     "name": "stdout",
     "output_type": "stream",
     "text": [
      "[4] Generated sequences for target (2, 7) (first 5): ['PVQRENWVYIPTLQFAGGIQMKYY-WIFMLIDLMPGTTCFENENVSQQKGSVYRLHPAL-QAC', 'PVQRENWVYIPTLQFAGGIQMKYY-WIFMLIDLMPGTTCFENNNVSQQKGSVYRLHPAL-QAC', 'PVQRENWVYIPTLQFAGGIQMKYY-WIFMLIDLMPGTTCFENNNVSQVKGSVYRLHPAL-QAC', 'PVQRENWVYIPTLQFAGGIQMKYY-WIFMLIDLMPGLTCFENNNVSQVKGSVYRLHPAL-QAC', 'PDQRENWVYIPTLQFAGGIQMKYY-WIFMLIDLMPGLTCFENNNVSQVKGSVYRLHPAL-QAC']\n",
      "Mismatch of PCA tensor and nb PCA components indicated\n",
      "number of PCA components doesn't match size of PCA list\n"
     ]
    },
    {
     "name": "stderr",
     "output_type": "stream",
     "text": [
      "100%|██████████| 10000/10000 [04:30<00:00, 37.01it/s]\n"
     ]
    },
    {
     "name": "stdout",
     "output_type": "stream",
     "text": [
      "[5] Generated sequences for target (23, 25) (first 5): ['KACSWKIRFHVERIC-RSGWFATTCVNLQYFNTPATAWGGEPGQYDIL-CIDPSYLTMQLPEC', 'KACSWKIRFHVERIC-RSGWFATTCVNLQYFNTPATAWGGEPGQYDIL-CIDPSYLTMQLPEC', 'KACSWKIRFHVERIC-RSGWFATTCVNLQYFNTPATAWGGEPGQYDIL-CIDPSVLTMQLPEC', 'KACSWKERFHVERIC-RSGWFATTCVNLQYFNTPATAWGGEPGQYDIL-CIDPSVLTMQLPEC', 'KACSWKERFHVERIC-RSGWFATTCVNLQYFNTPATAWGGEPRQYDIL-CIDPSVLTMQLPEC']\n",
      "Mismatch of PCA tensor and nb PCA components indicated\n",
      "number of PCA components doesn't match size of PCA list\n"
     ]
    },
    {
     "name": "stderr",
     "output_type": "stream",
     "text": [
      "100%|██████████| 10000/10000 [04:38<00:00, 35.95it/s]\n"
     ]
    },
    {
     "name": "stdout",
     "output_type": "stream",
     "text": [
      "[6] Generated sequences for target (29, 30) (first 5): ['QKLRAYHSY-FAWGSYGYFHHRTEVDGWTVHVGLQQTMNQGCTTEKY-NWGDMPYNW-NNKKN', 'QKLRAYHSL-FAWGSYGYFHHRTEVDGWTVHVGLQQTMNQGCTTEKY-NWGDMPYNW-NNKKN', 'QKLRAYHSL-FAWGSYGYFHHRTEVDGSTVHVGLQQTMNQGCTTEKY-NWGDMPYNW-NNKKN', 'QKLRAYHSL-FAWGSYGYFHHRTEVDGSTVHVGLQQTMNQGCTTEKY-NWGDMPYNW-HNKKN', 'QKLRAYHSL-FAWGSYAYFHHRTEVDGSTVHVGLQQTMNQGCTTEKY-NWGDMPYNW-HNKKN']\n",
      "Mismatch of PCA tensor and nb PCA components indicated\n",
      "number of PCA components doesn't match size of PCA list\n"
     ]
    },
    {
     "name": "stderr",
     "output_type": "stream",
     "text": [
      "100%|██████████| 10000/10000 [04:17<00:00, 38.77it/s]\n"
     ]
    },
    {
     "name": "stdout",
     "output_type": "stream",
     "text": [
      "[7] Generated sequences for target (31, 27) (first 5): ['FHKYVAQQRAHTRASWRCLDRTGMLEAA-GSLPEFSHISVPIFEQWYIYPVMYPNFG-SGVKY', 'FHKYVAQQRAHTRASWRCLDRTGMLEAA-GSLPEFSHISVPIFEQWYIYPVMHPNFG-SGVKY', 'FHKYVAQQRAHTRASWRCLDRSGMLEAA-GSLPEFSHISVPIFEQWYIYPVMHPNFG-SGVKY', 'FHKYVAQQRAHTRASWRCLDRKGMLEAA-GSLPEFSHISVPIFEQWYIYPVMHPNFG-SGVKY', 'FHKYVAQQRAHTRASWRCLDRKGMLEAA-GSLPEFRHISVPIFEQWYIYPVMHPNFG-SGVKY']\n",
      "Mismatch of PCA tensor and nb PCA components indicated\n",
      "number of PCA components doesn't match size of PCA list\n"
     ]
    },
    {
     "name": "stderr",
     "output_type": "stream",
     "text": [
      "100%|██████████| 10000/10000 [04:14<00:00, 39.25it/s]\n"
     ]
    },
    {
     "name": "stdout",
     "output_type": "stream",
     "text": [
      "[8] Generated sequences for target (33, 21) (first 5): ['YPMNFILFQDSWDMKTYGVNKQMLRREQRAHSTQIWAWMVPKMIAQLY--TEPHEQGEC-SNS', 'YPMNFILKQDSWDMKTYGVNKQMLRREQRAHSTQIWAWMVPKMIAQLY--TEPHEQGEC-SNS', 'YPMNFILKQDSWDMKTYGVNKQMLRREQRAHSTQIWAWMVPKMIAQLY--TEPHEQYEC-SNS', 'YPMNFILKQDSWDMKTYGVNKQMLRREQRAHSTQIWAWMVPKMIAQLY--TEPHEQYEA-SNS', 'YPMNFILKQDSWDMKTYGVNKQMLRREQRAHSTQIWAWMVPKMIAQLY-VTEPHEQYEA-SNS']\n",
      "Mismatch of PCA tensor and nb PCA components indicated\n",
      "number of PCA components doesn't match size of PCA list\n"
     ]
    },
    {
     "name": "stderr",
     "output_type": "stream",
     "text": [
      "100%|██████████| 10000/10000 [04:08<00:00, 40.27it/s]\n"
     ]
    },
    {
     "name": "stdout",
     "output_type": "stream",
     "text": [
      "[9] Generated sequences for target (1, 1) (first 5): ['MIAHF-YFDIPTTTFRYGKPAWIEETILFGNDMPARWLI-PDHWC-WEYRYVQSIHAWYQRFI', 'MIAHF-YFDYPTTTFRYGKPAWIEETILFGNDMPARWLI-PDHWC-WEYRYVQSIHAWYQRFI', 'MIAHF-YFDYPTTTFRYGKPAWIEETILFGNDMPARWLI-PDHWC-WEYRYVQSIHAWYQRFI', 'MIAHF-YFDYPTTTFRYGKPAWGEETILFGNDMPARWLI-PDHWC-WEYRYVQSIHAWYQRFI', 'MIAHF-YFDYPTTTFRYGKPAWGEETILFGNDMPARWRI-PDHWC-WEYRYVQSIHAWYQRFI']\n"
     ]
    }
   ],
   "source": [
    "save_dir = \"generated_sequences_2Model_PCA_multiple\"\n",
    "N_seqs = 10000\n",
    "save_name_prefix = f'generated_sequences_randinit_{N_seqs}_mult'\n",
    "# take 10 random coordinates from the PCA space (0-34)\n",
    "target_coords_list = [(np.random.randint(0, 35), np.random.randint(0, 35)) for _ in range(10)]\n",
    "generate_multiple_targets_n_save(save_dir, save_name_prefix, J=Jtens, target_coords_list=target_coords_list, N_seqs=N_seqs, init_sequence=None, beta=1, nb_PCA_comp=0, J_PCA=Jtens_PCA, beta_PCA=1)"
   ]
  },
  {
   "cell_type": "code",
   "execution_count": null,
   "id": "24e95705",
   "metadata": {},
   "outputs": [],
   "source": []
  }
 ],
 "metadata": {
  "kernelspec": {
   "display_name": "Python 3",
   "language": "python",
   "name": "python3"
  },
  "language_info": {
   "codemirror_mode": {
    "name": "ipython",
    "version": 3
   },
   "file_extension": ".py",
   "mimetype": "text/x-python",
   "name": "python",
   "nbconvert_exporter": "python",
   "pygments_lexer": "ipython3",
   "version": "3.12.4"
  }
 },
 "nbformat": 4,
 "nbformat_minor": 5
}
