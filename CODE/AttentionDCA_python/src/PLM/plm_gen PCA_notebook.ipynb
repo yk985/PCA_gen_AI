{
 "cells": [
  {
   "cell_type": "code",
   "execution_count": 2,
   "id": "44eb2645",
   "metadata": {},
   "outputs": [],
   "source": [
    "import numpy as np\n",
    "import torch\n",
    "import os\n",
    "import sys\n",
    "current_dir = os.getcwd()\n",
    "parent_dir = os.path.abspath(os.path.join(current_dir, '..'))\n",
    "sys.path.insert(0, parent_dir)\n",
    "from model import AttentionModel\n",
    "from dcascore import *\n",
    "from utils import read_fasta_alignment, remove_duplicate_sequences, add_PCA_coords\n",
    "\n",
    "# back to original path (in PLM)\n",
    "sys.path.pop(0)  # Removes the parent_dir from sys.path\n",
    "from model import AttentionModel\n",
    "\n",
    "from plm_gen_methods import generate_plm_n_save\n",
    "from seq_utils import read_tensor_from_txt, set_seed, letters_to_nums, modify_seq \n"
   ]
  },
  {
   "cell_type": "code",
   "execution_count": 3,
   "id": "9f9b89b5",
   "metadata": {},
   "outputs": [
    {
     "name": "stdout",
     "output_type": "stream",
     "text": [
      "c:\\Users\\youss\\OneDrive\\Bureau\\master epfl\\MA2\\TP4 De los Rios\\PCA_gen_ai\\PCA_gen_AI\\CODE\\AttentionDCA_python\\src\\PLM\n",
      "c:\\Users\\youss\\OneDrive\\Bureau\\master epfl\\MA2\\TP4 De los Rios\\PCA_gen_ai\\PCA_gen_AI\\CODE\\AttentionDCA_python\\src\n"
     ]
    }
   ],
   "source": [
    "print(current_dir)\n",
    "print(parent_dir)"
   ]
  },
  {
   "cell_type": "code",
   "execution_count": 4,
   "id": "1e86555c",
   "metadata": {},
   "outputs": [],
   "source": [
    "\"\"\"\n",
    "    Load Q, K, V matrices from jdoms (after training)\n",
    "\"\"\"\n",
    "set_seed()\n",
    "H = 64\n",
    "d= 10\n",
    "N = 174\n",
    "n_epochs = 500\n",
    "loss_type = 'without_J'\n",
    "family = 'jdoms' #'jdoms_bacteria_train2'\n",
    "cwd = parent_dir\n",
    "Q_1 = read_tensor_from_txt( cwd +\"/results/{H}_{d}_{family}_{losstype}_{n_epochs}_PCA_brute_force_35_bins/Q_tensor.txt\".format(H=H, d=d, family=family, losstype=loss_type, n_epochs=n_epochs))\n",
    "K_1 = read_tensor_from_txt( cwd +\"/results/{H}_{d}_{family}_{losstype}_{n_epochs}_PCA_brute_force_35_bins/K_tensor.txt\".format(H=H, d=d, family=family, losstype=loss_type, n_epochs=n_epochs))\n",
    "V_1 = read_tensor_from_txt( cwd +\"/results/{H}_{d}_{family}_{losstype}_{n_epochs}_PCA_brute_force_35_bins/V_tensor.txt\".format(H=H, d=d, family=family, losstype=loss_type, n_epochs=n_epochs))\n",
    "H,d,N=Q_1.shape\n",
    "q=V_1.shape[1]\n"
   ]
  },
  {
   "cell_type": "code",
   "execution_count": 5,
   "id": "37d8be3f",
   "metadata": {},
   "outputs": [
    {
     "name": "stdout",
     "output_type": "stream",
     "text": [
      "torch.Size([64, 65, 65])\n",
      "34\n",
      "65\n"
     ]
    }
   ],
   "source": [
    "model=AttentionModel(H,d,N,q,Q=Q_1,V=V_1,K=K_1)\n",
    "torch.sum(model.Q-Q_1)\n",
    "device = Q_1.device\n",
    "L = Q_1.shape[-1]\n",
    "W=attention_heads_from_model(model,Q_1,K_1,V_1)\n",
    "print(W.shape)\n",
    "\n",
    "i_indices = torch.arange(L, device=device).unsqueeze(1)\n",
    "j_indices = torch.arange(L, device=device).unsqueeze(0)\n",
    "mask = (i_indices != j_indices).float().unsqueeze(0)  # shape (1, L, L)\n",
    "W = W * mask\n",
    "    \n",
    "# Compute Jtens\n",
    "Jtens = torch.einsum('hri,hab->abri', W, V_1)  # Shape: (q, q, L, L)\n",
    "q = Jtens.shape[0]\n",
    "N = Jtens.shape[2]\n",
    "print(q)\n",
    "print(N)"
   ]
  },
  {
   "cell_type": "code",
   "execution_count": 7,
   "id": "465dd59a",
   "metadata": {},
   "outputs": [],
   "source": [
    "\"\"\"\n",
    "    Generate sequences with PLM random initialization\n",
    "\"\"\"\n",
    "save_dir = \"generated_sequences\"\n",
    "N_seqs = 30000\n",
    "save_name = \"generated_sequences_randinit_30000\"\n",
    "#generate_plm_n_save(save_dir, save_name, Jtens, N_seqs=N_seqs, init_sequence=None,nb_PCA_comp=2,PCA_comp_list=np.array([20,20]))\n",
    "\n",
    "##############################################################\n"
   ]
  },
  {
   "cell_type": "code",
   "execution_count": 9,
   "id": "48ea6a88",
   "metadata": {},
   "outputs": [
    {
     "name": "stdout",
     "output_type": "stream",
     "text": [
      "Total sequences read: 14502\n",
      "Sequences after filtering: 14502\n",
      "(63, 14502)\n",
      "Removing duplicate sequences...\n",
      "Done: 14502 -> 14502 sequences after removing duplicates.\n"
     ]
    },
    {
     "name": "stderr",
     "output_type": "stream",
     "text": [
      "100%|██████████| 30000/30000 [09:26<00:00, 52.99it/s]\n"
     ]
    },
    {
     "name": "stdout",
     "output_type": "stream",
     "text": [
      "Generated sequences (letters): ['NPYEVLGIKEPWSYDEIKVLARELMKAYHLDQYGDNPLICEKMFVLNEAYDYLSKNS-QF---VG', 'NPYEVLGIKEPWSYDEIKVLARELMKAYHLDQYGDNPLICEKMFELNEAYDYLSKNS-QF---VG', 'NPYEVLGIKEPWSYDENKVLARELMKAYHLDQYGDNPLICEKMFELNEAYDYLSKNS-QF---VG', 'NPYEVLGIKEPKSYDENKVLARELMKAYHLDQYGDNPLICEKMFELNEAYDYLSKNS-QF---VG', 'NPYEVLGIKEPKSYDENKVLARELMKAYHLDQYGDNPLICEKMFELNEAYDYLRKNS-QF---VG']\n",
      "Generated sequences saved to generated_sequences\n"
     ]
    }
   ],
   "source": [
    "\"\"\"\n",
    "    Generate sequences with PLM initialization from a sequence\n",
    "\"\"\"\n",
    "file_test_data=r\"C:\\Users\\youss\\OneDrive\\Bureau\\master epfl\\MA2\\TP4 De los Rios\\git_test\\PLM-gen-DCA\\Attention-DCA-main\\CODE\\DataAttentionDCA\\jdoms\\jdoms_bacteria_train2.fasta\"\n",
    "seq_data_test=read_fasta_alignment(file_test_data,0.8)\n",
    "\n",
    "print(seq_data_test.shape)\n",
    "seq_data_test_filtered,_=remove_duplicate_sequences(seq_data_test)\n",
    "seq_data_test_filtered=seq_data_test_filtered.T\n",
    "seq_data_test_filtered_with_PCA= add_PCA_coords(seq_data_test_filtered,35) #####DONT FORGET TO CHANGE NUMBER OF BINS IF NECESSARY\n",
    "\n",
    "\n",
    "#init_sequence = 'DYYQVLGVPKDADAKSIKKAFRKLARKYHPDVNPGDKEAERKFKEANEANEVLSDPEKRKKYD'\n",
    "init_sequence_num = seq_data_test_filtered_with_PCA[0]\n",
    "ratio = 0.4\n",
    "init_sequence_num = modify_seq(init_sequence_num, ratio,nb_PCA_comp=2)\n",
    "N_seqs=30000\n",
    "save_name = f\"gen_seqs_w_init_seq_Ns{N_seqs}_r{ratio}\"\n",
    "\n",
    "generate_plm_n_save(save_dir, save_name, Jtens, N_seqs, init_sequence=init_sequence_num)\n"
   ]
  },
  {
   "cell_type": "code",
   "execution_count": 10,
   "id": "f858f52e",
   "metadata": {},
   "outputs": [
    {
     "name": "stderr",
     "output_type": "stream",
     "text": [
      "100%|██████████| 15000/15000 [04:47<00:00, 52.09it/s]\n"
     ]
    },
    {
     "name": "stdout",
     "output_type": "stream",
     "text": [
      "Generated sequences (letters): ['-LYEILGVKVDAGVE-IRQAYRRQARRWHPDMH-RNPEAEAAIKEVQRAYEILSNERARGYYDIK', 'MLYEILGVKVDAGVE-IRQAYRRQARRWHPDMH-RNPEAEAAIKEVQRAYEILSNERARGYYDIK', 'MLYEILGVKVDAGVE-IRQAYRRQARRWHPDMH-RNPEAEAAIKEVQRAYEILSNQRARGYYDIK', 'MLYEILGVKVDAGVE-IRQAYRRCARRWHPDMH-RNPEAEAAIKEVQRAYEILSNQRARGYYDIK', 'MLYEILGVCVDAGVE-IRQAYRRCARRWHPDMH-RNPEAEAAIKEVQRAYEILSNQRARGYYDIK']\n",
      "Generated sequences saved to generated_sequences\n"
     ]
    },
    {
     "name": "stderr",
     "output_type": "stream",
     "text": [
      "100%|██████████| 15000/15000 [04:43<00:00, 52.85it/s]\n"
     ]
    },
    {
     "name": "stdout",
     "output_type": "stream",
     "text": [
      "Generated sequences (letters): ['GKRH-TCDVKIVWWMICMGIWEGPM-DAWFVGNKNRIKFLQYYAVSFEAPGQDWRVRVWYIEYDP', 'GKRH-TCDVKIVWWMICMGIWEGPM-DAWFVGNKNRIKFLQYYAVSFEAPGQDWRVRVWYIEYDP', 'GKRS-TCDVKIVWWMICMGIWEGPM-DAWFVGNKNRIKFLQYYAVSFEAPGQDWRVRVWYIEYDP', 'GKRS-TCDVKIVWWMICMGIWEGPM-DAWFVGNKNRIKFLQYYAVSPEAPGQDWRVRVWYIEYDP', 'GKRS-TCDVKIVWWMICMGIWEGPM-EAWFVGNKNRIKFLQYYAVSPEAPGQDWRVRVWYIEYDP']\n",
      "Generated sequences saved to generated_sequences\n"
     ]
    },
    {
     "name": "stderr",
     "output_type": "stream",
     "text": [
      "100%|██████████| 15000/15000 [04:46<00:00, 52.40it/s]\n"
     ]
    },
    {
     "name": "stdout",
     "output_type": "stream",
     "text": [
      "Generated sequences (letters): ['TRA-QYQTTGMQMAMLIISCKQES-SPHQLPMGEWEEQPFPGCPTPMESADEWSWQQYLHCKAIM', 'THA-QYQTTGMQMAMLIISCKQES-SPHQLPMGEWEEQPFPGCPTPMESADEWSWQQYLHCKAIM', 'THA-QYQTTGMQMAMLIISCKQES-SPHQLPMGEWEEQPFPGCPTPMESADEWSWQQYLHCKASM', 'THA-QYQTTGMQMAMLIISCKQES-SPHQLPMGEWEEQPFPGCETPMESADEWSWQQYLHCKASM', 'THA-QEQTTGMQMAMLIISCKQES-SPHQLPMGEWEEQPFPGCETPMESADEWSWQQYLHCKASM']\n",
      "Generated sequences saved to generated_sequences\n"
     ]
    },
    {
     "name": "stderr",
     "output_type": "stream",
     "text": [
      "100%|██████████| 15000/15000 [04:59<00:00, 50.14it/s]\n"
     ]
    },
    {
     "name": "stdout",
     "output_type": "stream",
     "text": [
      "Generated sequences (letters): ['P--CYSNIFGTNHRPKEAFHKPIWYHVPKSNWMLIVN-KATQLNERCYFSYSAVTAPPARRFNPK', 'P--CYSNIFGTNHRPKEAFHKPIWYHVPKSNWMLIVS-KATQLNERCYFSYSAVTAPPARRFNPK', 'P--CYSNIFGTNHRPKEAFHQPIWYHVPKSNWMLIVS-KATQLNERCYFSYSAVTAPPARRFNPK', 'P--CYSNIFGTNHRPKEAFHQPIWYHVPKSNWML-VS-KATQLNERCYFSYSAVTAPPARRFNPK', 'P--CYSNIFGTNHRPKEAFHQPIWYHVPKSNWML-VS-KATQLNERCYFSYSAVTNPPARRFNPK']\n",
      "Generated sequences saved to generated_sequences\n"
     ]
    },
    {
     "name": "stderr",
     "output_type": "stream",
     "text": [
      "100%|██████████| 15000/15000 [04:49<00:00, 51.81it/s]\n"
     ]
    },
    {
     "name": "stdout",
     "output_type": "stream",
     "text": [
      "Generated sequences (letters): ['---------FQSEKAEIQKDYWLSAQRSHPDLCNSEKRMEVIFRQNSQAQDFL-KMFCNS---VC', '---------FQSEKAEIQKDYWLSAQRSHPDLCNSEKRMEVIFRQNSQAQDFL-KMFCNS---VC', '---------FQSEKAEIQKDYWLSAQLSHPDLCNSEKRMEVIFRQNSQAQDFL-KMFCNS---VC', '---------FQSEKAEIQKDYWLSAQLSHPDLCNSEKRMEVIFRANSQAQDFL-KMFCNS---VC', '---------FQSEKAEIQKDYWLSAQLSHPDLCNSEKRMEVIFRANQQAQDFL-KMFCNS---VC']\n",
      "Generated sequences saved to generated_sequences\n"
     ]
    },
    {
     "name": "stderr",
     "output_type": "stream",
     "text": [
      "100%|██████████| 15000/15000 [04:41<00:00, 53.28it/s]\n"
     ]
    },
    {
     "name": "stdout",
     "output_type": "stream",
     "text": [
      "Generated sequences (letters): ['-AYEVLGIDSDASDEEIKKAYRRLALKYHPDKG----GSAEKFREVQEAYEAIK----------H', '-AYEVLGIDSNASDEEIKKAYRRLALKYHPDKG----GSAEKFREVQEAYEAIK----------H', '-AYEVLGIDSNASDEEIKKAYRRLALKYHPDKG----GSAEKFREVQEAYEVIK----------H', '-AYEVLGIDSNASDEEIKKAYRRLALKYHPDKG----GSAEKFREVQEAYEVIK----------H', '-AYEVLGIDSNASDEEIKKAYRRLALKYHPDKG----GSAEKFREVQEAYEVIK----------H']\n",
      "Generated sequences saved to generated_sequences\n"
     ]
    },
    {
     "name": "stderr",
     "output_type": "stream",
     "text": [
      "  0%|          | 12/15000 [00:00<04:43, 52.83it/s]c:\\Users\\youss\\OneDrive\\Bureau\\master epfl\\MA2\\TP4 De los Rios\\PCA_gen_ai\\PCA_gen_AI\\CODE\\AttentionDCA_python\\src\\PLM\\plm_model.py:52: RuntimeWarning: overflow encountered in exp\n",
      "  prob = np.exp(self.beta * sum_energy)  # unnormalized\n",
      "c:\\Users\\youss\\OneDrive\\Bureau\\master epfl\\MA2\\TP4 De los Rios\\PCA_gen_ai\\PCA_gen_AI\\CODE\\AttentionDCA_python\\src\\PLM\\plm_model.py:63: RuntimeWarning: invalid value encountered in divide\n",
      "  probs /= probs.sum()\n",
      "  0%|          | 15/15000 [00:00<05:00, 49.81it/s]\n"
     ]
    },
    {
     "ename": "ValueError",
     "evalue": "probabilities contain NaN",
     "output_type": "error",
     "traceback": [
      "\u001b[1;31m---------------------------------------------------------------------------\u001b[0m",
      "\u001b[1;31mValueError\u001b[0m                                Traceback (most recent call last)",
      "Cell \u001b[1;32mIn[10], line 14\u001b[0m\n\u001b[0;32m     11\u001b[0m \u001b[38;5;28;01mfor\u001b[39;00m b \u001b[38;5;129;01min\u001b[39;00m betas:\n\u001b[0;32m     12\u001b[0m     save_name \u001b[38;5;241m=\u001b[39m \u001b[38;5;124mf\u001b[39m\u001b[38;5;124m\"\u001b[39m\u001b[38;5;124mgen_seqs_w_init_seq_Ns\u001b[39m\u001b[38;5;132;01m{\u001b[39;00mN_seqs\u001b[38;5;132;01m}\u001b[39;00m\u001b[38;5;124m_r\u001b[39m\u001b[38;5;132;01m{\u001b[39;00mratio\u001b[38;5;132;01m}\u001b[39;00m\u001b[38;5;124m_b\u001b[39m\u001b[38;5;132;01m{\u001b[39;00mb\u001b[38;5;132;01m}\u001b[39;00m\u001b[38;5;124m\"\u001b[39m\n\u001b[1;32m---> 14\u001b[0m     \u001b[43mgenerate_plm_n_save\u001b[49m\u001b[43m(\u001b[49m\u001b[43msave_dir\u001b[49m\u001b[43m,\u001b[49m\u001b[43m \u001b[49m\u001b[43msave_name\u001b[49m\u001b[43m,\u001b[49m\u001b[43m \u001b[49m\u001b[43mJtens\u001b[49m\u001b[43m,\u001b[49m\u001b[43m \u001b[49m\u001b[43mN_seqs\u001b[49m\u001b[43m,\u001b[49m\u001b[43m \u001b[49m\u001b[43minit_sequence\u001b[49m\u001b[38;5;241;43m=\u001b[39;49m\u001b[43minit_sequence_num\u001b[49m\u001b[43m,\u001b[49m\u001b[43m \u001b[49m\u001b[43mbeta\u001b[49m\u001b[38;5;241;43m=\u001b[39;49m\u001b[43mb\u001b[49m\u001b[43m)\u001b[49m\n\u001b[0;32m     15\u001b[0m     \u001b[38;5;66;03m#generate_plm_n_save(save_dir, save_name, Jtens, N_seqs, init_sequence=init_sequence_num, beta=b)\u001b[39;00m\n",
      "File \u001b[1;32mc:\\Users\\youss\\OneDrive\\Bureau\\master epfl\\MA2\\TP4 De los Rios\\PCA_gen_ai\\PCA_gen_AI\\CODE\\AttentionDCA_python\\src\\PLM\\plm_gen_methods.py:43\u001b[0m, in \u001b[0;36mgenerate_plm_n_save\u001b[1;34m(save_dir, save_name, J, N_seqs, init_sequence, beta, nb_PCA_comp, PCA_comp_list)\u001b[0m\n\u001b[0;32m     36\u001b[0m \u001b[38;5;28;01mdef\u001b[39;00m \u001b[38;5;21mgenerate_plm_n_save\u001b[39m(save_dir, save_name, J, N_seqs\u001b[38;5;241m=\u001b[39m\u001b[38;5;241m10000\u001b[39m, init_sequence\u001b[38;5;241m=\u001b[39m\u001b[38;5;28;01mNone\u001b[39;00m,beta\u001b[38;5;241m=\u001b[39m\u001b[38;5;241m1\u001b[39m,nb_PCA_comp\u001b[38;5;241m=\u001b[39m\u001b[38;5;241m0\u001b[39m,PCA_comp_list\u001b[38;5;241m=\u001b[39mnp\u001b[38;5;241m.\u001b[39marray([])):\n\u001b[0;32m     37\u001b[0m \u001b[38;5;250m    \u001b[39m\u001b[38;5;124;03m\"\"\"\u001b[39;00m\n\u001b[0;32m     38\u001b[0m \u001b[38;5;124;03m    Generates a set of sequences using the PLM and saves them both as a numpy file and a text file containing the corresponding letter sequences.\u001b[39;00m\n\u001b[0;32m     39\u001b[0m \u001b[38;5;124;03m    Saves:\u001b[39;00m\n\u001b[0;32m     40\u001b[0m \u001b[38;5;124;03m    - A `.npy` file containing the generated sequences in numerical format.\u001b[39;00m\n\u001b[0;32m     41\u001b[0m \u001b[38;5;124;03m    - A `.txt` file containing the generated sequences in letter format.\u001b[39;00m\n\u001b[0;32m     42\u001b[0m \u001b[38;5;124;03m    \"\"\"\u001b[39;00m\n\u001b[1;32m---> 43\u001b[0m     gen_sequences \u001b[38;5;241m=\u001b[39m \u001b[43mgenerate_plm\u001b[49m\u001b[43m(\u001b[49m\u001b[43mJ\u001b[49m\u001b[43m,\u001b[49m\u001b[43m \u001b[49m\u001b[43mN_seqs\u001b[49m\u001b[43m,\u001b[49m\u001b[43m \u001b[49m\u001b[43minit_sequence\u001b[49m\u001b[43m,\u001b[49m\u001b[43mbeta\u001b[49m\u001b[38;5;241;43m=\u001b[39;49m\u001b[43mbeta\u001b[49m\u001b[43m,\u001b[49m\u001b[43mnb_PCA_comp\u001b[49m\u001b[38;5;241;43m=\u001b[39;49m\u001b[43mnb_PCA_comp\u001b[49m\u001b[43m,\u001b[49m\u001b[43mPCA_comp_list\u001b[49m\u001b[38;5;241;43m=\u001b[39;49m\u001b[43mPCA_comp_list\u001b[49m\u001b[43m)\u001b[49m\n\u001b[0;32m     44\u001b[0m     gen_sequences_letters \u001b[38;5;241m=\u001b[39m [nums_to_letters(sequence,nb_PCA_comp) \u001b[38;5;28;01mfor\u001b[39;00m sequence \u001b[38;5;129;01min\u001b[39;00m gen_sequences]\n\u001b[0;32m     46\u001b[0m     \u001b[38;5;28mprint\u001b[39m(\u001b[38;5;124mf\u001b[39m\u001b[38;5;124m\"\u001b[39m\u001b[38;5;124mGenerated sequences (letters): \u001b[39m\u001b[38;5;132;01m{\u001b[39;00mgen_sequences_letters[:\u001b[38;5;241m5\u001b[39m]\u001b[38;5;132;01m}\u001b[39;00m\u001b[38;5;124m\"\u001b[39m)  \u001b[38;5;66;03m# Show first 5 sequences\u001b[39;00m\n",
      "File \u001b[1;32mc:\\Users\\youss\\OneDrive\\Bureau\\master epfl\\MA2\\TP4 De los Rios\\PCA_gen_ai\\PCA_gen_AI\\CODE\\AttentionDCA_python\\src\\PLM\\plm_gen_methods.py:16\u001b[0m, in \u001b[0;36mgenerate_plm\u001b[1;34m(J, N_seqs, init_sequence, beta, nb_PCA_comp, PCA_comp_list)\u001b[0m\n\u001b[0;32m     14\u001b[0m \u001b[38;5;28;01mfor\u001b[39;00m _ \u001b[38;5;129;01min\u001b[39;00m tqdm(\u001b[38;5;28mrange\u001b[39m(N_seqs)):\n\u001b[0;32m     15\u001b[0m     site \u001b[38;5;241m=\u001b[39m np\u001b[38;5;241m.\u001b[39mrandom\u001b[38;5;241m.\u001b[39mrandint(seq\u001b[38;5;241m.\u001b[39mL\u001b[38;5;241m-\u001b[39mnb_PCA_comp)  \u001b[38;5;66;03m# Random site from 0 to L-1\u001b[39;00m\n\u001b[1;32m---> 16\u001b[0m     \u001b[43mseq\u001b[49m\u001b[38;5;241;43m.\u001b[39;49m\u001b[43mdraw_aa\u001b[49m\u001b[43m(\u001b[49m\u001b[43msite\u001b[49m\u001b[43m)\u001b[49m\n\u001b[0;32m     17\u001b[0m     gen_sequences\u001b[38;5;241m.\u001b[39mappend(seq\u001b[38;5;241m.\u001b[39msequence\u001b[38;5;241m.\u001b[39mcopy())\n\u001b[0;32m     18\u001b[0m gen_sequences \u001b[38;5;241m=\u001b[39m np\u001b[38;5;241m.\u001b[39marray(gen_sequences)\n",
      "File \u001b[1;32mc:\\Users\\youss\\OneDrive\\Bureau\\master epfl\\MA2\\TP4 De los Rios\\PCA_gen_ai\\PCA_gen_AI\\CODE\\AttentionDCA_python\\src\\PLM\\plm_model.py:71\u001b[0m, in \u001b[0;36mSequencePLM.draw_aa\u001b[1;34m(self, site)\u001b[0m\n\u001b[0;32m     67\u001b[0m \u001b[38;5;250m\u001b[39m\u001b[38;5;124;03m\"\"\"\u001b[39;00m\n\u001b[0;32m     68\u001b[0m \u001b[38;5;124;03mSample a new AA at the given site from PLM distribution\u001b[39;00m\n\u001b[0;32m     69\u001b[0m \u001b[38;5;124;03m\"\"\"\u001b[39;00m\n\u001b[0;32m     70\u001b[0m probs \u001b[38;5;241m=\u001b[39m \u001b[38;5;28mself\u001b[39m\u001b[38;5;241m.\u001b[39mplm_site_distribution(site)\n\u001b[1;32m---> 71\u001b[0m new_aa \u001b[38;5;241m=\u001b[39m \u001b[43mnp\u001b[49m\u001b[38;5;241;43m.\u001b[39;49m\u001b[43mrandom\u001b[49m\u001b[38;5;241;43m.\u001b[39;49m\u001b[43mchoice\u001b[49m\u001b[43m(\u001b[49m\u001b[38;5;241;43m21\u001b[39;49m\u001b[43m,\u001b[49m\u001b[43m \u001b[49m\u001b[43mp\u001b[49m\u001b[38;5;241;43m=\u001b[39;49m\u001b[43mprobs\u001b[49m\u001b[43m)\u001b[49m \u001b[38;5;66;03m# aa from 0 to 20\u001b[39;00m\n\u001b[0;32m     72\u001b[0m \u001b[38;5;28mself\u001b[39m\u001b[38;5;241m.\u001b[39msequence[site] \u001b[38;5;241m=\u001b[39m new_aa\n",
      "File \u001b[1;32mnumpy\\\\random\\\\mtrand.pyx:994\u001b[0m, in \u001b[0;36mnumpy.random.mtrand.RandomState.choice\u001b[1;34m()\u001b[0m\n",
      "\u001b[1;31mValueError\u001b[0m: probabilities contain NaN"
     ]
    }
   ],
   "source": [
    "\"\"\"\n",
    "    Generate sequences with PLM initialization from a sequence different betas\n",
    "\"\"\"\n",
    "# init_sequence = 'DYYQVLGVPKDADAKSIKKAFRKLARKYHPDVNPGDKEAERKFKEANEANEVLSDPEKRKKYD'\n",
    "# init_sequence_num = letters_to_nums(init_sequence)\n",
    "# ratio = 0.1\n",
    "# init_sequence_num = modify_seq(init_sequence_num, ratio)\n",
    "\n",
    "N_seqs=15000\n",
    "betas = [0.01, 0.1, 0.5, 1, 2, 4, 10]\n",
    "for b in betas:\n",
    "    save_name = f\"gen_seqs_w_init_seq_Ns{N_seqs}_r{ratio}_b{b}\"\n",
    "\n",
    "    generate_plm_n_save(save_dir, save_name, Jtens, N_seqs, init_sequence=init_sequence_num, beta=b)\n",
    "    #generate_plm_n_save(save_dir, save_name, Jtens, N_seqs, init_sequence=init_sequence_num, beta=b)"
   ]
  }
 ],
 "metadata": {
  "kernelspec": {
   "display_name": "Python 3",
   "language": "python",
   "name": "python3"
  },
  "language_info": {
   "codemirror_mode": {
    "name": "ipython",
    "version": 3
   },
   "file_extension": ".py",
   "mimetype": "text/x-python",
   "name": "python",
   "nbconvert_exporter": "python",
   "pygments_lexer": "ipython3",
   "version": "3.12.4"
  }
 },
 "nbformat": 4,
 "nbformat_minor": 5
}
