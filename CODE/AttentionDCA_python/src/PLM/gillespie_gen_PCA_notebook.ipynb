{
 "cells": [
  {
   "cell_type": "code",
   "execution_count": 16,
   "id": "226cdc5e",
   "metadata": {},
   "outputs": [],
   "source": [
    "import numpy as np\n",
    "import torch\n",
    "import os\n",
    "import sys\n",
    "current_dir = os.getcwd()\n",
    "parent_dir = os.path.abspath(os.path.join(current_dir, '..'))\n",
    "sys.path.insert(0, parent_dir)\n",
    "from model import AttentionModel\n",
    "from model_PCA_correlation import AttentionModel_PCA\n",
    "from dcascore import *\n",
    "from utils import read_fasta_alignment, remove_duplicate_sequences, add_PCA_coords\n",
    "\n",
    "# back to original path (in PLM)\n",
    "sys.path.pop(0)  # Removes the parent_dir from sys.path\n",
    "from model import AttentionModel\n",
    "from gillespie_main import generate_gill_n_save\n",
    "from seq_utils import read_tensor_from_txt, set_seed, letters_to_nums, modify_seq \n"
   ]
  },
  {
   "cell_type": "code",
   "execution_count": 13,
   "id": "da53f087",
   "metadata": {},
   "outputs": [],
   "source": [
    "\"\"\"\n",
    "    Load Q, K, V matrices from jdoms (after training)\n",
    "\"\"\"\n",
    "set_seed()\n",
    "H = 64\n",
    "d= 10\n",
    "N = 174\n",
    "n_epochs = 500\n",
    "nb_PCA_comp=2\n",
    "loss_type = 'without_J'\n",
    "family = 'jdoms' #'jdoms_bacteria_train2'\n",
    "cwd = parent_dir\n",
    "Q_1 = read_tensor_from_txt( cwd +\"/results/{H}_{d}_{family}_{losstype}_{n_epochs}_PCA_brute_force_35_bins/Q_tensor.txt\".format(H=H, d=d, family=family, losstype=loss_type, n_epochs=n_epochs))\n",
    "K_1 = read_tensor_from_txt( cwd +\"/results/{H}_{d}_{family}_{losstype}_{n_epochs}_PCA_brute_force_35_bins/K_tensor.txt\".format(H=H, d=d, family=family, losstype=loss_type, n_epochs=n_epochs))\n",
    "V_1 = read_tensor_from_txt( cwd +\"/results/{H}_{d}_{family}_{losstype}_{n_epochs}_PCA_brute_force_35_bins/V_tensor.txt\".format(H=H, d=d, family=family, losstype=loss_type, n_epochs=n_epochs))\n",
    "H,d,N=Q_1.shape\n",
    "q=V_1.shape[1]\n"
   ]
  },
  {
   "cell_type": "code",
   "execution_count": 14,
   "id": "48b37483",
   "metadata": {},
   "outputs": [
    {
     "name": "stdout",
     "output_type": "stream",
     "text": [
      "torch.Size([64, 65, 65])\n",
      "35\n",
      "65\n",
      "torch.Size([35, 35, 65, 65])\n"
     ]
    }
   ],
   "source": [
    "model=AttentionModel(H,d,N,q,Q=Q_1,V=V_1,K=K_1)\n",
    "torch.sum(model.Q-Q_1)\n",
    "device = Q_1.device\n",
    "L = Q_1.shape[-1]\n",
    "W=attention_heads_from_model(model,Q_1,K_1,V_1)\n",
    "print(W.shape)\n",
    "\n",
    "i_indices = torch.arange(L, device=device).unsqueeze(1)\n",
    "j_indices = torch.arange(L, device=device).unsqueeze(0)\n",
    "mask = (i_indices != j_indices).float().unsqueeze(0)  # shape (1, L, L)\n",
    "W = W * mask\n",
    "    \n",
    "# Compute Jtens\n",
    "Jtens = torch.einsum('hri,hab->abri', W, V_1)  # Shape: (q, q, L, L)\n",
    "q = Jtens.shape[0]\n",
    "N = Jtens.shape[2]\n",
    "print(q)\n",
    "print(N)\n",
    "print(Jtens.shape)"
   ]
  },
  {
   "cell_type": "code",
   "execution_count": 5,
   "id": "96737076",
   "metadata": {},
   "outputs": [
    {
     "name": "stderr",
     "output_type": "stream",
     "text": [
      "100%|██████████| 8000/8000 [14:21<00:00,  9.28it/s]\n"
     ]
    },
    {
     "name": "stdout",
     "output_type": "stream",
     "text": [
      "Generated sequences (letters): ['-PFAKSWNR-GCYRFFFIIRD-FHEPQTQGCGAVP-ERTMHLPQVKDCTDGRRMKHAGQQQ-A', '-PFAKSWNR-GCYRFFFIIRD-FHEPQTQGCGAVP-ERTMHLPQVKDCTDGRRMKHAGQQR-A', '-PFAKSWNR-GCYRFFFIIRD-FHEPQTQGMGAVP-ERTMHLPQVKDCTDGRRMKHAGQQR-A', '-PFAKSWNR-GCYRFFFIIRD-FHEPQTQGMLAVP-ERTMHLPQVKDCTDGRRMKHAGQQR-A', '-PFAKSWNR-GCYRFFFIIRD-FHEPQTQGMQAVP-ERTMHLPQVKDCTDGRRMKHAGQQR-A']\n",
      "Generated sequences saved to gill_generated_sequences_brute_forcePCA_comp\n"
     ]
    },
    {
     "name": "stderr",
     "output_type": "stream",
     "text": [
      "100%|██████████| 8000/8000 [14:18<00:00,  9.31it/s]\n"
     ]
    },
    {
     "name": "stdout",
     "output_type": "stream",
     "text": [
      "Generated sequences (letters): ['R-KWLYFYGHTMCEDQDFSNPGKDSIERCRYQSVFRTFNIPKDIHFIWCQPVMTVDITLYCLM', 'R-KWLYFYGHTMCEDQDFSNPGKDSIERCRYQSVFRTFNIPKDIHFIWPQPVMTVDITLYCLM', 'R-KWLYFYGHTMCEDQDFSNPGKDSIERCRYQSVFSTFNIPKDIHFIWPQPVMTVDITLYCLM', 'R-KWLYFYGHTMCEDQDFSNPGKDSIERCRYQSVFSTFNIPKDIHFAWPQPVMTVDITLYCLM', 'R-KWLYFYGHTMCEDQDFSNPGKDSIERCRYQSVFSTFNCPKDIHFAWPQPVMTVDITLYCLM']\n",
      "Generated sequences saved to gill_generated_sequences_brute_forcePCA_comp\n"
     ]
    },
    {
     "name": "stderr",
     "output_type": "stream",
     "text": [
      "100%|██████████| 8000/8000 [14:18<00:00,  9.32it/s]\n"
     ]
    },
    {
     "name": "stdout",
     "output_type": "stream",
     "text": [
      "Generated sequences (letters): ['QLHDKGGMEFQADSRHYAFKW-IKYHTVSIHMEVDRAEFDYGNMIQNNLKRGLSFSRIPATNY', 'QLHDKGGMEFQADSRHYAFKW-IKYHTVSISMEVDRAEFDYGNMIQNNLKRGLSFSRIPATNY', 'QLFDKGGMEFQADSRHYAFKW-IKYHTVSISMEVDRAEFDYGNMIQNNLKRGLSFSRIPATNY', 'QLFDKGGMEFQADSRHYAFKW-IKYHTVSISMEVDRAECDYGNMIQNNLKRGLSFSRIPATNY', 'QLFDKGGMEFQADSRHYAFKWCIKYHTVSISMEVDRAECDYGNMIQNNLKRGLSFSRIPATNY']\n",
      "Generated sequences saved to gill_generated_sequences_brute_forcePCA_comp\n"
     ]
    },
    {
     "name": "stderr",
     "output_type": "stream",
     "text": [
      "100%|██████████| 8000/8000 [14:16<00:00,  9.34it/s]\n"
     ]
    },
    {
     "name": "stdout",
     "output_type": "stream",
     "text": [
      "Generated sequences (letters): ['ETTDKCHIYSPVDSQNCIQEHRKW-VAYGLYIWYEQRGTDIRGTQRDDTTP-W-WQKGMKRFY', 'ETTDKCFIYSPVDSQNCIQEHRKW-VAYGLYIWYEQRGTDIRGTQRDDTTP-W-WQKGMKRFY', 'ETTDKCFIYSPVDSQNCIQEHRKW-VAYGLYIWYEQRSTDIRGTQRDDTTP-W-WQKGMKRFY', 'ETTDKCFIYSPVDSPNCIQEHRKW-VAYGLYIWYEQRSTDIRGTQRDDTTP-W-WQKGMKRFY', 'ETTDKCFIYSPVDSPNCIQEHRKW-VAYGLYIWYEQRSTDIRGTQRDDTTP-W-WLKGMKRFY']\n",
      "Generated sequences saved to gill_generated_sequences_brute_forcePCA_comp\n"
     ]
    },
    {
     "name": "stderr",
     "output_type": "stream",
     "text": [
      "100%|██████████| 8000/8000 [14:17<00:00,  9.33it/s]\n"
     ]
    },
    {
     "name": "stdout",
     "output_type": "stream",
     "text": [
      "Generated sequences (letters): ['PTGNYVIQPSWVNLKYPDCGMENWESSRDADRSIS-CQLNRNLQWHVRGELCDIHIIYPWQM-', 'PTGNYVIQPSWVNLKYPDCGMENRESSRDADRSIS-CQLNRNLQWHVRGELCDIHIIYPWQM-', 'PTGNYVIQPSWVNLKYPDCGMENRESTRDADRSIS-CQLNRNLQWHVRGELCDIHIIYPWQM-', 'PTGNYVRQPSWVNLKYPDCGMENRESTRDADRSIS-CQLNRNLQWHVRGELCDIHIIYPWQM-', 'PTQNYVRQPSWVNLKYPDCGMENRESTRDADRSIS-CQLNRNLQWHVRGELCDIHIIYPWQM-']\n",
      "Generated sequences saved to gill_generated_sequences_brute_forcePCA_comp\n",
      "Total sequences read: 14502\n",
      "Sequences after filtering: 14502\n",
      "(63, 14502)\n",
      "Removing duplicate sequences...\n",
      "Done: 14502 -> 14502 sequences after removing duplicates.\n",
      "[17  5]\n"
     ]
    },
    {
     "name": "stderr",
     "output_type": "stream",
     "text": [
      "100%|██████████| 8000/8000 [14:14<00:00,  9.36it/s]\n"
     ]
    },
    {
     "name": "stdout",
     "output_type": "stream",
     "text": [
      "Generated sequences (letters): ['DPYEVLGI-EGASQPEIKKAYREFASKYDSDQYGDIPLAQCKMRELSPEKKYNSWNV-T---N', 'DPYEVLGI-EGASQPEIKKAYREFASKYDNDQYGDIPLAQCKMRELSPEKKYNSWNV-T---N', 'DPYEVLGI-EGASQTEIKKAYREFASKYDNDQYGDIPLAQCKMRELSPEKKYNSWNV-T---N', 'DPYEVLGI-EGASQAEIKKAYREFASKYDNDQYGDIPLAQCKMRELSPEKKYNSWNV-T---N', 'DPYEVLGI-EGASQAEIKKAYREFASKYDNDQYGDIPLAQCKMRELSPEKKLNSWNV-T---N']\n",
      "Generated sequences saved to gill_generated_sequences_brute_forcePCA_comp\n"
     ]
    },
    {
     "name": "stderr",
     "output_type": "stream",
     "text": [
      "100%|██████████| 8000/8000 [14:14<00:00,  9.37it/s]\n"
     ]
    },
    {
     "name": "stdout",
     "output_type": "stream",
     "text": [
      "Generated sequences (letters): ['DPYEVLGI-EGASQPEIKKAYREFASKYDSDQYGDIPLAECKMRELSPEKKYNEWNV-T---N', 'DPYEVLGI-EGASQPEIKKAYREFASKYD-DQYGDIPLAECKMRELSPEKKYNEWNV-T---N', 'DPYEVLGI-EGASQPEIKKAYREFASKYD-DQYGDIPLAELKMRELSPEKKYNEWNV-T---N', 'DPYEVLGI-EGASQPEIKKAYREFASKYD-DQYHDIPLAELKMRELSPEKKYNEWNV-T---N', 'DPYEVLGI-EGASQPEIKKAYREFASKYD-DQYMDIPLAELKMRELSPEKKYNEWNV-T---N']\n",
      "Generated sequences saved to gill_generated_sequences_brute_forcePCA_comp\n"
     ]
    },
    {
     "name": "stderr",
     "output_type": "stream",
     "text": [
      "100%|██████████| 8000/8000 [14:13<00:00,  9.37it/s]\n"
     ]
    },
    {
     "name": "stdout",
     "output_type": "stream",
     "text": [
      "Generated sequences (letters): ['DPYEVLGI-EGASQAEIKKAYREFASKYDSDQYGDIPLAECKMRELSPEKKYNSWNV-T---N', 'DPYEVLGI-EGASQAEIKKAYREFASKYDSDQYGDIPLAECKMRELSPEKK-NSWNV-T---N', 'DPYEVLGI-EGASQAEIKKAYREFASKYDSDLYGDIPLAECKMRELSPEKK-NSWNV-T---N', 'DPYEVLGI-EGASQAEIKKAYREFASKYDSDLYVDIPLAECKMRELSPEKK-NSWNV-T---N', 'DPYEVLGI-EGASQNEIKKAYREFASKYDSDLYVDIPLAECKMRELSPEKK-NSWNV-T---N']\n",
      "Generated sequences saved to gill_generated_sequences_brute_forcePCA_comp\n"
     ]
    },
    {
     "name": "stderr",
     "output_type": "stream",
     "text": [
      "100%|██████████| 8000/8000 [14:15<00:00,  9.36it/s]\n"
     ]
    },
    {
     "name": "stdout",
     "output_type": "stream",
     "text": [
      "Generated sequences (letters): ['DPYEVLGI-EGASQPEIKKAYREFASKYDSDQYGDRPLAECKMRELSPEKKYNSWNV-T---N', 'DPYEVLGI-EGASQPEIKKAYREFASKYDSDQYGDRPLAECKMRELSPENKYNSWNV-T---N', 'DPYEVLGI-EGASQIEIKKAYREFASKYDSDQYGDRPLAECKMRELSPENKYNSWNV-T---N', 'DPYEVLGI-EGASQIEIKKAYREFASKYDSDQYGDRPQAECKMRELSPENKYNSWNV-T---N', 'DPYEVLGI-EGASQIEIKKAYREFASKYDSDQYGDRPQAECKMKELSPENKYNSWNV-T---N']\n",
      "Generated sequences saved to gill_generated_sequences_brute_forcePCA_comp\n"
     ]
    },
    {
     "name": "stderr",
     "output_type": "stream",
     "text": [
      "100%|██████████| 8000/8000 [14:14<00:00,  9.36it/s]\n"
     ]
    },
    {
     "name": "stdout",
     "output_type": "stream",
     "text": [
      "Generated sequences (letters): ['DPYEVLGI-EGASQPEIKKAYREFASKYDSDQYGDIILAECKMRELSPEKKYNSWNV-T---N', 'DPYEVLGI-EGASQPEIKKAYREFASKYDSDQYGDIELAECKMRELSPEKKYNSWNV-T---N', 'DPYEVLGI-EGASQPEIKKAYREFASKYDSDQYGDIELAECKMRELSPEEKYNSWNV-T---N', 'DPYEVLGI-EGASQAEIKKAYREFASKYDSDQYGDIELAECKMRELSPEEKYNSWNV-T---N', 'DPYEVLGISEGASQAEIKKAYREFASKYDSDQYGDIELAECKMRELSPEEKYNSWNV-T---N']\n",
      "Generated sequences saved to gill_generated_sequences_brute_forcePCA_comp\n"
     ]
    }
   ],
   "source": [
    "\n",
    "save_dir = \"gill_generated_sequences_brute_force\"\n",
    "N_seqs = 30000\n",
    "save_name = \"gill_generated_sequences_randinit_30000\"\n",
    "#generate_plm_n_save(save_dir, save_name, Jtens, N_seqs=N_seqs, init_sequence=None,nb_PCA_comp=2,PCA_comp_list=np.array([20,20]))\n",
    "N_seqs=8000\n",
    "betas = [ 0.1, 0.5, 1, 2, 4, 10]\n",
    "\n",
    "for b in betas:\n",
    "    save_name = f\"gill_gen_seqs_randinit_Ns{N_seqs}_b{b}_b_PCA_1_PCA_comp_24_20\"\n",
    "    #generate_gill_n_save(save_dir, save_name, Jtens, N_seqs, init_sequence=None,nb_PCA_comp=nb_PCA_comp, beta=b,PCA_comp_list=np.array([24,20]))\n",
    "    if b!=1:\n",
    "        save_name = f\"gill_gen_seqs_randinit_Ns{N_seqs}_b_1_b_PCA{b}_PCA_comp_24_20\"\n",
    "        generate_gill_n_save(save_dir, save_name, Jtens, N_seqs, init_sequence=None, beta=1,nb_PCA_comp=nb_PCA_comp,beta_PCA=b,PCA_comp_list=np.array([24,20]))\n",
    "\n",
    "\"\"\"\n",
    "    Generate sequences with PLM initialization from a sequence\n",
    "\"\"\"\n",
    "file_test_data=r\"C:\\Users\\youss\\OneDrive\\Bureau\\master epfl\\MA2\\TP4 De los Rios\\git_test\\PLM-gen-DCA\\Attention-DCA-main\\CODE\\DataAttentionDCA\\jdoms\\jdoms_bacteria_train2.fasta\"\n",
    "seq_data_test=read_fasta_alignment(file_test_data,0.8)\n",
    "\n",
    "print(seq_data_test.shape)\n",
    "seq_data_test_filtered,_=remove_duplicate_sequences(seq_data_test)\n",
    "seq_data_test_filtered=seq_data_test_filtered.T\n",
    "seq_data_test_filtered_with_PCA= add_PCA_coords(seq_data_test_filtered,35) #####DONT FORGET TO CHANGE NUMBER OF BINS IF NECESSARY\n",
    "\n",
    "\n",
    "#init_sequence = 'DYYQVLGVPKDADAKSIKKAFRKLARKYHPDVNPGDKEAERKFKEANEANEVLSDPEKRKKYD'\n",
    "init_sequence_num = seq_data_test_filtered_with_PCA[0]\n",
    "print(init_sequence_num[-2:])\n",
    "ratio = 0.4\n",
    "init_sequence_num = modify_seq(init_sequence_num, ratio,nb_PCA_comp=2)\n",
    "N_seqs=30000\n",
    "save_name = f\"gen_seqs_w_init_seq_Ns{N_seqs}_r{ratio}\"\n",
    "\n",
    "#generate_plm_n_save(save_dir, save_name, Jtens, N_seqs, init_sequence=init_sequence_num,nb_PCA_comp=nb_PCA_comp)\n",
    "N_seqs=8000\n",
    "betas = [ 0.1, 0.5, 1, 2, 4, 10]\n",
    "for b in betas:\n",
    "    save_name = f\"gen_seqs_w_init_seq_Ns{N_seqs}_r{ratio}_b{b}\"\n",
    "    #generate_gill_n_save(save_dir, save_name, Jtens, N_seqs, init_sequence=init_sequence_num.copy(),nb_PCA_comp=nb_PCA_comp, beta=b)\n",
    "    if b!=1:\n",
    "        save_name = f\"gen_seqs_w_init_seq_Ns{N_seqs}_r{ratio}_b_1_b_PCA{b}\"\n",
    "        generate_gill_n_save(save_dir, save_name, Jtens, N_seqs, init_sequence=init_sequence_num.copy(), beta=1,nb_PCA_comp=nb_PCA_comp,beta_PCA=b)"
   ]
  },
  {
   "cell_type": "code",
   "execution_count": 15,
   "id": "e3e3dcc9",
   "metadata": {},
   "outputs": [
    {
     "name": "stderr",
     "output_type": "stream",
     "text": [
      "100%|██████████| 8000/8000 [19:33<00:00,  6.82it/s]\n"
     ]
    },
    {
     "name": "stdout",
     "output_type": "stream",
     "text": [
      "Generated sequences (letters): ['PSAEEILYWFHPCHIRVGQKL-YTYGSSAWEVYYYRIACLAM-ENWDAAFGHK-VSFLMCCFL', 'PSAEEILYWFLPCHIRVGQKL-YTYGSSAWEVYYYRIACLAM-ENWDAAFGHK-VSFLMCCFL', 'PSAEEILYWFLPCHIRVGQKL-YTYGSSAWEVYYYRIACLAM-ENWDAMFGHK-VSFLMCCFL', 'PSAEEILYWFLPCHIRVGQKH-YTYGSSAWEVYYYRIACLAM-ENWDAMFGHK-VSFLMCCFL', 'PSAEEILYWFLPCHIRVGQKH-YTYGSSAWEVYYYRIACLGM-ENWDAMFGHK-VSFLMCCFL']\n",
      "Generated sequences saved to gill_generated_sequences_brute_force_specificPCA_comp\n"
     ]
    },
    {
     "name": "stderr",
     "output_type": "stream",
     "text": [
      "100%|██████████| 8000/8000 [14:17<00:00,  9.33it/s]\n"
     ]
    },
    {
     "name": "stdout",
     "output_type": "stream",
     "text": [
      "Generated sequences (letters): ['--TRWI-EPNLDVHVHQY-YHFCSLTEVQFCMACWDQEYWMWKFPVYHLMEL-KWVGRFVGVY', '--TRWN-EPNLDVHVHQY-YHFCSLTEVQFCMACWDQEYWMWKFPVYHLMEL-KWVGRFVGVY', '--TRWN-EPNLDVHVHQY-YHFCSLTEVQFCMACWDQEYWMWKFPVGHLMEL-KWVGRFVGVY', '--TRWN-EPNLDVHVHQY-YHFCSLTEVSFCMACWDQEYWMWKFPVGHLMEL-KWVGRFVGVY', '--TRWN-EPNLDVHVHQYGYHFCSLTEVSFCMACWDQEYWMWKFPVGHLMEL-KWVGRFVGVY']\n",
      "Generated sequences saved to gill_generated_sequences_brute_force_specificPCA_comp\n"
     ]
    },
    {
     "name": "stderr",
     "output_type": "stream",
     "text": [
      "100%|██████████| 8000/8000 [14:28<00:00,  9.21it/s]\n"
     ]
    },
    {
     "name": "stdout",
     "output_type": "stream",
     "text": [
      "Generated sequences (letters): ['GG-WHDRLCWHPHQINGYMITT--LCNDKAHNRSDTAASR-FTQCKEWYFWMNWDVHNWNQFT', 'GG-WHDRLCWHPHQINGYMITT--LCNDKAHNRSDTAASR-FTQCKEWYFWMNWDVHNDNQFT', 'GG-WHDSLCWHPHQINGYMITT--LCNDKAHNRSDTAASR-FTQCKEWYFWMNWDVHNDNQFT', 'GG-WTDSLCWHPHQINGYMITT--LCNDKAHNRSDTAASR-FTQCKEWYFWMNWDVHNDNQFT', 'GG-WTDSLCWHPHQIRGYMITT--LCNDKAHNRSDTAASR-FTQCKEWYFWMNWDVHNDNQFT']\n",
      "Generated sequences saved to gill_generated_sequences_brute_force_specificPCA_comp\n"
     ]
    },
    {
     "name": "stderr",
     "output_type": "stream",
     "text": [
      "100%|██████████| 8000/8000 [13:57<00:00,  9.55it/s]\n"
     ]
    },
    {
     "name": "stdout",
     "output_type": "stream",
     "text": [
      "Generated sequences (letters): ['RRGEEDYAWLHEAALAHE-SWFCA-VCVMDLWWQQVIMWSLNRWSKAWRCDDSETQFQESHCW', 'RRGEEDYAWLHEAALAHE-SWFCA-VCVMDLWWQQWIMWSLNRWSKAWRCDDSETQFQESHCW', 'RRGEEDYAWLHEAALAHE-SWFCADVCVMDLWWQQWIMWSLNRWSKAWRCDDSETQFQESHCW', 'RRGEEDYAWLHEAALAHE-SWFCADVCVQDLWWQQWIMWSLNRWSKAWRCDDSETQFQESHCW', 'RRGEEDYAWLHEAALQHE-SWFCADVCVQDLWWQQWIMWSLNRWSKAWRCDDSETQFQESHCW']\n",
      "Generated sequences saved to gill_generated_sequences_brute_force_specificPCA_comp\n"
     ]
    },
    {
     "name": "stderr",
     "output_type": "stream",
     "text": [
      "100%|██████████| 8000/8000 [13:56<00:00,  9.56it/s]\n"
     ]
    },
    {
     "name": "stdout",
     "output_type": "stream",
     "text": [
      "Generated sequences (letters): ['EFPHHMPDVW-NQACDICFKLNPAGISHHYLLCLDGAPMA-NAPTCFTRVPMPYEMETQKHIV', 'EFPHHMPDVW-NQACDICFKLNPAGISHHYLLCLDGAPMA-NAPTCFTLVPMPYEMETQKHIV', 'EFPHHMPDEW-NQACDICFKLNPAGISHHYLLCLDGAPMA-NAPTCFTLVPMPYEMETQKHIV', 'EFPHHMPDEW-NQACDICFKLNPAGISHHYLLCLDGAPMA-NAWTCFTLVPMPYEMETQKHIV', 'EFPHHMPDEW-NQACDICFKLNPAGISHHYLLCLDGAPMA-NAWTCFTLVPWPYEMETQKHIV']\n",
      "Generated sequences saved to gill_generated_sequences_brute_force_specificPCA_comp\n"
     ]
    },
    {
     "name": "stderr",
     "output_type": "stream",
     "text": [
      "100%|██████████| 8000/8000 [13:56<00:00,  9.57it/s]\n"
     ]
    },
    {
     "name": "stdout",
     "output_type": "stream",
     "text": [
      "Generated sequences (letters): ['AKDTPIHDKFRRFCNIDLNSGFDAKSAKRKEHRTQWPL-RLNMAQQTIHEEKSIRFGSQDMMQ', 'AKDTPIHDKSRRFCNIDLNSGFDAKSAKRKEHRTQWPL-RLNMAQQTIHEEKSIRFGSQDMMQ', 'AKDTPIHDKSRRFCNIDLNSGFDAKSANRKEHRTQWPL-RLNMAQQTIHEEKSIRFGSQDMMQ', 'AKDTPIHDKSRRFCNIDLNSGFDAKSANRKEHMTQWPL-RLNMAQQTIHEEKSIRFGSQDMMQ', 'AKDTPIHDKSRRFCNIDLNSGFDAKSANRKEHMTQWPL-RENMAQQTIHEEKSIRFGSQDMMQ']\n",
      "Generated sequences saved to gill_generated_sequences_brute_force_specificPCA_comp\n"
     ]
    },
    {
     "name": "stderr",
     "output_type": "stream",
     "text": [
      "100%|██████████| 8000/8000 [13:56<00:00,  9.57it/s]\n"
     ]
    },
    {
     "name": "stdout",
     "output_type": "stream",
     "text": [
      "Generated sequences (letters): ['HAGPDLYIEVYGFCNRVLRMTEACKEVPVGDKPCEKDCTQNTLCP-QI-YP--VKIYCESPK-', 'HAGPDLYIEVYGFCNRVLRMTEACKEVPVGDKPCEKDCTQNTLCP-QI-YP--VKIYCESPR-', 'HAHPDLYIEVYGFCNRVLRMTEACKEVPVGDKPCEKDCTQNTLCP-QI-YP--VKIYCESPR-', 'HAHPDLYIEVYGFCNRVLRMTEACKEVPVGDKPCEKDCTQNTLCP-QI-YPV-VKIYCESPR-', 'HAHPDLYIEVYGFCNRVLRMTKACKEVPVGDKPCEKDCTQNTLCP-QI-YPV-VKIYCESPR-']\n",
      "Generated sequences saved to gill_generated_sequences_brute_force_specificPCA_comp\n"
     ]
    },
    {
     "name": "stderr",
     "output_type": "stream",
     "text": [
      "100%|██████████| 8000/8000 [13:56<00:00,  9.57it/s]\n"
     ]
    },
    {
     "name": "stdout",
     "output_type": "stream",
     "text": [
      "Generated sequences (letters): ['MDQIDRT-RVLMYATRSVT-WYLANQLQGWDQDELNWPTVIPHTKPAVCRNLHLLAMLTWYT-', 'MDQIDIT-RVLMYATRSVT-WYLANQLQGWDQDELNWPTVIPHTKPAVCRNLHLLAMLTWYT-', 'MDQIDIT-RVLMYATRSVT-WYLANQLQGWDQDELNWVTVIPHTKPAVCRNLHLLAMLTWYT-', 'MDHIDIT-RVLMYATRSVT-WYLANQLQGWDQDELNWVTVIPHTKPAVCRNLHLLAMLTWYT-', 'MDHIDIT-RVLWYATRSVT-WYLANQLQGWDQDELNWVTVIPHTKPAVCRNLHLLAMLTWYT-']\n",
      "Generated sequences saved to gill_generated_sequences_brute_force_specificPCA_comp\n"
     ]
    },
    {
     "name": "stderr",
     "output_type": "stream",
     "text": [
      "100%|██████████| 8000/8000 [13:56<00:00,  9.57it/s]\n"
     ]
    },
    {
     "name": "stdout",
     "output_type": "stream",
     "text": [
      "Generated sequences (letters): ['DGDVCITHPGIMNTCFGDKPQHCYQQQRRAGVFYVLNHVKFMYAKHESCQNDIMVMTWYQ-NM', 'DGDVCITHPGIMNTCFGDKPQHCYQQQRRAGVFKVLNHVKFMYAKHESCQNDIMVMTWYQ-NM', 'DGDVCITHPGIMNTCFGDK-QHCYQQQRRAGVFKVLNHVKFMYAKHESCQNDIMVMTWYQ-NM', 'DGDVCITHPGIMNTCFGDK-QHCYQQQRRAGVFKVLNHVKDMYAKHESCQNDIMVMTWYQ-NM', 'DGDVCITHPGIMNTCFGDK-QHCYQQQRRAGVFKVLNHVKDMYAKTESCQNDIMVMTWYQ-NM']\n",
      "Generated sequences saved to gill_generated_sequences_brute_force_specificPCA_comp\n"
     ]
    },
    {
     "name": "stderr",
     "output_type": "stream",
     "text": [
      "100%|██████████| 8000/8000 [13:56<00:00,  9.57it/s]\n"
     ]
    },
    {
     "name": "stdout",
     "output_type": "stream",
     "text": [
      "Generated sequences (letters): ['FMMPMDNAFQGIYINDFPMEYSYRFDIRMSHGTSIYDHWWNCF-YQA-SWQ-RMELLDTATLW', 'FMMPMDNAFQGI-INDFPMEYSYRFDIRMSHGTSIYDHWWNCF-YQA-SWQ-RMELLDTATLW', 'FMMPMDNAFQGI-INDFPMEYSYRFDIRMS-GTSIYDHWWNCF-YQA-SWQ-RMELLDTATLW', 'FMMPMWNAFQGI-INDFPMEYSYRFDIRMS-GTSIYDHWWNCF-YQA-SWQ-RMELLDTATLW', 'FMMPMWNAFQGI-INDFPMEYSYRFDIRMS-GTSIYDHWWNCF-YQA-SWQ-RMELLDTAALW']\n",
      "Generated sequences saved to gill_generated_sequences_brute_force_specificPCA_comp\n"
     ]
    },
    {
     "name": "stderr",
     "output_type": "stream",
     "text": [
      "100%|██████████| 8000/8000 [13:55<00:00,  9.57it/s]\n"
     ]
    },
    {
     "name": "stdout",
     "output_type": "stream",
     "text": [
      "Generated sequences (letters): ['NINGN-GSWGLPYFQPQGDMLTENHRSRPEYAIT-PFKVAWADCCKRAHHYSYVERK-GKEDH', 'NINGN-GSWGLPYFQPQGDMLTENHRSRPEYAIT-PFKVAWADCCKRAHHYSYVERK-GK-DH', 'NINGN-GSWGLPYFQPQGDMLTENHRSRPEYAIT-PFKVAWASCCKRAHHYSYVERK-GK-DH', 'NINGN-GSWGLPYMQPQGDMLTENHRSRPEYAIT-PFKVAWASCCKRAHHYSYVERK-GK-DH', 'NIIGN-GSWGLPYMQPQGDMLTENHRSRPEYAIT-PFKVAWASCCKRAHHYSYVERK-GK-DH']\n",
      "Generated sequences saved to gill_generated_sequences_brute_force_specificPCA_comp\n"
     ]
    },
    {
     "name": "stderr",
     "output_type": "stream",
     "text": [
      "100%|██████████| 8000/8000 [13:55<00:00,  9.58it/s]"
     ]
    },
    {
     "name": "stdout",
     "output_type": "stream",
     "text": [
      "Generated sequences (letters): ['-CVL-KQQAK-VMGPAMQRPHMRKRMNIMCSP-ISHTEFIGIILHVNQWELFSFICDFDVTYS', '-CVL-KQQAK-VMGPAMQRPHMRKRMNIMCSP-ISHTEFIGIILHVNQWELFSFICDFDVTYL', '-CVL-KQQAK-VMGPAMQRPHMRKRMNIMCSP-ISHTEFIGIILHINQWELFSFICDFDVTYL', '-CVL-KQQAK-VMGPAMQRPHMRKRMNIMCSP-I-HTEFIGIILHINQWELFSFICDFDVTYL', '-CVL-KQQAK-VMDPAMQRPHMRKRMNIMCSP-I-HTEFIGIILHINQWELFSFICDFDVTYL']\n",
      "Generated sequences saved to gill_generated_sequences_brute_force_specificPCA_comp\n"
     ]
    },
    {
     "name": "stderr",
     "output_type": "stream",
     "text": [
      "\n"
     ]
    }
   ],
   "source": [
    "save_dir = \"gill_generated_sequences_brute_force_specific\"\n",
    "N_seqs = 30000\n",
    "save_name = \"generated_sequences_randinit_30000\"\n",
    "#generate_plm_n_save(save_dir, save_name, Jtens, N_seqs=N_seqs, init_sequence=None,nb_PCA_comp=2,PCA_comp_list=np.array([20,20]))\n",
    "N_seqs=8000\n",
    "betas = [8,12,16,20]\n",
    "targey_list=[[24,20], [27,5],[8,8]]\n",
    "for target in targey_list:\n",
    "    for b in betas:\n",
    "        save_name = f\"gill_gen_seqs_randinit_Ns{N_seqs}_b{b}_b_PCA_1_PCA_comp_{target[0]}_{target[1]}\"\n",
    "        #generate_plm_n_save(save_dir, save_name, Jtens, N_seqs, init_sequence=None,nb_PCA_comp=nb_PCA_comp, beta=b,PCA_comp_list=np.array([24,20]))\n",
    "        if b!=1:\n",
    "            save_name = f\"gill_gen_seqs_randinit_Ns{N_seqs}_b_1_b_PCA{b}_PCA_comp_{target[0]}_{target[1]}\"\n",
    "            generate_gill_n_save(save_dir, save_name, Jtens, N_seqs, init_sequence=None, beta=1,nb_PCA_comp=nb_PCA_comp,beta_PCA=b,PCA_comp_list=np.array(target))\n"
   ]
  },
  {
   "cell_type": "markdown",
   "id": "96de37d5",
   "metadata": {},
   "source": [
    "Model2"
   ]
  },
  {
   "cell_type": "code",
   "execution_count": 6,
   "id": "6c601c75",
   "metadata": {},
   "outputs": [],
   "source": [
    "H = 64\n",
    "d= 10\n",
    "N = 174\n",
    "n_epochs = 500\n",
    "nb_PCA_comp=2\n",
    "loss_type = 'without_J'\n",
    "family = 'jdoms' #'jdoms_bacteria_train2'\n",
    "cwd = parent_dir\n",
    "Q_1 = read_tensor_from_txt( cwd +\"/results/{H}_{d}_{family}_{losstype}_{n_epochs}_youss/Q_tensor.txt\".format(H=H, d=d, family=family, losstype=loss_type, n_epochs=n_epochs))\n",
    "K_1 = read_tensor_from_txt( cwd +\"/results/{H}_{d}_{family}_{losstype}_{n_epochs}_youss/K_tensor.txt\".format(H=H, d=d, family=family, losstype=loss_type, n_epochs=n_epochs))\n",
    "V_1 = read_tensor_from_txt( cwd +\"/results/{H}_{d}_{family}_{losstype}_{n_epochs}_youss/V_tensor.txt\".format(H=H, d=d, family=family, losstype=loss_type, n_epochs=n_epochs))\n",
    "H,d,N=Q_1.shape\n",
    "q=V_1.shape[1]"
   ]
  },
  {
   "cell_type": "code",
   "execution_count": 7,
   "id": "773ed5e5",
   "metadata": {},
   "outputs": [
    {
     "name": "stdout",
     "output_type": "stream",
     "text": [
      "torch.Size([64, 63, 63])\n",
      "21\n",
      "63\n",
      "torch.Size([21, 21, 63, 63])\n",
      "63\n"
     ]
    }
   ],
   "source": [
    "model=AttentionModel(H,d,N,q,Q=Q_1,V=V_1,K=K_1)\n",
    "torch.sum(model.Q-Q_1)\n",
    "device = Q_1.device\n",
    "L = Q_1.shape[-1]\n",
    "W=attention_heads_from_model(model,Q_1,K_1,V_1)\n",
    "print(W.shape)\n",
    "\n",
    "i_indices = torch.arange(L, device=device).unsqueeze(1)\n",
    "j_indices = torch.arange(L, device=device).unsqueeze(0)\n",
    "mask = (i_indices != j_indices).float().unsqueeze(0)  # shape (1, L, L)\n",
    "W = W * mask\n",
    "    \n",
    "# Compute Jtens\n",
    "Jtens = torch.einsum('hri,hab->abri', W, V_1)  # Shape: (q, q, L, L)\n",
    "q = Jtens.shape[0]\n",
    "N = Jtens.shape[2]\n",
    "print(q)\n",
    "print(N)\n",
    "print(Jtens.shape)\n",
    "print(Jtens.shape[-1])"
   ]
  },
  {
   "cell_type": "code",
   "execution_count": 8,
   "id": "e251b663",
   "metadata": {},
   "outputs": [
    {
     "name": "stdout",
     "output_type": "stream",
     "text": [
      "torch.Size([64, 63, 2])\n",
      "21\n",
      "63\n",
      "torch.Size([21, 35, 63, 2])\n"
     ]
    }
   ],
   "source": [
    "Q_1 = read_tensor_from_txt( cwd +\"/results/{H}_{d}_{family}_{losstype}_{n_epochs}_PCA_2models_35_bins/Q_tensor.txt\".format(H=H, d=d, family=family, losstype=loss_type, n_epochs=n_epochs))\n",
    "K_1 = read_tensor_from_txt( cwd +\"/results/{H}_{d}_{family}_{losstype}_{n_epochs}_PCA_2models_35_bins/K_tensor.txt\".format(H=H, d=d, family=family, losstype=loss_type, n_epochs=n_epochs))\n",
    "V_1 = read_tensor_from_txt( cwd +\"/results/{H}_{d}_{family}_{losstype}_{n_epochs}_PCA_2models_35_bins/V_tensor.txt\".format(H=H, d=d, family=family, losstype=loss_type, n_epochs=n_epochs))\n",
    "H,d,N1=Q_1.shape\n",
    "_,_,N2=K_1.shape\n",
    "_,q1,q2=V_1.shape\n",
    "model=AttentionModel_PCA(H,d,N1,N2,q1,q2,Q=Q_1,V=V_1,K=K_1)\n",
    "torch.sum(model.Q-Q_1)\n",
    "device = Q_1.device\n",
    "L = Q_1.shape[-1]\n",
    "W=attention_heads_from_model(model,Q_1,K_1,V_1)\n",
    "print(W.shape)\n",
    "\n",
    "# i_indices = torch.arange(L, device=device).unsqueeze(1)\n",
    "# j_indices = torch.arange(L, device=device).unsqueeze(0)\n",
    "# mask = (i_indices != j_indices).float().unsqueeze(0)  # shape (1, L, L)\n",
    "# W = W * mask\n",
    "    \n",
    "# Compute Jtens\n",
    "Jtens_PCA = torch.einsum('hri,hab->abri', W, V_1)  # Shape: (q, q, L, L)\n",
    "q = Jtens.shape[0]\n",
    "N = Jtens.shape[2]\n",
    "print(q)\n",
    "print(N)\n",
    "print(Jtens_PCA.shape)"
   ]
  },
  {
   "cell_type": "code",
   "execution_count": 9,
   "id": "dc1fce83",
   "metadata": {},
   "outputs": [
    {
     "ename": "AttributeError",
     "evalue": "'SequenceGill' object has no attribute 'L'",
     "output_type": "error",
     "traceback": [
      "\u001b[1;31m---------------------------------------------------------------------------\u001b[0m",
      "\u001b[1;31mAttributeError\u001b[0m                            Traceback (most recent call last)",
      "Cell \u001b[1;32mIn[9], line 16\u001b[0m\n\u001b[0;32m     14\u001b[0m     \u001b[38;5;28;01mif\u001b[39;00m b\u001b[38;5;241m!=\u001b[39m\u001b[38;5;241m1\u001b[39m:\n\u001b[0;32m     15\u001b[0m         save_name \u001b[38;5;241m=\u001b[39m \u001b[38;5;124mf\u001b[39m\u001b[38;5;124m\"\u001b[39m\u001b[38;5;124mgill_gen_seqs_randinit_Ns\u001b[39m\u001b[38;5;132;01m{\u001b[39;00mN_seqs\u001b[38;5;132;01m}\u001b[39;00m\u001b[38;5;124m_b_1_b_PCA\u001b[39m\u001b[38;5;132;01m{\u001b[39;00mb\u001b[38;5;132;01m}\u001b[39;00m\u001b[38;5;124m\"\u001b[39m\n\u001b[1;32m---> 16\u001b[0m         \u001b[43mgenerate_gill_n_save\u001b[49m\u001b[43m(\u001b[49m\u001b[43msave_dir\u001b[49m\u001b[43m,\u001b[49m\u001b[43m \u001b[49m\u001b[43msave_name\u001b[49m\u001b[43m,\u001b[49m\u001b[43m \u001b[49m\u001b[43mJtens\u001b[49m\u001b[43m,\u001b[49m\u001b[43m \u001b[49m\u001b[43mN_seqs\u001b[49m\u001b[43m,\u001b[49m\u001b[43m \u001b[49m\u001b[43minit_sequence\u001b[49m\u001b[38;5;241;43m=\u001b[39;49m\u001b[38;5;28;43;01mNone\u001b[39;49;00m\u001b[43m,\u001b[49m\u001b[43m \u001b[49m\u001b[43mbeta\u001b[49m\u001b[38;5;241;43m=\u001b[39;49m\u001b[38;5;241;43m1\u001b[39;49m\u001b[43m,\u001b[49m\u001b[43mnb_PCA_comp\u001b[49m\u001b[38;5;241;43m=\u001b[39;49m\u001b[43mnb_PCA_comp\u001b[49m\u001b[43m,\u001b[49m\u001b[43mJ_PCA\u001b[49m\u001b[38;5;241;43m=\u001b[39;49m\u001b[43mJtens_PCA\u001b[49m\u001b[43m,\u001b[49m\u001b[43mbeta_PCA\u001b[49m\u001b[38;5;241;43m=\u001b[39;49m\u001b[43mb\u001b[49m\u001b[43m,\u001b[49m\u001b[43mPCA_comp_list\u001b[49m\u001b[38;5;241;43m=\u001b[39;49m\u001b[43mnp\u001b[49m\u001b[38;5;241;43m.\u001b[39;49m\u001b[43marray\u001b[49m\u001b[43m(\u001b[49m\u001b[43m[\u001b[49m\u001b[38;5;241;43m23\u001b[39;49m\u001b[43m,\u001b[49m\u001b[38;5;241;43m23\u001b[39;49m\u001b[43m]\u001b[49m\u001b[43m)\u001b[49m\u001b[43m)\u001b[49m\n\u001b[0;32m     18\u001b[0m \u001b[38;5;66;03m##############################################################\u001b[39;00m\n\u001b[0;32m     20\u001b[0m \u001b[38;5;124;03m\"\"\"\u001b[39;00m\n\u001b[0;32m     21\u001b[0m \u001b[38;5;124;03m    Generate sequences with PLM initialization from a sequence\u001b[39;00m\n\u001b[0;32m     22\u001b[0m \u001b[38;5;124;03m\"\"\"\u001b[39;00m\n",
      "File \u001b[1;32mc:\\Users\\youss\\OneDrive\\Bureau\\master epfl\\MA2\\TP4 De los Rios\\PCA_gen_ai\\PCA_gen_AI\\CODE\\AttentionDCA_python\\src\\PLM\\gillespie_main.py:36\u001b[0m, in \u001b[0;36mgenerate_gill_n_save\u001b[1;34m(save_dir, save_name, J, N_seqs, init_sequence, beta, nb_PCA_comp, PCA_comp_list, J_PCA, beta_PCA)\u001b[0m\n\u001b[0;32m     29\u001b[0m \u001b[38;5;28;01mdef\u001b[39;00m \u001b[38;5;21mgenerate_gill_n_save\u001b[39m(save_dir, save_name, J, N_seqs\u001b[38;5;241m=\u001b[39m\u001b[38;5;241m10000\u001b[39m, init_sequence\u001b[38;5;241m=\u001b[39m\u001b[38;5;28;01mNone\u001b[39;00m,beta\u001b[38;5;241m=\u001b[39m\u001b[38;5;241m1\u001b[39m,nb_PCA_comp\u001b[38;5;241m=\u001b[39m\u001b[38;5;241m0\u001b[39m,PCA_comp_list\u001b[38;5;241m=\u001b[39mnp\u001b[38;5;241m.\u001b[39marray([]),J_PCA\u001b[38;5;241m=\u001b[39m\u001b[38;5;28;01mNone\u001b[39;00m,beta_PCA\u001b[38;5;241m=\u001b[39m\u001b[38;5;241m1\u001b[39m):\n\u001b[0;32m     30\u001b[0m \u001b[38;5;250m    \u001b[39m\u001b[38;5;124;03m\"\"\"\u001b[39;00m\n\u001b[0;32m     31\u001b[0m \u001b[38;5;124;03m    Generates a set of sequences using Gillespie and saves them both as a numpy file and a text file containing the corresponding letter sequences.\u001b[39;00m\n\u001b[0;32m     32\u001b[0m \u001b[38;5;124;03m    Saves:\u001b[39;00m\n\u001b[0;32m     33\u001b[0m \u001b[38;5;124;03m    - A `.npy` file containing the generated sequences in numerical format.\u001b[39;00m\n\u001b[0;32m     34\u001b[0m \u001b[38;5;124;03m    - A `.txt` file containing the generated sequences in letter format.\u001b[39;00m\n\u001b[0;32m     35\u001b[0m \u001b[38;5;124;03m    \"\"\"\u001b[39;00m\n\u001b[1;32m---> 36\u001b[0m     gen_sequences, time_seq \u001b[38;5;241m=\u001b[39m \u001b[43mgennerate_gill\u001b[49m\u001b[43m(\u001b[49m\u001b[43mJ\u001b[49m\u001b[43m,\u001b[49m\u001b[43m \u001b[49m\u001b[43mN_seqs\u001b[49m\u001b[43m,\u001b[49m\u001b[43m \u001b[49m\u001b[43minit_sequence\u001b[49m\u001b[43m,\u001b[49m\u001b[43mbeta\u001b[49m\u001b[38;5;241;43m=\u001b[39;49m\u001b[43mbeta\u001b[49m\u001b[43m,\u001b[49m\u001b[43mnb_PCA_comp\u001b[49m\u001b[38;5;241;43m=\u001b[39;49m\u001b[43mnb_PCA_comp\u001b[49m\u001b[43m,\u001b[49m\u001b[43mPCA_comp_list\u001b[49m\u001b[38;5;241;43m=\u001b[39;49m\u001b[43mPCA_comp_list\u001b[49m\u001b[43m,\u001b[49m\u001b[43mJ_PCA\u001b[49m\u001b[38;5;241;43m=\u001b[39;49m\u001b[43mJ_PCA\u001b[49m\u001b[43m,\u001b[49m\u001b[43mbeta_PCA\u001b[49m\u001b[38;5;241;43m=\u001b[39;49m\u001b[43mbeta_PCA\u001b[49m\u001b[43m)\u001b[49m\n\u001b[0;32m     37\u001b[0m     gen_sequences_letters \u001b[38;5;241m=\u001b[39m [nums_to_letters(sequence,nb_PCA_comp) \u001b[38;5;28;01mfor\u001b[39;00m sequence \u001b[38;5;129;01min\u001b[39;00m gen_sequences]\n\u001b[0;32m     39\u001b[0m     \u001b[38;5;28mprint\u001b[39m(\u001b[38;5;124mf\u001b[39m\u001b[38;5;124m\"\u001b[39m\u001b[38;5;124mGenerated sequences (letters): \u001b[39m\u001b[38;5;132;01m{\u001b[39;00mgen_sequences_letters[:\u001b[38;5;241m5\u001b[39m]\u001b[38;5;132;01m}\u001b[39;00m\u001b[38;5;124m\"\u001b[39m)  \u001b[38;5;66;03m# Show first 5 sequences\u001b[39;00m\n",
      "File \u001b[1;32mc:\\Users\\youss\\OneDrive\\Bureau\\master epfl\\MA2\\TP4 De los Rios\\PCA_gen_ai\\PCA_gen_AI\\CODE\\AttentionDCA_python\\src\\PLM\\gillespie_main.py:20\u001b[0m, in \u001b[0;36mgennerate_gill\u001b[1;34m(J, N_seqs, init_sequence, beta, nb_PCA_comp, PCA_comp_list, J_PCA, beta_PCA)\u001b[0m\n\u001b[0;32m     18\u001b[0m gen_sequences \u001b[38;5;241m=\u001b[39m []\n\u001b[0;32m     19\u001b[0m time_seq\u001b[38;5;241m=\u001b[39m[]\n\u001b[1;32m---> 20\u001b[0m seq \u001b[38;5;241m=\u001b[39m \u001b[43mSequenceGill\u001b[49m\u001b[43m(\u001b[49m\u001b[43mJ\u001b[49m\u001b[43m,\u001b[49m\u001b[43m \u001b[49m\u001b[43minit_sequence\u001b[49m\u001b[43m,\u001b[49m\u001b[43mbeta\u001b[49m\u001b[38;5;241;43m=\u001b[39;49m\u001b[43mbeta\u001b[49m\u001b[43m,\u001b[49m\u001b[43mnb_PCA_comp\u001b[49m\u001b[38;5;241;43m=\u001b[39;49m\u001b[43mnb_PCA_comp\u001b[49m\u001b[43m,\u001b[49m\u001b[43mPCA_component_list\u001b[49m\u001b[38;5;241;43m=\u001b[39;49m\u001b[43mPCA_comp_list\u001b[49m\u001b[43m,\u001b[49m\u001b[43mJ_tens_PCA\u001b[49m\u001b[38;5;241;43m=\u001b[39;49m\u001b[43mJ_PCA\u001b[49m\u001b[43m,\u001b[49m\u001b[43mbeta_PCA\u001b[49m\u001b[38;5;241;43m=\u001b[39;49m\u001b[43mbeta_PCA\u001b[49m\u001b[43m)\u001b[49m\n\u001b[0;32m     21\u001b[0m \u001b[38;5;28;01mfor\u001b[39;00m _ \u001b[38;5;129;01min\u001b[39;00m tqdm(\u001b[38;5;28mrange\u001b[39m(N_seqs)):\n\u001b[0;32m     22\u001b[0m     seq\u001b[38;5;241m.\u001b[39mdraw_aa()\n",
      "File \u001b[1;32mc:\\Users\\youss\\OneDrive\\Bureau\\master epfl\\MA2\\TP4 De los Rios\\PCA_gen_ai\\PCA_gen_AI\\CODE\\AttentionDCA_python\\src\\PLM\\gillespie.py:31\u001b[0m, in \u001b[0;36mSequenceGill.__init__\u001b[1;34m(self, J, initial_sequence, beta, time, nb_PCA_comp, PCA_component_list, J_tens_PCA, beta_PCA)\u001b[0m\n\u001b[0;32m     29\u001b[0m         \u001b[38;5;28mprint\u001b[39m(\u001b[38;5;124m\"\u001b[39m\u001b[38;5;124mMismatch of PCA tensor and nb PCA components indicated\u001b[39m\u001b[38;5;124m\"\u001b[39m)\n\u001b[0;32m     30\u001b[0m \u001b[38;5;28;01mif\u001b[39;00m initial_sequence \u001b[38;5;129;01mis\u001b[39;00m \u001b[38;5;28;01mNone\u001b[39;00m:\n\u001b[1;32m---> 31\u001b[0m     \u001b[38;5;28mself\u001b[39m\u001b[38;5;241m.\u001b[39msequence \u001b[38;5;241m=\u001b[39m np\u001b[38;5;241m.\u001b[39mrandom\u001b[38;5;241m.\u001b[39mchoice(np\u001b[38;5;241m.\u001b[39marange(\u001b[38;5;241m21\u001b[39m), \u001b[38;5;28;43mself\u001b[39;49m\u001b[38;5;241;43m.\u001b[39;49m\u001b[43mL\u001b[49m) \u001b[38;5;66;03m# Sequence of ints (1 to 21) \u001b[39;00m\n\u001b[0;32m     32\u001b[0m     \u001b[38;5;28;01mif\u001b[39;00m \u001b[38;5;28mlen\u001b[39m(PCA_component_list)\u001b[38;5;241m==\u001b[39mnb_PCA_comp:\n\u001b[0;32m     33\u001b[0m         \u001b[38;5;28mself\u001b[39m\u001b[38;5;241m.\u001b[39msequence \u001b[38;5;241m=\u001b[39m np\u001b[38;5;241m.\u001b[39mconcat((\u001b[38;5;28mself\u001b[39m\u001b[38;5;241m.\u001b[39msequence,PCA_component_list))\n",
      "\u001b[1;31mAttributeError\u001b[0m: 'SequenceGill' object has no attribute 'L'"
     ]
    }
   ],
   "source": [
    "\"\"\"\n",
    "    Generate sequences with PLM random initialization\n",
    "\"\"\"\n",
    "save_dir = \"gill_generated_sequences_2Model_PCA\"\n",
    "N_seqs = 30000\n",
    "save_name = \"generated_sequences_randinit_30000\"\n",
    "#generate_plm_n_save(save_dir, save_name, Jtens, N_seqs=N_seqs, init_sequence=None,nb_PCA_comp=2,PCA_comp_list=np.array([20,20]),J_PCA=Jtens_PCA)\n",
    "N_seqs=8000\n",
    "betas = [0.5, 1, 4, 10]\n",
    "\n",
    "for b in betas:\n",
    "    save_name = f\"gill_gen_seqs_randinit_Ns{N_seqs}_b{b}_b_PCA_1\"\n",
    "    #generate_plm_n_save(save_dir, save_name, Jtens, N_seqs, init_sequence=None,nb_PCA_comp=nb_PCA_comp, beta=b,J_PCA=Jtens_PCA,PCA_comp_list=np.array([23,23]))\n",
    "    if b!=1:\n",
    "        save_name = f\"gill_gen_seqs_randinit_Ns{N_seqs}_b_1_b_PCA{b}\"\n",
    "        generate_gill_n_save(save_dir, save_name, Jtens, N_seqs, init_sequence=None, beta=1,nb_PCA_comp=nb_PCA_comp,J_PCA=Jtens_PCA,beta_PCA=b,PCA_comp_list=np.array([23,23]))\n",
    "\n",
    "##############################################################\n",
    "\n",
    "\"\"\"\n",
    "    Generate sequences with PLM initialization from a sequence\n",
    "\"\"\"\n",
    "file_test_data=r\"C:\\Users\\youss\\OneDrive\\Bureau\\master epfl\\MA2\\TP4 De los Rios\\git_test\\PLM-gen-DCA\\Attention-DCA-main\\CODE\\DataAttentionDCA\\jdoms\\jdoms_bacteria_train2.fasta\"\n",
    "seq_data_test=read_fasta_alignment(file_test_data,0.8)\n",
    "\n",
    "print(seq_data_test.shape)\n",
    "seq_data_test_filtered,_=remove_duplicate_sequences(seq_data_test)\n",
    "seq_data_test_filtered=seq_data_test_filtered.T\n",
    "seq_data_test_filtered_with_PCA= add_PCA_coords(seq_data_test_filtered,35) #####DONT FORGET TO CHANGE NUMBER OF BINS IF NECESSARY\n",
    "\n",
    "\n",
    "#init_sequence = 'DYYQVLGVPKDADAKSIKKAFRKLARKYHPDVNPGDKEAERKFKEANEANEVLSDPEKRKKYD'\n",
    "init_sequence_num = seq_data_test_filtered_with_PCA[0]\n",
    "print(init_sequence_num[-2:])\n",
    "ratio = 0.4\n",
    "init_sequence_num = modify_seq(init_sequence_num, ratio,nb_PCA_comp=2)\n",
    "N_seqs=30000\n",
    "save_name = f\"gen_seqs_w_init_seq_Ns{N_seqs}_r{ratio}\"\n",
    "\n",
    "#generate_plm_n_save(save_dir, save_name, Jtens, N_seqs, init_sequence=init_sequence_num,nb_PCA_comp=nb_PCA_comp,J_PCA=Jtens_PCA)\n",
    "\n",
    "\"\"\"\n",
    "    Generate sequences with PLM initialization from a sequence different betas\n",
    "\"\"\"\n",
    "# init_sequence = 'DYYQVLGVPKDADAKSIKKAFRKLARKYHPDVNPGDKEAERKFKEANEANEVLSDPEKRKKYD'\n",
    "# init_sequence_num = letters_to_nums(init_sequence)\n",
    "# ratio = 0.1\n",
    "# init_sequence_num = modify_seq(init_sequence_num, ratio)\n",
    "\n",
    "N_seqs=15000\n",
    "betas = [0.01, 0.1, 0.5, 1, 2, 4,10]\n",
    "\n",
    "for b in betas:\n",
    "    save_name = f\"gen_seqs_w_init_seq_Ns{N_seqs}_r{ratio}_b{b}\"\n",
    "    #generate_plm_n_save(save_dir, save_name, Jtens, N_seqs, init_sequence=init_sequence_num,nb_PCA_comp=nb_PCA_comp, beta=b,J_PCA=Jtens_PCA)\n",
    "    if b!=1:\n",
    "        save_name = f\"gen_seqs_w_init_seq_Ns{N_seqs}_r{ratio}_b_1_b_PCA{b}\"\n",
    "        #generate_gill_n_save(save_dir, save_name, Jtens, N_seqs, init_sequence=init_sequence_num, beta=1,nb_PCA_comp=nb_PCA_comp,J_PCA=Jtens_PCA,beta_PCA=b)"
   ]
  }
 ],
 "metadata": {
  "kernelspec": {
   "display_name": "Python 3",
   "language": "python",
   "name": "python3"
  },
  "language_info": {
   "codemirror_mode": {
    "name": "ipython",
    "version": 3
   },
   "file_extension": ".py",
   "mimetype": "text/x-python",
   "name": "python",
   "nbconvert_exporter": "python",
   "pygments_lexer": "ipython3",
   "version": "3.12.4"
  }
 },
 "nbformat": 4,
 "nbformat_minor": 5
}
