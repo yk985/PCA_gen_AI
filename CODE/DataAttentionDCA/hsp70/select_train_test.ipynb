{
 "cells": [
  {
   "cell_type": "code",
   "execution_count": 3,
   "metadata": {},
   "outputs": [],
   "source": [
    "from matching import pick_training_MSA, species_labels_to_MSA, load_seqs, write_fasta\n",
    "import numpy as np"
   ]
  },
  {
   "cell_type": "markdown",
   "metadata": {},
   "source": [
    "# Filter refprot hsp70"
   ]
  },
  {
   "cell_type": "code",
   "execution_count": 9,
   "metadata": {},
   "outputs": [],
   "source": [
    "fastaname=\"./hsp70_refprot_filtered_new_before_species_filtering.fasta\"\n",
    "Ntrain=4100"
   ]
  },
  {
   "cell_type": "code",
   "execution_count": 10,
   "metadata": {},
   "outputs": [],
   "source": [
    "MSA_train, MSA_test, IDs_train, IDs_test = pick_training_MSA(fastaname, Ntrain, return_IDs=True, return_test=True)"
   ]
  },
  {
   "cell_type": "code",
   "execution_count": 11,
   "metadata": {},
   "outputs": [
    {
     "data": {
      "text/plain": [
       "(4099, 599)"
      ]
     },
     "execution_count": 11,
     "metadata": {},
     "output_type": "execute_result"
    }
   ],
   "source": [
    "MSA_train.shape"
   ]
  },
  {
   "cell_type": "code",
   "execution_count": 12,
   "metadata": {},
   "outputs": [
    {
     "data": {
      "text/plain": [
       "(672, 599)"
      ]
     },
     "execution_count": 12,
     "metadata": {},
     "output_type": "execute_result"
    }
   ],
   "source": [
    "MSA_test.shape"
   ]
  },
  {
   "cell_type": "code",
   "execution_count": 13,
   "metadata": {},
   "outputs": [],
   "source": [
    "MSA_train = np.delete(MSA_train, [377, 378], axis=1)\n",
    "MSA_test = np.delete(MSA_test, [377, 378], axis=1)"
   ]
  },
  {
   "cell_type": "code",
   "execution_count": 14,
   "metadata": {},
   "outputs": [],
   "source": [
    "write_fasta(\"hsp70_refprot_train_4099.fasta\", MSA_train, IDs_train)\n",
    "write_fasta(\"hsp70_refprot_test_672.fasta\", MSA_test, IDs_test)"
   ]
  },
  {
   "cell_type": "markdown",
   "metadata": {},
   "source": [
    "# Filter hsp70 francesco"
   ]
  },
  {
   "cell_type": "code",
   "execution_count": 20,
   "metadata": {},
   "outputs": [],
   "source": [
    "fastaname=\"./hsp70_generated_francesco_filtered.fasta\"\n",
    "Ntrain=7000"
   ]
  },
  {
   "cell_type": "code",
   "execution_count": 21,
   "metadata": {},
   "outputs": [],
   "source": [
    "MSA_train, MSA_test, IDs_train, IDs_test = pick_training_MSA(fastaname, Ntrain, return_IDs=True, return_test=True)"
   ]
  },
  {
   "cell_type": "code",
   "execution_count": 22,
   "metadata": {},
   "outputs": [
    {
     "data": {
      "text/plain": [
       "((6999, 597), (2325, 597))"
      ]
     },
     "execution_count": 22,
     "metadata": {},
     "output_type": "execute_result"
    }
   ],
   "source": [
    "MSA_train.shape, MSA_test.shape"
   ]
  },
  {
   "cell_type": "code",
   "execution_count": 23,
   "metadata": {},
   "outputs": [],
   "source": [
    "write_fasta(\"hsp70_gen_fra_train.fasta\", MSA_train, IDs_train)\n",
    "write_fasta(\"hsp70_gen_fra_test.fasta\", MSA_test, IDs_test)"
   ]
  },
  {
   "cell_type": "markdown",
   "metadata": {},
   "source": [
    "# Filter old"
   ]
  },
  {
   "cell_type": "code",
   "execution_count": null,
   "metadata": {},
   "outputs": [],
   "source": [
    "fastaname=\"./hps70_filtered.fasta\"\n",
    "Ntrain=10000"
   ]
  },
  {
   "cell_type": "code",
   "execution_count": 40,
   "metadata": {},
   "outputs": [],
   "source": [
    "train, id_train=load_seqs(\"./hsp70_train_new.fasta\", return_ID=True)\n",
    "test, id_test=load_seqs(\"./hsp70_test.fasta\", return_ID=True)"
   ]
  },
  {
   "cell_type": "code",
   "execution_count": 41,
   "metadata": {},
   "outputs": [],
   "source": [
    "test = np.delete(test, [377, 378], axis=1)"
   ]
  },
  {
   "cell_type": "code",
   "execution_count": 44,
   "metadata": {},
   "outputs": [
    {
     "data": {
      "text/plain": [
       "(9999, 597)"
      ]
     },
     "execution_count": 44,
     "metadata": {},
     "output_type": "execute_result"
    }
   ],
   "source": [
    "train.shape"
   ]
  },
  {
   "cell_type": "code",
   "execution_count": 42,
   "metadata": {},
   "outputs": [],
   "source": [
    "write_fasta(\"./hsp70_test_new.fasta\", test, id_test)"
   ]
  },
  {
   "cell_type": "code",
   "execution_count": 14,
   "metadata": {},
   "outputs": [
    {
     "data": {
      "text/plain": [
       "array(['S5R3X8|Candidatus Profftella armatura',\n",
       "       'A0A7Y4A4K3|Vibrio sp. RE86', 'A0A7Y4A4R5|Vibrio sp. RE86', ...,\n",
       "       'A0A7J5B1C6|Pseudoclavibacter terrae',\n",
       "       'A0A4P6H2Z4|Methylibium sp. Pch-M',\n",
       "       'A0A4P6H339|Methylibium sp. Pch-M'], dtype='<U162')"
      ]
     },
     "execution_count": 14,
     "metadata": {},
     "output_type": "execute_result"
    }
   ],
   "source": [
    "id_train"
   ]
  },
  {
   "cell_type": "code",
   "execution_count": 13,
   "metadata": {},
   "outputs": [
    {
     "data": {
      "text/plain": [
       "array(['A0A0D9RMF3|Chlorocebus sabaeus (Green monkey) (Cercopithecus sabaeus)',\n",
       "       'A0A1D8PG96|Candida albicans (strain SC5314 / ATCC MYA-2876) (Yeast)',\n",
       "       'A0A1U8BQW6|Mesocricetus auratus (Golden hamster)', ...,\n",
       "       'A0A8F2TCE3|Pieris rapae (Small white butterfly) (Artogeia rapae)',\n",
       "       'A0A8F2TDH6|Lasioderma serricorne (cigarette beetle)',\n",
       "       'A0A8F2URN1|Salmonella enterica subsp. enterica serovar Bovismorbificans str. Sal610'],\n",
       "      dtype='<U203')"
      ]
     },
     "execution_count": 13,
     "metadata": {},
     "output_type": "execute_result"
    }
   ],
   "source": [
    "id_test"
   ]
  },
  {
   "cell_type": "code",
   "execution_count": 5,
   "metadata": {},
   "outputs": [],
   "source": [
    "MSA_train, MSA_test, IDs_train, IDs_test = pick_training_MSA(fastaname, Ntrain, return_IDs=True, return_test=True)"
   ]
  },
  {
   "cell_type": "code",
   "execution_count": 6,
   "metadata": {},
   "outputs": [
    {
     "data": {
      "text/plain": [
       "(10033, 599)"
      ]
     },
     "execution_count": 6,
     "metadata": {},
     "output_type": "execute_result"
    }
   ],
   "source": [
    "MSA_train.shape"
   ]
  },
  {
   "cell_type": "code",
   "execution_count": 7,
   "metadata": {},
   "outputs": [
    {
     "data": {
      "text/plain": [
       "(82081, 599)"
      ]
     },
     "execution_count": 7,
     "metadata": {},
     "output_type": "execute_result"
    }
   ],
   "source": [
    "MSA_test.shape"
   ]
  },
  {
   "cell_type": "code",
   "execution_count": 5,
   "metadata": {},
   "outputs": [],
   "source": [
    "write_fasta(\"./hsp70_train.fasta\", MSA_train, IDs_train)"
   ]
  },
  {
   "cell_type": "code",
   "execution_count": 6,
   "metadata": {},
   "outputs": [],
   "source": [
    "write_fasta(\"./hsp70_test.fasta\", MSA_test, IDs_test)"
   ]
  },
  {
   "cell_type": "markdown",
   "metadata": {},
   "source": [
    "# Find seq for AF"
   ]
  },
  {
   "cell_type": "code",
   "execution_count": 33,
   "metadata": {},
   "outputs": [],
   "source": [
    "filename = 'hsp70_train.fasta'"
   ]
  },
  {
   "cell_type": "code",
   "execution_count": 34,
   "metadata": {},
   "outputs": [],
   "source": [
    "MSA_train, IDs_train = load_seqs(filename, return_ID=True)"
   ]
  },
  {
   "cell_type": "code",
   "execution_count": 35,
   "metadata": {},
   "outputs": [],
   "source": [
    "gap_counts=(MSA_train=='-').sum(axis=1)\n",
    "min_gaps = gap_counts.min()\n",
    "idx_min=np.where(gap_counts==min_gaps)[0][0]"
   ]
  },
  {
   "cell_type": "code",
   "execution_count": 36,
   "metadata": {},
   "outputs": [],
   "source": [
    "seq_AF = MSA_train[idx_min]\n",
    "id_AF = IDs_train[idx_min]"
   ]
  },
  {
   "cell_type": "code",
   "execution_count": 37,
   "metadata": {},
   "outputs": [
    {
     "data": {
      "text/plain": [
       "array([377, 378])"
      ]
     },
     "execution_count": 37,
     "metadata": {},
     "output_type": "execute_result"
    }
   ],
   "source": [
    "np.where(seq_AF=='-')[0]"
   ]
  },
  {
   "cell_type": "code",
   "execution_count": 38,
   "metadata": {},
   "outputs": [
    {
     "data": {
      "text/plain": [
       "'ILGIDLGTTNSCMAILEGGKPRVIENAEGQRTTPSVVAFTKEEVLVGQPAKRQAITNPENTLFAIKRLIGRKFDDPVVKKDMDMVPYKIVAAPNGDAWVEVPATGKKMAPPEISARVLKKLKEDAEAFLGEKITEAVITVPAYFNDSQRQATKDAGRIAGLEVKRIINEPTAAALAFGMDKQQGDRKIAVYDLGGGTFDISIIEMAEGQFEVLATNGDTFLGGEDFDKRVIDYLVDEFKKDSGIDLRNDPLALQRLKEAAEKAKIELSSTQQTDINLPYITADATGKHLNVKLTRAKLESLVEDLIDKTRGPCEMALKDAGLSASDIDDVILVGGQTRMPKVQEFVKEIFGKEPRKDVNPDEAVALGAAIQAGVLGG--EVKDVLLLDVTPLSLGIETLGGVMTKLIEKNTTIPTKASQIFSTAEDNQSAVTVHVLQGEREMAKDNKSLGKFELAGIPPAPRGVPQIEVTFDIDANGILHVSAKDKATGKEQSIVIKASSGLTEEEIEKMIRDAELHAEEDRRFKELVTARNEADSLIHATRKSLEELGDKVPADEKEKIEAAIKDLEETMKGDDKDAITAKTQALAELSGKLAQQMYQ'"
      ]
     },
     "execution_count": 38,
     "metadata": {},
     "output_type": "execute_result"
    }
   ],
   "source": [
    "''.join(seq_AF)"
   ]
  },
  {
   "cell_type": "code",
   "execution_count": 39,
   "metadata": {},
   "outputs": [
    {
     "data": {
      "text/plain": [
       "'A0A143WNT9|Tremblaya princeps'"
      ]
     },
     "execution_count": 39,
     "metadata": {},
     "output_type": "execute_result"
    }
   ],
   "source": [
    "id_AF"
   ]
  },
  {
   "cell_type": "code",
   "execution_count": 40,
   "metadata": {},
   "outputs": [],
   "source": [
    "MSA_train_new = np.delete(MSA_train, [377, 378], axis=1)"
   ]
  },
  {
   "cell_type": "code",
   "execution_count": 44,
   "metadata": {},
   "outputs": [],
   "source": [
    "write_fasta(\"./hsp70_train_new.fasta\", MSA_train_new, IDs_train)"
   ]
  }
 ],
 "metadata": {
  "kernelspec": {
   "display_name": "attDCA3",
   "language": "python",
   "name": "python3"
  },
  "language_info": {
   "codemirror_mode": {
    "name": "ipython",
    "version": 3
   },
   "file_extension": ".py",
   "mimetype": "text/x-python",
   "name": "python",
   "nbconvert_exporter": "python",
   "pygments_lexer": "ipython3",
   "version": "3.12.8"
  }
 },
 "nbformat": 4,
 "nbformat_minor": 2
}
